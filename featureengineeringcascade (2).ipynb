{
  "metadata": {
    "kernelspec": {
      "language": "python",
      "display_name": "Python 3",
      "name": "python3"
    },
    "language_info": {
      "name": "python",
      "version": "3.7.12",
      "mimetype": "text/x-python",
      "codemirror_mode": {
        "name": "ipython",
        "version": 3
      },
      "pygments_lexer": "ipython3",
      "nbconvert_exporter": "python",
      "file_extension": ".py"
    },
    "colab": {
      "name": "featureengineeringcascade.ipynb",
      "provenance": [],
      "collapsed_sections": [
        "XWEA5avUf0uE"
      ]
    },
    "widgets": {
      "application/vnd.jupyter.widget-state+json": {
        "a9f13a32775d445587f27aabc3683941": {
          "model_module": "jupyterlab-plotly",
          "model_name": "FigureModel",
          "model_module_version": "^5.5.0",
          "state": {
            "_view_name": "FigureView",
            "_py2js_animate": {},
            "_py2js_removeLayoutProps": {},
            "_last_trace_edit_id": 1841,
            "_view_module": "jupyterlab-plotly",
            "_model_module_version": "^5.5.0",
            "_view_count": 0,
            "_js2py_relayout": {},
            "_py2js_moveTraces": {},
            "_py2js_addTraces": {},
            "_model_module": "jupyterlab-plotly",
            "_py2js_relayout": null,
            "_js2py_pointsCallback": {},
            "_js2py_update": {},
            "_js2py_restyle": {},
            "_py2js_removeTraceProps": {},
            "_py2js_deleteTraces": {},
            "_dom_classes": [],
            "_model_name": "FigureModel",
            "_layout": {
              "yaxis": {
                "title": {
                  "text": "Score"
                }
              },
              "xaxis": {
                "title": {
                  "text": "Iteration"
                },
                "rangemode": "tozero"
              },
              "title": {
                "text": "Pipeline Search: Iteration vs. Log Loss Binary<br><sub>Gray marker indicates the score at current iteration</sub>"
              }
            },
            "_js2py_layoutDelta": {},
            "_py2js_update": null,
            "_data": [
              {
                "uid": "b027fc12-35e2-42d9-bc4a-cf34aabf1489",
                "mode": "lines+markers",
                "y": [],
                "x": [],
                "type": "scatter",
                "name": "Best Score"
              },
              {
                "name": "Iter score",
                "y": [],
                "mode": "markers",
                "marker": {
                  "color": "gray"
                },
                "x": [],
                "type": "scatter",
                "uid": "1fa474d1-1d7d-45a5-ab3e-adb026e8edc8"
              }
            ],
            "_config": {
              "plotlyServerURL": "https://plot.ly"
            },
            "_py2js_restyle": null,
            "_view_module_version": "^5.5.0",
            "_last_layout_edit_id": 1841,
            "_js2py_traceDeltas": {}
          }
        }
      }
    }
  },
  "nbformat_minor": 0,
  "nbformat": 4,
  "cells": [
    {
      "cell_type": "code",
      "source": [
        "from google.colab import drive\n",
        "drive.mount('/content/drive')"
      ],
      "metadata": {
        "colab": {
          "base_uri": "https://localhost:8080/"
        },
        "id": "sUbKySbahD8j",
        "outputId": "6475faeb-f0f2-4989-f444-4246c5d3615d"
      },
      "execution_count": null,
      "outputs": [
        {
          "output_type": "stream",
          "name": "stdout",
          "text": [
            "Mounted at /content/drive\n"
          ]
        }
      ]
    },
    {
      "cell_type": "code",
      "source": [
        "df = pd.read_csv('/content/drive/MyDrive/Cascade Cup IIT Guwahati/train.csv/train.csv')"
      ],
      "metadata": {
        "id": "C_3EUAJNKn-b"
      },
      "execution_count": null,
      "outputs": []
    },
    {
      "cell_type": "code",
      "source": [
        "df.columns"
      ],
      "metadata": {
        "execution": {
          "iopub.status.busy": "2022-02-03T15:51:06.924278Z",
          "iopub.execute_input": "2022-02-03T15:51:06.925086Z",
          "iopub.status.idle": "2022-02-03T15:51:06.931671Z",
          "shell.execute_reply.started": "2022-02-03T15:51:06.925020Z",
          "shell.execute_reply": "2022-02-03T15:51:06.930824Z"
        },
        "trusted": true,
        "colab": {
          "base_uri": "https://localhost:8080/"
        },
        "id": "_c27n4uUf0tJ",
        "outputId": "40367ee6-b01d-4c3b-ff2f-ffd575777972"
      },
      "execution_count": null,
      "outputs": [
        {
          "output_type": "execute_result",
          "data": {
            "text/plain": [
              "Index(['order_time', 'order_id', 'order_date', 'allot_time', 'accept_time',\n",
              "       'pickup_time', 'delivered_time', 'rider_id', 'first_mile_distance',\n",
              "       'last_mile_distance', 'alloted_orders', 'delivered_orders', 'cancelled',\n",
              "       'undelivered_orders', 'lifetime_order_count', 'reassignment_method',\n",
              "       'reassignment_reason', 'reassigned_order', 'session_time',\n",
              "       'cancelled_time'],\n",
              "      dtype='object')"
            ]
          },
          "metadata": {},
          "execution_count": 3
        }
      ]
    },
    {
      "cell_type": "code",
      "source": [
        "df.drop(['reassignment_reason', 'reassigned_order','reassignment_method'], axis = 1, inplace = True)\n",
        "#df.drop(['reassignment_reason_None'], axis = 1, inplace = True)\n"
      ],
      "metadata": {
        "execution": {
          "iopub.status.busy": "2022-02-03T15:51:06.932981Z",
          "iopub.execute_input": "2022-02-03T15:51:06.933212Z",
          "iopub.status.idle": "2022-02-03T15:51:06.997714Z",
          "shell.execute_reply.started": "2022-02-03T15:51:06.933184Z",
          "shell.execute_reply": "2022-02-03T15:51:06.996768Z"
        },
        "trusted": true,
        "id": "36sPsyFCf0tL"
      },
      "execution_count": null,
      "outputs": []
    },
    {
      "cell_type": "code",
      "source": [
        "df.columns"
      ],
      "metadata": {
        "execution": {
          "iopub.status.busy": "2022-02-03T15:51:07.000613Z",
          "iopub.execute_input": "2022-02-03T15:51:07.000949Z",
          "iopub.status.idle": "2022-02-03T15:51:07.007630Z",
          "shell.execute_reply.started": "2022-02-03T15:51:07.000904Z",
          "shell.execute_reply": "2022-02-03T15:51:07.006893Z"
        },
        "trusted": true,
        "colab": {
          "base_uri": "https://localhost:8080/"
        },
        "id": "GiQ2xynrf0tN",
        "outputId": "9f7055e8-d102-4f17-e9c2-5ea978018415"
      },
      "execution_count": null,
      "outputs": [
        {
          "output_type": "execute_result",
          "data": {
            "text/plain": [
              "Index(['order_time', 'order_id', 'order_date', 'allot_time', 'accept_time',\n",
              "       'pickup_time', 'delivered_time', 'rider_id', 'first_mile_distance',\n",
              "       'last_mile_distance', 'alloted_orders', 'delivered_orders', 'cancelled',\n",
              "       'undelivered_orders', 'lifetime_order_count', 'session_time',\n",
              "       'cancelled_time'],\n",
              "      dtype='object')"
            ]
          },
          "metadata": {},
          "execution_count": 5
        }
      ]
    },
    {
      "cell_type": "code",
      "source": [
        "#Replacing nan values with 0\n",
        "df['alloted_orders'] = df['alloted_orders'].fillna(0)\n",
        "#Converting dtype of alloted_orders from float to int \n",
        "df[\"alloted_orders\"] = df[\"alloted_orders\"].astype(float).astype(int)\n"
      ],
      "metadata": {
        "execution": {
          "iopub.status.busy": "2022-02-03T15:51:07.008754Z",
          "iopub.execute_input": "2022-02-03T15:51:07.009106Z",
          "iopub.status.idle": "2022-02-03T15:51:07.029826Z",
          "shell.execute_reply.started": "2022-02-03T15:51:07.009077Z",
          "shell.execute_reply": "2022-02-03T15:51:07.029081Z"
        },
        "trusted": true,
        "id": "7ESSxmYIf0tO"
      },
      "execution_count": null,
      "outputs": []
    },
    {
      "cell_type": "code",
      "source": [
        "#Replacing nan values with 0\n",
        "df['delivered_orders'] = df['delivered_orders'].fillna(0)\n",
        "#Converting dtype of delivered_orders from float to int \n",
        "df[\"delivered_orders\"] = df[\"delivered_orders\"].astype(float).astype(int)\n"
      ],
      "metadata": {
        "execution": {
          "iopub.status.busy": "2022-02-03T15:51:07.030949Z",
          "iopub.execute_input": "2022-02-03T15:51:07.031293Z",
          "iopub.status.idle": "2022-02-03T15:51:07.046087Z",
          "shell.execute_reply.started": "2022-02-03T15:51:07.031263Z",
          "shell.execute_reply": "2022-02-03T15:51:07.045254Z"
        },
        "trusted": true,
        "id": "jVX1c02xf0tS"
      },
      "execution_count": null,
      "outputs": []
    },
    {
      "cell_type": "code",
      "source": [
        "#Replacing nan values with 0\n",
        "df['undelivered_orders'] = df['undelivered_orders'].fillna(0)\n",
        "#Converting dtype of undelivered_orders from float to int \n",
        "df[\"undelivered_orders\"] = df[\"undelivered_orders\"].astype(float).astype(int)\n"
      ],
      "metadata": {
        "execution": {
          "iopub.status.busy": "2022-02-03T15:51:07.047767Z",
          "iopub.execute_input": "2022-02-03T15:51:07.048600Z",
          "iopub.status.idle": "2022-02-03T15:51:07.069200Z",
          "shell.execute_reply.started": "2022-02-03T15:51:07.048516Z",
          "shell.execute_reply": "2022-02-03T15:51:07.068490Z"
        },
        "trusted": true,
        "id": "AGUIrU4Yf0tV"
      },
      "execution_count": null,
      "outputs": []
    },
    {
      "cell_type": "code",
      "source": [
        "#Replacing nan values with 0\n",
        "df['lifetime_order_count'] = df['lifetime_order_count'].fillna(0)\n",
        "#Converting dtype of lifetime_order_count from float to int \n",
        "df[\"lifetime_order_count\"] = df[\"lifetime_order_count\"].astype(float).astype(int)\n"
      ],
      "metadata": {
        "execution": {
          "iopub.status.busy": "2022-02-03T15:51:07.070255Z",
          "iopub.execute_input": "2022-02-03T15:51:07.070731Z",
          "iopub.status.idle": "2022-02-03T15:51:07.088846Z",
          "shell.execute_reply.started": "2022-02-03T15:51:07.070696Z",
          "shell.execute_reply": "2022-02-03T15:51:07.087836Z"
        },
        "trusted": true,
        "id": "phlYNZTCf0tY"
      },
      "execution_count": null,
      "outputs": []
    },
    {
      "cell_type": "code",
      "source": [
        "#Replacing nan values with 0\n",
        "df['session_time'] = df['session_time'].fillna(0)\n",
        "#Converting dtype of session_time from float to int \n",
        "df[\"session_time\"] = df[\"session_time\"].astype(float).astype(int)\n"
      ],
      "metadata": {
        "execution": {
          "iopub.status.busy": "2022-02-03T15:51:07.090251Z",
          "iopub.execute_input": "2022-02-03T15:51:07.090514Z",
          "iopub.status.idle": "2022-02-03T15:51:07.107168Z",
          "shell.execute_reply.started": "2022-02-03T15:51:07.090480Z",
          "shell.execute_reply": "2022-02-03T15:51:07.106077Z"
        },
        "trusted": true,
        "id": "5CX2hlerf0tc"
      },
      "execution_count": null,
      "outputs": []
    },
    {
      "cell_type": "code",
      "source": [
        "#If 'coerce', then invalid parsing will be set as NaT.\n",
        "\n",
        "df['accept_time'] = pd.to_datetime(df['accept_time'], \n",
        " format = '%Y-%m-%d %H:%M:%S', \n",
        " errors = 'coerce')\n",
        "\n",
        "df['order_time'] = pd.to_datetime(df['order_time'], \n",
        " format = '%Y-%m-%d %H:%M:%S', \n",
        " errors = 'coerce')\n",
        "\n",
        "df['order_date'] = pd.to_datetime(df['order_date'], \n",
        " format = '%Y-%m-%d %H:%M:%S', \n",
        " errors = 'coerce')\n",
        "\n",
        "df['allot_time'] = pd.to_datetime(df['allot_time'], \n",
        " format = '%Y-%m-%d %H:%M:%S', \n",
        " errors = 'coerce')\n"
      ],
      "metadata": {
        "execution": {
          "iopub.status.busy": "2022-02-03T15:51:07.109216Z",
          "iopub.execute_input": "2022-02-03T15:51:07.109463Z",
          "iopub.status.idle": "2022-02-03T15:51:07.795196Z",
          "shell.execute_reply.started": "2022-02-03T15:51:07.109431Z",
          "shell.execute_reply": "2022-02-03T15:51:07.794297Z"
        },
        "trusted": true,
        "id": "iNcWSyRwf0te"
      },
      "execution_count": null,
      "outputs": []
    },
    {
      "cell_type": "code",
      "source": [
        "df['pickup_time'] = pd.to_datetime(df['pickup_time'], \n",
        " format = '%Y-%m-%d %H:%M:%S', \n",
        " errors = 'coerce')"
      ],
      "metadata": {
        "id": "KIDVyu3tVpn4"
      },
      "execution_count": null,
      "outputs": []
    },
    {
      "cell_type": "code",
      "source": [
        "df['delivered_time'] = pd.to_datetime(df['delivered_time'], \n",
        " format = '%Y-%m-%d %H:%M:%S', \n",
        " errors = 'coerce')"
      ],
      "metadata": {
        "id": "nXlCoKxBWDSP"
      },
      "execution_count": null,
      "outputs": []
    },
    {
      "cell_type": "markdown",
      "source": [
        "df['pickup_time'] = pd.to_datetime(df['pickup_time'], \n",
        " format = '%Y-%m-%d %H:%M:%S', \n",
        " errors = 'coerce')\n",
        "\n",
        "df['delivered_time'] = pd.to_datetime(df['delivered_time'], \n",
        " format = '%Y-%m-%d %H:%M:%S', \n",
        " errors = 'coerce')\n",
        "\n",
        "df['cancelled_time'] = pd.to_datetime(df['cancelled_time'], \n",
        " format = '%Y-%m-%d %H:%M:%S', \n",
        " errors = 'coerce')"
      ],
      "metadata": {
        "id": "cf_fp0wPf0th"
      }
    },
    {
      "cell_type": "code",
      "source": [
        "df['diffAllotOrder'] = (df['allot_time']-df['order_time'])\n",
        "df['diffAcceptOrder'] = (df['accept_time']-df['order_time'])\n",
        "df['diffAcceptAllot'] = (df['accept_time']-df['allot_time'])\n"
      ],
      "metadata": {
        "execution": {
          "iopub.status.busy": "2022-02-03T15:51:07.796954Z",
          "iopub.execute_input": "2022-02-03T15:51:07.797206Z",
          "iopub.status.idle": "2022-02-03T15:51:07.827671Z",
          "shell.execute_reply.started": "2022-02-03T15:51:07.797165Z",
          "shell.execute_reply": "2022-02-03T15:51:07.826656Z"
        },
        "trusted": true,
        "id": "kUoEqleVf0tl"
      },
      "execution_count": null,
      "outputs": []
    },
    {
      "cell_type": "code",
      "source": [
        "df['diffAllotOrder'] = df['diffAllotOrder'].dt.total_seconds()\n",
        "df['diffAcceptOrder']  = df['diffAcceptOrder'].dt.total_seconds()\n",
        "df['diffAcceptAllot']  = df['diffAcceptAllot'].dt.total_seconds()"
      ],
      "metadata": {
        "execution": {
          "iopub.status.busy": "2022-02-03T15:51:07.828966Z",
          "iopub.execute_input": "2022-02-03T15:51:07.829209Z",
          "iopub.status.idle": "2022-02-03T15:51:07.848685Z",
          "shell.execute_reply.started": "2022-02-03T15:51:07.829178Z",
          "shell.execute_reply": "2022-02-03T15:51:07.847689Z"
        },
        "trusted": true,
        "id": "3BAjHbykf0tm"
      },
      "execution_count": null,
      "outputs": []
    },
    {
      "cell_type": "code",
      "source": [
        "df['diffAllotOrder'] = df['diffAllotOrder'].fillna(0)\n",
        "df['diffAcceptOrder'] = df['diffAcceptOrder'].fillna(0)\n",
        "df['diffAcceptAllot'] = df['diffAcceptAllot'].fillna(0)\n"
      ],
      "metadata": {
        "execution": {
          "iopub.status.busy": "2022-02-03T15:51:08.014388Z",
          "iopub.execute_input": "2022-02-03T15:51:08.014752Z",
          "iopub.status.idle": "2022-02-03T15:51:08.032498Z",
          "shell.execute_reply.started": "2022-02-03T15:51:08.014714Z",
          "shell.execute_reply": "2022-02-03T15:51:08.031128Z"
        },
        "trusted": true,
        "id": "u3fUHlv5f0to"
      },
      "execution_count": null,
      "outputs": []
    },
    {
      "cell_type": "code",
      "source": [
        "df.columns"
      ],
      "metadata": {
        "execution": {
          "iopub.status.busy": "2022-02-03T15:51:08.247129Z",
          "iopub.execute_input": "2022-02-03T15:51:08.247448Z",
          "iopub.status.idle": "2022-02-03T15:51:08.254664Z",
          "shell.execute_reply.started": "2022-02-03T15:51:08.247417Z",
          "shell.execute_reply": "2022-02-03T15:51:08.253449Z"
        },
        "trusted": true,
        "colab": {
          "base_uri": "https://localhost:8080/"
        },
        "id": "Ur25bbZqf0tq",
        "outputId": "ba92c53b-0522-4cb8-d50b-ef5c3040c46e"
      },
      "execution_count": null,
      "outputs": [
        {
          "output_type": "execute_result",
          "data": {
            "text/plain": [
              "Index(['order_time', 'order_id', 'order_date', 'allot_time', 'accept_time',\n",
              "       'pickup_time', 'delivered_time', 'rider_id', 'first_mile_distance',\n",
              "       'last_mile_distance', 'alloted_orders', 'delivered_orders', 'cancelled',\n",
              "       'undelivered_orders', 'lifetime_order_count', 'session_time',\n",
              "       'cancelled_time', 'diffAllotOrder', 'diffAcceptOrder',\n",
              "       'diffAcceptAllot'],\n",
              "      dtype='object')"
            ]
          },
          "metadata": {},
          "execution_count": 17
        }
      ]
    },
    {
      "cell_type": "code",
      "source": [
        "df['total_distance'] = df['first_mile_distance'] + df['last_mile_distance']"
      ],
      "metadata": {
        "execution": {
          "iopub.status.busy": "2022-02-03T15:51:08.490252Z",
          "iopub.execute_input": "2022-02-03T15:51:08.491299Z",
          "iopub.status.idle": "2022-02-03T15:51:08.500089Z",
          "shell.execute_reply.started": "2022-02-03T15:51:08.491225Z",
          "shell.execute_reply": "2022-02-03T15:51:08.499085Z"
        },
        "trusted": true,
        "id": "zC6Oq5tLf0tq"
      },
      "execution_count": null,
      "outputs": []
    },
    {
      "cell_type": "code",
      "source": [
        "df['order_week'] = df['order_time'].dt.dayofweek\n"
      ],
      "metadata": {
        "execution": {
          "iopub.status.busy": "2022-02-03T15:51:08.715767Z",
          "iopub.execute_input": "2022-02-03T15:51:08.716203Z",
          "iopub.status.idle": "2022-02-03T15:51:08.769363Z",
          "shell.execute_reply.started": "2022-02-03T15:51:08.716171Z",
          "shell.execute_reply": "2022-02-03T15:51:08.768142Z"
        },
        "trusted": true,
        "id": "k6LV2YCAf0ts"
      },
      "execution_count": null,
      "outputs": []
    },
    {
      "cell_type": "code",
      "source": [
        "df.groupby('order_week').size()\n"
      ],
      "metadata": {
        "execution": {
          "iopub.status.busy": "2022-02-03T15:51:08.955050Z",
          "iopub.execute_input": "2022-02-03T15:51:08.955373Z",
          "iopub.status.idle": "2022-02-03T15:51:08.972859Z",
          "shell.execute_reply.started": "2022-02-03T15:51:08.955341Z",
          "shell.execute_reply": "2022-02-03T15:51:08.971622Z"
        },
        "trusted": true,
        "colab": {
          "base_uri": "https://localhost:8080/"
        },
        "id": "oiMiz20Hf0tt",
        "outputId": "39fc6c18-bc3b-45d2-d085-8ae7b96bbe5c"
      },
      "execution_count": null,
      "outputs": [
        {
          "output_type": "execute_result",
          "data": {
            "text/plain": [
              "order_week\n",
              "0    37833\n",
              "1    78965\n",
              "2    80462\n",
              "3    80468\n",
              "4    83548\n",
              "5    49470\n",
              "6    39254\n",
              "dtype: int64"
            ]
          },
          "metadata": {},
          "execution_count": 20
        }
      ]
    },
    {
      "cell_type": "code",
      "source": [
        "df['order_hour'] = df['order_time'].dt.hour\n"
      ],
      "metadata": {
        "execution": {
          "iopub.status.busy": "2022-02-03T15:51:09.176625Z",
          "iopub.execute_input": "2022-02-03T15:51:09.176941Z",
          "iopub.status.idle": "2022-02-03T15:51:09.224923Z",
          "shell.execute_reply.started": "2022-02-03T15:51:09.176907Z",
          "shell.execute_reply": "2022-02-03T15:51:09.223919Z"
        },
        "trusted": true,
        "id": "X9k-eQejf0tu"
      },
      "execution_count": null,
      "outputs": []
    },
    {
      "cell_type": "code",
      "source": [
        "df.describe()"
      ],
      "metadata": {
        "colab": {
          "base_uri": "https://localhost:8080/",
          "height": 364
        },
        "id": "W5W7ZRQPWJdv",
        "outputId": "57f15c44-1852-46a3-9b8e-2cd8b0982d21"
      },
      "execution_count": null,
      "outputs": [
        {
          "output_type": "execute_result",
          "data": {
            "text/html": [
              "\n",
              "  <div id=\"df-5327697b-8217-4d42-8519-7f31907bd291\">\n",
              "    <div class=\"colab-df-container\">\n",
              "      <div>\n",
              "<style scoped>\n",
              "    .dataframe tbody tr th:only-of-type {\n",
              "        vertical-align: middle;\n",
              "    }\n",
              "\n",
              "    .dataframe tbody tr th {\n",
              "        vertical-align: top;\n",
              "    }\n",
              "\n",
              "    .dataframe thead th {\n",
              "        text-align: right;\n",
              "    }\n",
              "</style>\n",
              "<table border=\"1\" class=\"dataframe\">\n",
              "  <thead>\n",
              "    <tr style=\"text-align: right;\">\n",
              "      <th></th>\n",
              "      <th>order_id</th>\n",
              "      <th>rider_id</th>\n",
              "      <th>first_mile_distance</th>\n",
              "      <th>last_mile_distance</th>\n",
              "      <th>alloted_orders</th>\n",
              "      <th>delivered_orders</th>\n",
              "      <th>cancelled</th>\n",
              "      <th>undelivered_orders</th>\n",
              "      <th>lifetime_order_count</th>\n",
              "      <th>session_time</th>\n",
              "      <th>diffAllotOrder</th>\n",
              "      <th>diffAcceptOrder</th>\n",
              "      <th>diffAcceptAllot</th>\n",
              "      <th>total_distance</th>\n",
              "      <th>order_week</th>\n",
              "      <th>order_hour</th>\n",
              "    </tr>\n",
              "  </thead>\n",
              "  <tbody>\n",
              "    <tr>\n",
              "      <th>count</th>\n",
              "      <td>450000.000000</td>\n",
              "      <td>450000.000000</td>\n",
              "      <td>450000.000000</td>\n",
              "      <td>450000.000000</td>\n",
              "      <td>450000.000000</td>\n",
              "      <td>450000.000000</td>\n",
              "      <td>450000.000000</td>\n",
              "      <td>450000.000000</td>\n",
              "      <td>450000.000000</td>\n",
              "      <td>450000.000000</td>\n",
              "      <td>450000.000000</td>\n",
              "      <td>450000.000000</td>\n",
              "      <td>450000.000000</td>\n",
              "      <td>450000.000000</td>\n",
              "      <td>450000.000000</td>\n",
              "      <td>450000.000000</td>\n",
              "    </tr>\n",
              "    <tr>\n",
              "      <th>mean</th>\n",
              "      <td>369143.080767</td>\n",
              "      <td>7763.244016</td>\n",
              "      <td>1.229889</td>\n",
              "      <td>2.968873</td>\n",
              "      <td>100.680653</td>\n",
              "      <td>99.944660</td>\n",
              "      <td>0.011596</td>\n",
              "      <td>0.734718</td>\n",
              "      <td>853.540124</td>\n",
              "      <td>218.187691</td>\n",
              "      <td>73.199969</td>\n",
              "      <td>134.017927</td>\n",
              "      <td>60.984378</td>\n",
              "      <td>4.198762</td>\n",
              "      <td>2.885242</td>\n",
              "      <td>12.723800</td>\n",
              "    </tr>\n",
              "    <tr>\n",
              "      <th>std</th>\n",
              "      <td>131146.906408</td>\n",
              "      <td>5592.880135</td>\n",
              "      <td>0.846183</td>\n",
              "      <td>1.884124</td>\n",
              "      <td>90.637362</td>\n",
              "      <td>90.144218</td>\n",
              "      <td>0.107057</td>\n",
              "      <td>1.056017</td>\n",
              "      <td>1502.916200</td>\n",
              "      <td>177.099963</td>\n",
              "      <td>275.048691</td>\n",
              "      <td>283.917223</td>\n",
              "      <td>107.441954</td>\n",
              "      <td>2.163998</td>\n",
              "      <td>1.742036</td>\n",
              "      <td>3.619623</td>\n",
              "    </tr>\n",
              "    <tr>\n",
              "      <th>min</th>\n",
              "      <td>118350.000000</td>\n",
              "      <td>0.000000</td>\n",
              "      <td>0.000134</td>\n",
              "      <td>0.000000</td>\n",
              "      <td>0.000000</td>\n",
              "      <td>0.000000</td>\n",
              "      <td>0.000000</td>\n",
              "      <td>0.000000</td>\n",
              "      <td>0.000000</td>\n",
              "      <td>0.000000</td>\n",
              "      <td>0.000000</td>\n",
              "      <td>0.000000</td>\n",
              "      <td>-28534.000000</td>\n",
              "      <td>0.003224</td>\n",
              "      <td>0.000000</td>\n",
              "      <td>0.000000</td>\n",
              "    </tr>\n",
              "    <tr>\n",
              "      <th>25%</th>\n",
              "      <td>257342.750000</td>\n",
              "      <td>2805.000000</td>\n",
              "      <td>0.539575</td>\n",
              "      <td>1.470000</td>\n",
              "      <td>31.000000</td>\n",
              "      <td>31.000000</td>\n",
              "      <td>0.000000</td>\n",
              "      <td>0.000000</td>\n",
              "      <td>165.000000</td>\n",
              "      <td>82.000000</td>\n",
              "      <td>1.000000</td>\n",
              "      <td>33.000000</td>\n",
              "      <td>14.000000</td>\n",
              "      <td>2.517800</td>\n",
              "      <td>1.000000</td>\n",
              "      <td>9.000000</td>\n",
              "    </tr>\n",
              "    <tr>\n",
              "      <th>50%</th>\n",
              "      <td>369842.500000</td>\n",
              "      <td>6754.000000</td>\n",
              "      <td>1.138700</td>\n",
              "      <td>2.670000</td>\n",
              "      <td>77.000000</td>\n",
              "      <td>77.000000</td>\n",
              "      <td>0.000000</td>\n",
              "      <td>0.000000</td>\n",
              "      <td>396.000000</td>\n",
              "      <td>173.000000</td>\n",
              "      <td>15.000000</td>\n",
              "      <td>64.000000</td>\n",
              "      <td>37.000000</td>\n",
              "      <td>3.977900</td>\n",
              "      <td>3.000000</td>\n",
              "      <td>14.000000</td>\n",
              "    </tr>\n",
              "    <tr>\n",
              "      <th>75%</th>\n",
              "      <td>482342.250000</td>\n",
              "      <td>11965.000000</td>\n",
              "      <td>1.853000</td>\n",
              "      <td>4.220000</td>\n",
              "      <td>144.000000</td>\n",
              "      <td>143.000000</td>\n",
              "      <td>0.000000</td>\n",
              "      <td>1.000000</td>\n",
              "      <td>948.000000</td>\n",
              "      <td>314.000000</td>\n",
              "      <td>48.000000</td>\n",
              "      <td>112.000000</td>\n",
              "      <td>63.000000</td>\n",
              "      <td>5.601600</td>\n",
              "      <td>4.000000</td>\n",
              "      <td>16.000000</td>\n",
              "    </tr>\n",
              "    <tr>\n",
              "      <th>max</th>\n",
              "      <td>594842.000000</td>\n",
              "      <td>21566.000000</td>\n",
              "      <td>42.038100</td>\n",
              "      <td>22.410000</td>\n",
              "      <td>567.000000</td>\n",
              "      <td>562.000000</td>\n",
              "      <td>1.000000</td>\n",
              "      <td>9.000000</td>\n",
              "      <td>30469.000000</td>\n",
              "      <td>1298.000000</td>\n",
              "      <td>32334.000000</td>\n",
              "      <td>15598.000000</td>\n",
              "      <td>930.000000</td>\n",
              "      <td>45.828100</td>\n",
              "      <td>6.000000</td>\n",
              "      <td>21.000000</td>\n",
              "    </tr>\n",
              "  </tbody>\n",
              "</table>\n",
              "</div>\n",
              "      <button class=\"colab-df-convert\" onclick=\"convertToInteractive('df-5327697b-8217-4d42-8519-7f31907bd291')\"\n",
              "              title=\"Convert this dataframe to an interactive table.\"\n",
              "              style=\"display:none;\">\n",
              "        \n",
              "  <svg xmlns=\"http://www.w3.org/2000/svg\" height=\"24px\"viewBox=\"0 0 24 24\"\n",
              "       width=\"24px\">\n",
              "    <path d=\"M0 0h24v24H0V0z\" fill=\"none\"/>\n",
              "    <path d=\"M18.56 5.44l.94 2.06.94-2.06 2.06-.94-2.06-.94-.94-2.06-.94 2.06-2.06.94zm-11 1L8.5 8.5l.94-2.06 2.06-.94-2.06-.94L8.5 2.5l-.94 2.06-2.06.94zm10 10l.94 2.06.94-2.06 2.06-.94-2.06-.94-.94-2.06-.94 2.06-2.06.94z\"/><path d=\"M17.41 7.96l-1.37-1.37c-.4-.4-.92-.59-1.43-.59-.52 0-1.04.2-1.43.59L10.3 9.45l-7.72 7.72c-.78.78-.78 2.05 0 2.83L4 21.41c.39.39.9.59 1.41.59.51 0 1.02-.2 1.41-.59l7.78-7.78 2.81-2.81c.8-.78.8-2.07 0-2.86zM5.41 20L4 18.59l7.72-7.72 1.47 1.35L5.41 20z\"/>\n",
              "  </svg>\n",
              "      </button>\n",
              "      \n",
              "  <style>\n",
              "    .colab-df-container {\n",
              "      display:flex;\n",
              "      flex-wrap:wrap;\n",
              "      gap: 12px;\n",
              "    }\n",
              "\n",
              "    .colab-df-convert {\n",
              "      background-color: #E8F0FE;\n",
              "      border: none;\n",
              "      border-radius: 50%;\n",
              "      cursor: pointer;\n",
              "      display: none;\n",
              "      fill: #1967D2;\n",
              "      height: 32px;\n",
              "      padding: 0 0 0 0;\n",
              "      width: 32px;\n",
              "    }\n",
              "\n",
              "    .colab-df-convert:hover {\n",
              "      background-color: #E2EBFA;\n",
              "      box-shadow: 0px 1px 2px rgba(60, 64, 67, 0.3), 0px 1px 3px 1px rgba(60, 64, 67, 0.15);\n",
              "      fill: #174EA6;\n",
              "    }\n",
              "\n",
              "    [theme=dark] .colab-df-convert {\n",
              "      background-color: #3B4455;\n",
              "      fill: #D2E3FC;\n",
              "    }\n",
              "\n",
              "    [theme=dark] .colab-df-convert:hover {\n",
              "      background-color: #434B5C;\n",
              "      box-shadow: 0px 1px 3px 1px rgba(0, 0, 0, 0.15);\n",
              "      filter: drop-shadow(0px 1px 2px rgba(0, 0, 0, 0.3));\n",
              "      fill: #FFFFFF;\n",
              "    }\n",
              "  </style>\n",
              "\n",
              "      <script>\n",
              "        const buttonEl =\n",
              "          document.querySelector('#df-5327697b-8217-4d42-8519-7f31907bd291 button.colab-df-convert');\n",
              "        buttonEl.style.display =\n",
              "          google.colab.kernel.accessAllowed ? 'block' : 'none';\n",
              "\n",
              "        async function convertToInteractive(key) {\n",
              "          const element = document.querySelector('#df-5327697b-8217-4d42-8519-7f31907bd291');\n",
              "          const dataTable =\n",
              "            await google.colab.kernel.invokeFunction('convertToInteractive',\n",
              "                                                     [key], {});\n",
              "          if (!dataTable) return;\n",
              "\n",
              "          const docLinkHtml = 'Like what you see? Visit the ' +\n",
              "            '<a target=\"_blank\" href=https://colab.research.google.com/notebooks/data_table.ipynb>data table notebook</a>'\n",
              "            + ' to learn more about interactive tables.';\n",
              "          element.innerHTML = '';\n",
              "          dataTable['output_type'] = 'display_data';\n",
              "          await google.colab.output.renderOutput(dataTable, element);\n",
              "          const docLink = document.createElement('div');\n",
              "          docLink.innerHTML = docLinkHtml;\n",
              "          element.appendChild(docLink);\n",
              "        }\n",
              "      </script>\n",
              "    </div>\n",
              "  </div>\n",
              "  "
            ],
            "text/plain": [
              "            order_id       rider_id  ...     order_week     order_hour\n",
              "count  450000.000000  450000.000000  ...  450000.000000  450000.000000\n",
              "mean   369143.080767    7763.244016  ...       2.885242      12.723800\n",
              "std    131146.906408    5592.880135  ...       1.742036       3.619623\n",
              "min    118350.000000       0.000000  ...       0.000000       0.000000\n",
              "25%    257342.750000    2805.000000  ...       1.000000       9.000000\n",
              "50%    369842.500000    6754.000000  ...       3.000000      14.000000\n",
              "75%    482342.250000   11965.000000  ...       4.000000      16.000000\n",
              "max    594842.000000   21566.000000  ...       6.000000      21.000000\n",
              "\n",
              "[8 rows x 16 columns]"
            ]
          },
          "metadata": {},
          "execution_count": 22
        }
      ]
    },
    {
      "cell_type": "code",
      "source": [
        ""
      ],
      "metadata": {
        "id": "yWnoUVErUmPm"
      },
      "execution_count": null,
      "outputs": []
    },
    {
      "cell_type": "code",
      "source": [
        "input = df.drop(['order_time','order_date','allot_time','accept_time','pickup_time','delivered_time','cancelled','cancelled_time'],axis = 1)\n"
      ],
      "metadata": {
        "execution": {
          "iopub.status.busy": "2022-02-03T15:51:09.631456Z",
          "iopub.execute_input": "2022-02-03T15:51:09.632262Z",
          "iopub.status.idle": "2022-02-03T15:51:09.684127Z",
          "shell.execute_reply.started": "2022-02-03T15:51:09.632219Z",
          "shell.execute_reply": "2022-02-03T15:51:09.682927Z"
        },
        "trusted": true,
        "id": "TVKVLCwNf0tv"
      },
      "execution_count": null,
      "outputs": []
    },
    {
      "cell_type": "code",
      "source": [
        "input.columns"
      ],
      "metadata": {
        "colab": {
          "base_uri": "https://localhost:8080/"
        },
        "id": "wMn4mrc5uYx6",
        "outputId": "9ad6b405-804a-4fc6-eb09-ac42477a561f"
      },
      "execution_count": null,
      "outputs": [
        {
          "output_type": "execute_result",
          "data": {
            "text/plain": [
              "Index(['order_id', 'rider_id', 'first_mile_distance', 'last_mile_distance',\n",
              "       'alloted_orders', 'delivered_orders', 'undelivered_orders',\n",
              "       'lifetime_order_count', 'session_time', 'diffAllotOrder',\n",
              "       'diffAcceptOrder', 'diffAcceptAllot', 'total_distance', 'order_week',\n",
              "       'order_hour'],\n",
              "      dtype='object')"
            ]
          },
          "metadata": {},
          "execution_count": 24
        }
      ]
    },
    {
      "cell_type": "code",
      "source": [
        "##accept time and pickup time of placed at restaurant \n",
        "\n",
        "x = df[['diffAcceptAllot']].apply(pd.to_numeric)     \n",
        "x.head(60)\n",
        "b=x<0\n",
        "b.sum()\n",
        "\n",
        "## Out of 450k+ data records, 2431 times the driver reached the restaurant before accepting the order-->0.5%\n",
        "## Most of the time driver accepted the order before pickup time"
      ],
      "metadata": {
        "execution": {
          "iopub.status.busy": "2022-02-03T15:51:10.099938Z",
          "iopub.execute_input": "2022-02-03T15:51:10.100863Z",
          "iopub.status.idle": "2022-02-03T15:51:10.114114Z",
          "shell.execute_reply.started": "2022-02-03T15:51:10.100790Z",
          "shell.execute_reply": "2022-02-03T15:51:10.113054Z"
        },
        "trusted": true,
        "colab": {
          "base_uri": "https://localhost:8080/"
        },
        "id": "2V3M2mqFf0tx",
        "outputId": "ce56c3b0-98cf-4f1c-ae3b-9c820ed41ec1"
      },
      "execution_count": null,
      "outputs": [
        {
          "output_type": "execute_result",
          "data": {
            "text/plain": [
              "diffAcceptAllot    25\n",
              "dtype: int64"
            ]
          },
          "metadata": {},
          "execution_count": 25
        }
      ]
    },
    {
      "cell_type": "code",
      "source": [
        "X = input #independent columns\n",
        "y = df['cancelled']   #target column i.e price range\n",
        "from sklearn.ensemble import ExtraTreesClassifier\n",
        "import matplotlib.pyplot as plt\n",
        "model = ExtraTreesClassifier()\n",
        "model.fit(X,y)\n",
        "print(model.feature_importances_) #use inbuilt class feature_importances of tree based classifiers\n",
        "#plot graph of feature importances for better visualization\n",
        "feat_importances = pd.Series(model.feature_importances_, index=X.columns)\n",
        "feat_importances.nlargest(18).plot(kind='barh')\n",
        "plt.show()\n"
      ],
      "metadata": {
        "execution": {
          "iopub.status.busy": "2022-02-03T15:51:10.370801Z",
          "iopub.execute_input": "2022-02-03T15:51:10.371091Z",
          "iopub.status.idle": "2022-02-03T15:52:07.972425Z",
          "shell.execute_reply.started": "2022-02-03T15:51:10.371061Z",
          "shell.execute_reply": "2022-02-03T15:52:07.971494Z"
        },
        "trusted": true,
        "colab": {
          "base_uri": "https://localhost:8080/",
          "height": 317
        },
        "id": "dxCwCcdbf0ty",
        "outputId": "2146f248-d3b4-4dc1-90f3-cad6f0ada2d3"
      },
      "execution_count": null,
      "outputs": [
        {
          "output_type": "stream",
          "name": "stdout",
          "text": [
            "[0.0710254  0.07718902 0.0707431  0.07151688 0.06612488 0.06252485\n",
            " 0.03596095 0.06725819 0.07363548 0.08337935 0.08614914 0.07471902\n",
            " 0.07050473 0.03451844 0.05475056]\n"
          ]
        },
        {
          "output_type": "display_data",
          "data": {
            "image/png": "[encoded data removed]",
            "text/plain": [
              "<Figure size 432x288 with 1 Axes>"
            ]
          },
          "metadata": {
            "needs_background": "light"
          }
        }
      ]
    },
    {
      "cell_type": "code",
      "source": [
        "import seaborn as sns\n",
        "\n",
        "X = input  #independent columns\n",
        "y = df['cancelled']    #target column i.e price range\n",
        "#get correlations of each features in dataset\n",
        "corrmat = input.corr()\n",
        "top_corr_features = corrmat.index\n",
        "plt.figure(figsize=(20,20))\n",
        "#plot heat map\n",
        "g=sns.heatmap(input[top_corr_features].corr(),annot=True,cmap=\"RdYlGn\")"
      ],
      "metadata": {
        "execution": {
          "iopub.status.busy": "2022-02-03T15:52:07.975139Z",
          "iopub.execute_input": "2022-02-03T15:52:07.975476Z",
          "iopub.status.idle": "2022-02-03T15:52:10.513638Z",
          "shell.execute_reply.started": "2022-02-03T15:52:07.975432Z",
          "shell.execute_reply": "2022-02-03T15:52:10.512368Z"
        },
        "trusted": true,
        "id": "hTXuTweXf0tz",
        "colab": {
          "base_uri": "https://localhost:8080/",
          "height": 1000
        },
        "outputId": "04003e0d-7234-4a54-ea3c-bbcd53d87688"
      },
      "execution_count": null,
      "outputs": [
        {
          "output_type": "display_data",
          "data": {
            "image/png": "[encoded data removed]",
            "text/plain": [
              "<Figure size 1440x1440 with 2 Axes>"
            ]
          },
          "metadata": {
            "needs_background": "light"
          }
        }
      ]
    },
    {
      "cell_type": "markdown",
      "source": [
        "# Test data"
      ],
      "metadata": {
        "id": "6GT_QOa7f0t0"
      }
    },
    {
      "cell_type": "code",
      "source": [
        "test_data = pd.read_csv('/content/drive/MyDrive/Cascade Cup IIT Guwahati/test.csv/test.csv')"
      ],
      "metadata": {
        "execution": {
          "iopub.status.busy": "2022-02-03T15:52:10.515398Z",
          "iopub.execute_input": "2022-02-03T15:52:10.515683Z",
          "iopub.status.idle": "2022-02-03T15:52:11.237225Z",
          "shell.execute_reply.started": "2022-02-03T15:52:10.515645Z",
          "shell.execute_reply": "2022-02-03T15:52:11.236138Z"
        },
        "trusted": true,
        "id": "4FiwogDpf0t0"
      },
      "execution_count": null,
      "outputs": []
    },
    {
      "cell_type": "code",
      "source": [
        "test_data.drop(['reassignment_reason', 'reassigned_order','reassignment_method'], axis = 1, inplace = True)\n"
      ],
      "metadata": {
        "execution": {
          "iopub.status.busy": "2022-02-03T15:52:11.239233Z",
          "iopub.execute_input": "2022-02-03T15:52:11.239461Z",
          "iopub.status.idle": "2022-02-03T15:52:11.255464Z",
          "shell.execute_reply.started": "2022-02-03T15:52:11.239433Z",
          "shell.execute_reply": "2022-02-03T15:52:11.254302Z"
        },
        "trusted": true,
        "id": "FW1PfHHXf0t1"
      },
      "execution_count": null,
      "outputs": []
    },
    {
      "cell_type": "code",
      "source": [
        ""
      ],
      "metadata": {
        "trusted": true,
        "id": "CM6ZdaPVf0t2"
      },
      "execution_count": null,
      "outputs": []
    },
    {
      "cell_type": "code",
      "source": [
        "#Replacing nan values with 0\n",
        "test_data['alloted_orders'] = test_data['alloted_orders'].fillna(0)\n",
        "#Converting dtype of alloted_orders from float to int \n",
        "test_data[\"alloted_orders\"] = test_data[\"alloted_orders\"].astype(float).astype(int)\n"
      ],
      "metadata": {
        "execution": {
          "iopub.status.busy": "2022-02-03T15:52:49.170657Z",
          "iopub.execute_input": "2022-02-03T15:52:49.170959Z",
          "iopub.status.idle": "2022-02-03T15:52:49.180968Z",
          "shell.execute_reply.started": "2022-02-03T15:52:49.170927Z",
          "shell.execute_reply": "2022-02-03T15:52:49.180083Z"
        },
        "trusted": true,
        "id": "Kq9z0lubf0t3"
      },
      "execution_count": null,
      "outputs": []
    },
    {
      "cell_type": "code",
      "source": [
        "#Replacing nan values with 0\n",
        "test_data['delivered_orders'] = test_data['delivered_orders'].fillna(0)\n",
        "#Converting dtype of delivered_orders from float to int \n",
        "test_data[\"delivered_orders\"] = test_data[\"delivered_orders\"].astype(float).astype(int)\n"
      ],
      "metadata": {
        "execution": {
          "iopub.status.busy": "2022-02-03T15:52:49.554819Z",
          "iopub.execute_input": "2022-02-03T15:52:49.555105Z",
          "iopub.status.idle": "2022-02-03T15:52:49.564429Z",
          "shell.execute_reply.started": "2022-02-03T15:52:49.555072Z",
          "shell.execute_reply": "2022-02-03T15:52:49.563870Z"
        },
        "trusted": true,
        "id": "5W60YmrGf0t4"
      },
      "execution_count": null,
      "outputs": []
    },
    {
      "cell_type": "code",
      "source": [
        "#Replacing nan values with 0\n",
        "test_data['undelivered_orders'] = test_data['undelivered_orders'].fillna(0)\n",
        "#Converting dtype of undelivered_orders from float to int \n",
        "test_data[\"undelivered_orders\"] = test_data[\"undelivered_orders\"].astype(float).astype(int)\n"
      ],
      "metadata": {
        "execution": {
          "iopub.status.busy": "2022-02-03T15:52:49.871954Z",
          "iopub.execute_input": "2022-02-03T15:52:49.872345Z",
          "iopub.status.idle": "2022-02-03T15:52:49.883845Z",
          "shell.execute_reply.started": "2022-02-03T15:52:49.872314Z",
          "shell.execute_reply": "2022-02-03T15:52:49.882704Z"
        },
        "trusted": true,
        "id": "a8WfXyfof0t5"
      },
      "execution_count": null,
      "outputs": []
    },
    {
      "cell_type": "code",
      "source": [
        "#Replacing nan values with 0\n",
        "test_data['lifetime_order_count'] = test_data['lifetime_order_count'].fillna(0)\n",
        "#Converting dtype of lifetime_order_count from float to int \n",
        "test_data[\"lifetime_order_count\"] = test_data[\"lifetime_order_count\"].astype(float).astype(int)\n"
      ],
      "metadata": {
        "execution": {
          "iopub.status.busy": "2022-02-03T15:52:50.329487Z",
          "iopub.execute_input": "2022-02-03T15:52:50.329827Z",
          "iopub.status.idle": "2022-02-03T15:52:50.338442Z",
          "shell.execute_reply.started": "2022-02-03T15:52:50.329787Z",
          "shell.execute_reply": "2022-02-03T15:52:50.337827Z"
        },
        "trusted": true,
        "id": "WnNv42Czf0t5"
      },
      "execution_count": null,
      "outputs": []
    },
    {
      "cell_type": "code",
      "source": [
        ""
      ],
      "metadata": {
        "trusted": true,
        "id": "mmQ0vAMZf0t7"
      },
      "execution_count": null,
      "outputs": []
    },
    {
      "cell_type": "code",
      "source": [
        "#Replacing nan values with 0\n",
        "test_data['session_time'] = test_data['session_time'].fillna(0)\n",
        "#Converting dtype of session_time from float to int \n",
        "test_data[\"session_time\"] = test_data[\"session_time\"].astype(float).astype(int)\n"
      ],
      "metadata": {
        "execution": {
          "iopub.status.busy": "2022-02-03T15:52:52.256610Z",
          "iopub.execute_input": "2022-02-03T15:52:52.257341Z",
          "iopub.status.idle": "2022-02-03T15:52:52.266533Z",
          "shell.execute_reply.started": "2022-02-03T15:52:52.257303Z",
          "shell.execute_reply": "2022-02-03T15:52:52.265659Z"
        },
        "trusted": true,
        "id": "q3iNpsNUf0t7"
      },
      "execution_count": null,
      "outputs": []
    },
    {
      "cell_type": "code",
      "source": [
        "#If 'coerce', then invalid parsing will be set as NaT.\n",
        "\n",
        "test_data['accept_time'] = pd.to_datetime(test_data['accept_time'], \n",
        " format = '%Y-%m-%d %H:%M:%S', \n",
        " errors = 'coerce')\n",
        "\n",
        "test_data['order_time'] = pd.to_datetime(test_data['order_time'], \n",
        " format = '%Y-%m-%d %H:%M:%S', \n",
        " errors = 'coerce')\n",
        "\n",
        "test_data['order_date'] = pd.to_datetime(test_data['order_date'], \n",
        " format = '%Y-%m-%d %H:%M:%S', \n",
        " errors = 'coerce')\n",
        "\n",
        "test_data['allot_time'] = pd.to_datetime(test_data['allot_time'], \n",
        " format = '%Y-%m-%d %H:%M:%S', \n",
        " errors = 'coerce')\n",
        "\n"
      ],
      "metadata": {
        "execution": {
          "iopub.status.busy": "2022-02-03T15:52:52.508166Z",
          "iopub.execute_input": "2022-02-03T15:52:52.508498Z",
          "iopub.status.idle": "2022-02-03T15:52:52.701630Z",
          "shell.execute_reply.started": "2022-02-03T15:52:52.508461Z",
          "shell.execute_reply": "2022-02-03T15:52:52.700666Z"
        },
        "trusted": true,
        "id": "zPbUr8BSf0t8"
      },
      "execution_count": null,
      "outputs": []
    },
    {
      "cell_type": "code",
      "source": [
        "test_data['diffAllotOrder'] = (test_data['allot_time']-test_data['order_time'])\n",
        "test_data['diffAcceptOrder'] = (test_data['accept_time']-test_data['order_time'])\n",
        "test_data['diffAcceptAllot'] = (test_data['accept_time']-test_data['allot_time'])\n"
      ],
      "metadata": {
        "execution": {
          "iopub.status.busy": "2022-02-03T15:52:54.216635Z",
          "iopub.execute_input": "2022-02-03T15:52:54.217601Z",
          "iopub.status.idle": "2022-02-03T15:52:54.231218Z",
          "shell.execute_reply.started": "2022-02-03T15:52:54.217523Z",
          "shell.execute_reply": "2022-02-03T15:52:54.230632Z"
        },
        "trusted": true,
        "id": "M4fCw_Pmf0t9"
      },
      "execution_count": null,
      "outputs": []
    },
    {
      "cell_type": "code",
      "source": [
        "test_data['diffAllotOrder'] = test_data['diffAllotOrder'].dt.total_seconds()\n",
        "test_data['diffAcceptOrder']  = test_data['diffAcceptOrder'].dt.total_seconds()\n",
        "test_data['diffAcceptAllot']  = test_data['diffAcceptAllot'].dt.total_seconds()"
      ],
      "metadata": {
        "execution": {
          "iopub.status.busy": "2022-02-03T15:52:54.444976Z",
          "iopub.execute_input": "2022-02-03T15:52:54.446035Z",
          "iopub.status.idle": "2022-02-03T15:52:54.457467Z",
          "shell.execute_reply.started": "2022-02-03T15:52:54.445979Z",
          "shell.execute_reply": "2022-02-03T15:52:54.456548Z"
        },
        "trusted": true,
        "id": "oTuatZFQf0t-"
      },
      "execution_count": null,
      "outputs": []
    },
    {
      "cell_type": "code",
      "source": [
        "test_data['diffAllotOrder'] = test_data['diffAllotOrder'].fillna(0)\n",
        "test_data['diffAcceptOrder'] = test_data['diffAcceptOrder'].fillna(0)\n",
        "test_data['diffAcceptAllot'] = test_data['diffAcceptAllot'].fillna(0)\n"
      ],
      "metadata": {
        "execution": {
          "iopub.status.busy": "2022-02-03T15:52:54.653672Z",
          "iopub.execute_input": "2022-02-03T15:52:54.654125Z",
          "iopub.status.idle": "2022-02-03T15:52:54.662930Z",
          "shell.execute_reply.started": "2022-02-03T15:52:54.654090Z",
          "shell.execute_reply": "2022-02-03T15:52:54.662165Z"
        },
        "trusted": true,
        "id": "IN_gxisvf0t_"
      },
      "execution_count": null,
      "outputs": []
    },
    {
      "cell_type": "code",
      "source": [
        "test_data['total_distance'] = test_data['first_mile_distance'] + test_data['last_mile_distance']"
      ],
      "metadata": {
        "id": "iGZA9wLKozbs"
      },
      "execution_count": null,
      "outputs": []
    },
    {
      "cell_type": "code",
      "source": [
        "test_data['order_week'] = test_data['order_time'].dt.dayofweek\n",
        "test_data['order_hour'] = test_data['order_time'].dt.hour\n"
      ],
      "metadata": {
        "id": "sRBrBRGzov1s"
      },
      "execution_count": null,
      "outputs": []
    },
    {
      "cell_type": "code",
      "source": [
        "test_data.columns"
      ],
      "metadata": {
        "execution": {
          "iopub.status.busy": "2022-02-03T15:52:56.033016Z",
          "iopub.execute_input": "2022-02-03T15:52:56.033460Z",
          "iopub.status.idle": "2022-02-03T15:52:56.040026Z",
          "shell.execute_reply.started": "2022-02-03T15:52:56.033425Z",
          "shell.execute_reply": "2022-02-03T15:52:56.039263Z"
        },
        "trusted": true,
        "colab": {
          "base_uri": "https://localhost:8080/"
        },
        "id": "2bQMrzSSf0t_",
        "outputId": "9b576ff4-22b6-47c9-bbd0-830a5d88fde6"
      },
      "execution_count": null,
      "outputs": [
        {
          "output_type": "execute_result",
          "data": {
            "text/plain": [
              "Index(['order_time', 'order_id', 'order_date', 'allot_time', 'accept_time',\n",
              "       'rider_id', 'first_mile_distance', 'last_mile_distance',\n",
              "       'alloted_orders', 'delivered_orders', 'undelivered_orders',\n",
              "       'lifetime_order_count', 'session_time', 'diffAllotOrder',\n",
              "       'diffAcceptOrder', 'diffAcceptAllot', 'total_distance', 'order_week',\n",
              "       'order_hour'],\n",
              "      dtype='object')"
            ]
          },
          "metadata": {},
          "execution_count": 41
        }
      ]
    },
    {
      "cell_type": "markdown",
      "source": [
        "Converting accept time to seconds\n",
        "\n",
        "\n"
      ],
      "metadata": {
        "id": "HD3fLysen-bC"
      }
    },
    {
      "cell_type": "markdown",
      "source": [
        "test_data['accept_time_hour'] = test_data['accept_time'].dt.hour\n",
        "test_data['accept_time_minute'] = test_data['accept_time'].dt.minute\n",
        "test_data['accept_time_second'] = test_data['accept_time'].dt.second\n",
        "\n"
      ],
      "metadata": {
        "id": "G741L3l_tRJr"
      }
    },
    {
      "cell_type": "markdown",
      "source": [
        "test_data['accept_time_sec'] = test_data['accept_time_hour']*60*60 + test_data['accept_time_minute']*60 + test_data['accept_time_second']"
      ],
      "metadata": {
        "id": "_E1v0tiqtTis"
      }
    },
    {
      "cell_type": "markdown",
      "source": [
        "Calculating pickup time"
      ],
      "metadata": {
        "id": "sKRW9--boFCO"
      }
    },
    {
      "cell_type": "markdown",
      "source": [
        "#using speed = 0.o01465 that is the median of speed in train data\n",
        "test_data['f_time_sec'] = test_data['first_mile_distance']/ 0.001465"
      ],
      "metadata": {
        "id": "5lhEAd8ktUvI"
      }
    },
    {
      "cell_type": "markdown",
      "source": [
        "test_data['accept_time'] = pd.to_datetime(test_data.accept_time).dt.strftime('%H:%M:%S')\n"
      ],
      "metadata": {
        "id": "9S-i9i5QtZa2"
      }
    },
    {
      "cell_type": "markdown",
      "source": [
        "test_data['pickup_time'] = pd.to_timedelta(test_data['accept_time']) + pd.to_timedelta(test_data['f_time_sec'], unit='s')\n"
      ],
      "metadata": {
        "id": "nbdxAzBKtbRJ"
      }
    },
    {
      "cell_type": "markdown",
      "source": [
        "Difference of pickup time and accept time in seconds"
      ],
      "metadata": {
        "id": "JstzlvvYoI8K"
      }
    },
    {
      "cell_type": "markdown",
      "source": [
        "test_data['pickup_time_sec'] = test_data['pickup_time'].dt.total_seconds()"
      ],
      "metadata": {
        "id": "6ZtdPBx_te2X"
      }
    },
    {
      "cell_type": "markdown",
      "source": [
        "test_data['diffPickUpAccept'] = test_data['pickup_time_sec'] - test_data['accept_time_sec'] "
      ],
      "metadata": {
        "id": "rN7jI68Gtjwi"
      }
    },
    {
      "cell_type": "markdown",
      "source": [
        "test_data['diffPickUpAccept'].head()"
      ],
      "metadata": {
        "id": "2IzC-5dltljU"
      }
    },
    {
      "cell_type": "code",
      "source": [
        "test_data.shape"
      ],
      "metadata": {
        "colab": {
          "base_uri": "https://localhost:8080/"
        },
        "id": "HwCmzXKUqZIh",
        "outputId": "39dbfbf7-a515-4ec8-829e-e8969a539674"
      },
      "execution_count": null,
      "outputs": [
        {
          "output_type": "execute_result",
          "data": {
            "text/plain": [
              "(144844, 19)"
            ]
          },
          "metadata": {},
          "execution_count": 42
        }
      ]
    },
    {
      "cell_type": "code",
      "source": [
        "X_test = test_data.drop(['order_time','order_date','allot_time','accept_time'],axis = 1)\n"
      ],
      "metadata": {
        "execution": {
          "iopub.status.busy": "2022-02-03T15:52:56.274260Z",
          "iopub.execute_input": "2022-02-03T15:52:56.274724Z",
          "iopub.status.idle": "2022-02-03T15:52:56.301197Z",
          "shell.execute_reply.started": "2022-02-03T15:52:56.274689Z",
          "shell.execute_reply": "2022-02-03T15:52:56.300432Z"
        },
        "trusted": true,
        "id": "KCpzJWerf0uA"
      },
      "execution_count": null,
      "outputs": []
    },
    {
      "cell_type": "code",
      "source": [
        "X_test.columns"
      ],
      "metadata": {
        "colab": {
          "base_uri": "https://localhost:8080/"
        },
        "id": "HCJlgYTPvJme",
        "outputId": "8561579b-6b30-443a-cacd-fbf57c4a4af9"
      },
      "execution_count": null,
      "outputs": [
        {
          "output_type": "execute_result",
          "data": {
            "text/plain": [
              "Index(['order_id', 'rider_id', 'first_mile_distance', 'last_mile_distance',\n",
              "       'alloted_orders', 'delivered_orders', 'undelivered_orders',\n",
              "       'lifetime_order_count', 'session_time', 'diffAllotOrder',\n",
              "       'diffAcceptOrder', 'diffAcceptAllot', 'total_distance', 'order_week',\n",
              "       'order_hour'],\n",
              "      dtype='object')"
            ]
          },
          "metadata": {},
          "execution_count": 44
        }
      ]
    },
    {
      "cell_type": "code",
      "source": [
        "X_test.shape\n"
      ],
      "metadata": {
        "colab": {
          "base_uri": "https://localhost:8080/"
        },
        "id": "SPTKcbcytwiL",
        "outputId": "d4294179-3245-4eac-d6d4-d043fab5ccaa"
      },
      "execution_count": null,
      "outputs": [
        {
          "output_type": "execute_result",
          "data": {
            "text/plain": [
              "(144844, 15)"
            ]
          },
          "metadata": {},
          "execution_count": 45
        }
      ]
    },
    {
      "cell_type": "markdown",
      "source": [
        "## Splitting the dataset into train and validation data"
      ],
      "metadata": {
        "id": "p6jfE3h2f0uB"
      }
    },
    {
      "cell_type": "code",
      "source": [
        "#X_train, X_val, y_train, y_val = train_test_split( X, y, test_size=0.2,random_state=42)\n",
        "X_train = X\n",
        "y_train = y"
      ],
      "metadata": {
        "execution": {
          "iopub.status.busy": "2022-02-03T15:52:57.861851Z",
          "iopub.execute_input": "2022-02-03T15:52:57.862303Z",
          "iopub.status.idle": "2022-02-03T15:52:58.008257Z",
          "shell.execute_reply.started": "2022-02-03T15:52:57.862263Z",
          "shell.execute_reply": "2022-02-03T15:52:58.007447Z"
        },
        "trusted": true,
        "id": "NOnCe6IOf0uB"
      },
      "execution_count": null,
      "outputs": []
    },
    {
      "cell_type": "code",
      "source": [
        ""
      ],
      "metadata": {
        "id": "HnAoNE-zt1gJ"
      },
      "execution_count": null,
      "outputs": []
    },
    {
      "cell_type": "code",
      "source": [
        "from sklearn.metrics import accuracy_score\n"
      ],
      "metadata": {
        "execution": {
          "iopub.status.busy": "2022-02-03T15:52:58.062859Z",
          "iopub.execute_input": "2022-02-03T15:52:58.063309Z",
          "iopub.status.idle": "2022-02-03T15:52:58.067658Z",
          "shell.execute_reply.started": "2022-02-03T15:52:58.063275Z",
          "shell.execute_reply": "2022-02-03T15:52:58.066590Z"
        },
        "trusted": true,
        "id": "V2t-mfrAf0uC"
      },
      "execution_count": null,
      "outputs": []
    },
    {
      "cell_type": "markdown",
      "source": [
        "* n_jobs: -1\n",
        "* objective: binary:logistic\n",
        "* eta: 0.1\n",
        "* max_depth: 5\n",
        "* min_child_weight: 6\n",
        "* subsample: 0.9827722984118861\n",
        "* colsample_bytree: 0.7323565805217428\n",
        "* eval_metric: logloss\n",
        "* lambda: 2.0786963669125065\n",
        "* alpha: 8.887990254812337\n",
        "* max_rounds: 1000\n",
        "* early_stopping_rounds: 50\n",
        "* explain_level: 0\n"
      ],
      "metadata": {
        "id": "cSFBrnrzf0uD"
      }
    },
    {
      "cell_type": "code",
      "source": [
        "import xgboost as xgb\n"
      ],
      "metadata": {
        "execution": {
          "iopub.status.busy": "2022-02-03T16:07:11.504879Z",
          "iopub.execute_input": "2022-02-03T16:07:11.505808Z",
          "iopub.status.idle": "2022-02-03T16:07:11.510079Z",
          "shell.execute_reply.started": "2022-02-03T16:07:11.505751Z",
          "shell.execute_reply": "2022-02-03T16:07:11.509176Z"
        },
        "trusted": true,
        "id": "p5EcDSm0f0uD"
      },
      "execution_count": null,
      "outputs": []
    },
    {
      "cell_type": "markdown",
      "source": [
        "# specify hyperparameters\n",
        "params = {'n_jobs':1,\n",
        "          'objective': 'binary:logistic',\n",
        "          'min_child_weight':6,\n",
        "          'subsample':0.9827722984118861,\n",
        "          'colsample_bytree':0.7323565805217428,\n",
        "          'eval_metric': 'logloss',\n",
        "          'lambda':2.0786963669125065,\n",
        "          'alpha':8.887990254812337,\n",
        "          'max_rounds':1000,\n",
        "          'early_stopping_rounds':50,\n",
        "          'explain_level':0,\n",
        "          'max_depth': 5,\n",
        "          'eta': 0.1\n",
        "         }\n",
        "\n",
        "epochs = 10"
      ],
      "metadata": {
        "id": "XWEA5avUf0uE"
      }
    },
    {
      "cell_type": "code",
      "source": [
        "#data_dmatrix = xgb.DMatrix(data=X_train,label=y_train)\n",
        "xgc = xgb.XGBClassifier(n_jobs=1,\n",
        "          objective= 'binary:logistic',\n",
        "          min_child_weight=6,\n",
        "          subsample=0.9827722984118861,\n",
        "          colsample_bytree=0.7323565805217428,\n",
        "          eval_metric= 'logloss',\n",
        "          use_label_encoder=False,\n",
        "          \n",
        "          alpha=8.887990254812337,\n",
        "          max_rounds=1000,\n",
        "          early_stopping_rounds=50,\n",
        "          explain_level=0,\n",
        "          max_depth= 5,\n",
        "          eta= 0.1)\n",
        "xgc.fit(X_train,y_train)\n"
      ],
      "metadata": {
        "execution": {
          "iopub.status.busy": "2022-02-03T16:13:27.551626Z",
          "iopub.execute_input": "2022-02-03T16:13:27.551930Z",
          "iopub.status.idle": "2022-02-03T16:14:06.808126Z",
          "shell.execute_reply.started": "2022-02-03T16:13:27.551900Z",
          "shell.execute_reply": "2022-02-03T16:14:06.807308Z"
        },
        "trusted": true,
        "colab": {
          "base_uri": "https://localhost:8080/"
        },
        "id": "mopJZCWFf0uF",
        "outputId": "3c8a97ef-f82b-4a37-966e-ed1bbb490700"
      },
      "execution_count": null,
      "outputs": [
        {
          "output_type": "stream",
          "name": "stdout",
          "text": [
            "[18:00:25] WARNING: ../src/learner.cc:576: \n",
            "Parameters: { \"early_stopping_rounds\", \"explain_level\", \"max_rounds\" } might not be used.\n",
            "\n",
            "  This could be a false alarm, with some parameters getting used by language bindings but\n",
            "  then being mistakenly passed down to XGBoost core, or some parameter actually being used\n",
            "  but getting flagged wrongly here. Please open an issue if you find any such cases.\n",
            "\n",
            "\n"
          ]
        },
        {
          "output_type": "execute_result",
          "data": {
            "text/plain": [
              "XGBClassifier(alpha=8.887990254812337, base_score=0.5, booster='gbtree',\n",
              "              colsample_bylevel=1, colsample_bynode=1,\n",
              "              colsample_bytree=0.7323565805217428, early_stopping_rounds=50,\n",
              "              enable_categorical=False, eta=0.1, eval_metric='logloss',\n",
              "              explain_level=0, gamma=0, gpu_id=-1, importance_type=None,\n",
              "              interaction_constraints='', learning_rate=0.100000001,\n",
              "              max_delta_step=0, max_depth=5, max_rounds=1000,\n",
              "              min_child_weight=6, missing=nan, monotone_constraints='()',\n",
              "              n_estimators=100, n_jobs=1, num_parallel_tree=1, predictor='auto',\n",
              "              random_state=0, reg_alpha=8.88799, reg_lambda=1,\n",
              "              scale_pos_weight=1, ...)"
            ]
          },
          "metadata": {},
          "execution_count": 134
        }
      ]
    },
    {
      "cell_type": "code",
      "source": [
        "y_pred = xgc.predict(X_val)"
      ],
      "metadata": {
        "execution": {
          "iopub.status.busy": "2022-02-03T16:21:11.051630Z",
          "iopub.execute_input": "2022-02-03T16:21:11.051939Z",
          "iopub.status.idle": "2022-02-03T16:21:11.252874Z",
          "shell.execute_reply.started": "2022-02-03T16:21:11.051898Z",
          "shell.execute_reply": "2022-02-03T16:21:11.251806Z"
        },
        "trusted": true,
        "id": "CD6_I_TWf0uF"
      },
      "execution_count": null,
      "outputs": []
    },
    {
      "cell_type": "code",
      "source": [
        "accuracy_score(y_pred, y_val)"
      ],
      "metadata": {
        "execution": {
          "iopub.status.busy": "2022-02-03T16:22:13.089692Z",
          "iopub.execute_input": "2022-02-03T16:22:13.090201Z",
          "iopub.status.idle": "2022-02-03T16:22:13.102290Z",
          "shell.execute_reply.started": "2022-02-03T16:22:13.090164Z",
          "shell.execute_reply": "2022-02-03T16:22:13.101377Z"
        },
        "trusted": true,
        "colab": {
          "base_uri": "https://localhost:8080/"
        },
        "id": "Z9kdJDvrf0uG",
        "outputId": "39b7a0c3-a5d7-4754-a489-4a8b1691d31f"
      },
      "execution_count": null,
      "outputs": [
        {
          "output_type": "execute_result",
          "data": {
            "text/plain": [
              "0.9896444444444444"
            ]
          },
          "metadata": {},
          "execution_count": 140
        }
      ]
    },
    {
      "cell_type": "code",
      "source": [
        "y_pred = pd.DataFrame(y_pred, columns =['cancelled'])"
      ],
      "metadata": {
        "execution": {
          "iopub.status.busy": "2022-02-03T16:18:54.730659Z",
          "iopub.execute_input": "2022-02-03T16:18:54.731022Z",
          "iopub.status.idle": "2022-02-03T16:18:54.736357Z",
          "shell.execute_reply.started": "2022-02-03T16:18:54.730988Z",
          "shell.execute_reply": "2022-02-03T16:18:54.735605Z"
        },
        "trusted": true,
        "id": "MEM7-qmjf0uH"
      },
      "execution_count": null,
      "outputs": []
    },
    {
      "cell_type": "code",
      "source": [
        "y_pred['cancelled'].value_counts()"
      ],
      "metadata": {
        "execution": {
          "iopub.status.busy": "2022-02-03T16:19:09.813560Z",
          "iopub.execute_input": "2022-02-03T16:19:09.814026Z",
          "iopub.status.idle": "2022-02-03T16:19:09.823059Z",
          "shell.execute_reply.started": "2022-02-03T16:19:09.813996Z",
          "shell.execute_reply": "2022-02-03T16:19:09.821919Z"
        },
        "trusted": true,
        "colab": {
          "base_uri": "https://localhost:8080/"
        },
        "id": "jzXHAf0Qf0uH",
        "outputId": "e3f37b0f-33df-4e28-bfc8-225d93645f5e"
      },
      "execution_count": null,
      "outputs": [
        {
          "output_type": "execute_result",
          "data": {
            "text/plain": [
              "0    89887\n",
              "1      113\n",
              "Name: cancelled, dtype: int64"
            ]
          },
          "metadata": {},
          "execution_count": 142
        }
      ]
    },
    {
      "cell_type": "code",
      "source": [
        "from sklearn.metrics import classification_report\n",
        "\n",
        "print('Train Classification Report \\n ',classification_report(y_val,xgc.predict(X_val)))\n"
      ],
      "metadata": {
        "execution": {
          "iopub.status.busy": "2022-02-03T16:19:46.080821Z",
          "iopub.execute_input": "2022-02-03T16:19:46.081149Z",
          "iopub.status.idle": "2022-02-03T16:19:46.385991Z",
          "shell.execute_reply.started": "2022-02-03T16:19:46.081112Z",
          "shell.execute_reply": "2022-02-03T16:19:46.384978Z"
        },
        "trusted": true,
        "colab": {
          "base_uri": "https://localhost:8080/"
        },
        "id": "80uekNfUf0uI",
        "outputId": "b161edc6-b8a1-4dbe-f64f-cb3913c69739"
      },
      "execution_count": null,
      "outputs": [
        {
          "output_type": "stream",
          "name": "stdout",
          "text": [
            "Train Classification Report \n",
            "                precision    recall  f1-score   support\n",
            "\n",
            "           0       0.99      1.00      0.99     89023\n",
            "           1       0.70      0.08      0.14       977\n",
            "\n",
            "    accuracy                           0.99     90000\n",
            "   macro avg       0.84      0.54      0.57     90000\n",
            "weighted avg       0.99      0.99      0.99     90000\n",
            "\n"
          ]
        }
      ]
    },
    {
      "cell_type": "markdown",
      "source": [
        "On test data"
      ],
      "metadata": {
        "id": "wLWCs9arf0uJ"
      }
    },
    {
      "cell_type": "code",
      "source": [
        "y_pred_test = xgc.predict(X_test)"
      ],
      "metadata": {
        "execution": {
          "iopub.status.busy": "2022-02-03T16:23:43.356103Z",
          "iopub.execute_input": "2022-02-03T16:23:43.356422Z",
          "iopub.status.idle": "2022-02-03T16:23:43.683664Z",
          "shell.execute_reply.started": "2022-02-03T16:23:43.356382Z",
          "shell.execute_reply": "2022-02-03T16:23:43.682713Z"
        },
        "trusted": true,
        "id": "IqYDq914f0uJ"
      },
      "execution_count": null,
      "outputs": []
    },
    {
      "cell_type": "code",
      "source": [
        "y_pred_test = pd.DataFrame(y_pred_test, columns =['cancelled'])"
      ],
      "metadata": {
        "execution": {
          "iopub.status.busy": "2022-02-03T16:23:48.351808Z",
          "iopub.execute_input": "2022-02-03T16:23:48.352309Z",
          "iopub.status.idle": "2022-02-03T16:23:48.357519Z",
          "shell.execute_reply.started": "2022-02-03T16:23:48.352263Z",
          "shell.execute_reply": "2022-02-03T16:23:48.356807Z"
        },
        "trusted": true,
        "id": "GSZTpFnhf0uK"
      },
      "execution_count": null,
      "outputs": []
    },
    {
      "cell_type": "code",
      "source": [
        "y_pred_test['order_id'] = X_test['order_id']"
      ],
      "metadata": {
        "execution": {
          "iopub.status.busy": "2022-02-03T16:23:56.957749Z",
          "iopub.execute_input": "2022-02-03T16:23:56.958226Z",
          "iopub.status.idle": "2022-02-03T16:23:56.964254Z",
          "shell.execute_reply.started": "2022-02-03T16:23:56.958184Z",
          "shell.execute_reply": "2022-02-03T16:23:56.963363Z"
        },
        "trusted": true,
        "id": "k7R6QFtOf0uL"
      },
      "execution_count": null,
      "outputs": []
    },
    {
      "cell_type": "code",
      "source": [
        "y_pred_test = y_pred_test[['order_id', 'cancelled']]\n"
      ],
      "metadata": {
        "execution": {
          "iopub.status.busy": "2022-02-03T16:24:05.347446Z",
          "iopub.execute_input": "2022-02-03T16:24:05.347822Z",
          "iopub.status.idle": "2022-02-03T16:24:05.356591Z",
          "shell.execute_reply.started": "2022-02-03T16:24:05.347782Z",
          "shell.execute_reply": "2022-02-03T16:24:05.355307Z"
        },
        "trusted": true,
        "id": "ETbMjcdOf0uL"
      },
      "execution_count": null,
      "outputs": []
    },
    {
      "cell_type": "code",
      "source": [
        "y_pred_test['cancelled'].value_counts()"
      ],
      "metadata": {
        "execution": {
          "iopub.status.busy": "2022-02-03T16:24:25.273434Z",
          "iopub.execute_input": "2022-02-03T16:24:25.274196Z",
          "iopub.status.idle": "2022-02-03T16:24:25.284712Z",
          "shell.execute_reply.started": "2022-02-03T16:24:25.274145Z",
          "shell.execute_reply": "2022-02-03T16:24:25.283655Z"
        },
        "trusted": true,
        "colab": {
          "base_uri": "https://localhost:8080/"
        },
        "id": "d3yVTN7sf0uM",
        "outputId": "759bde99-b84d-4dfd-dffd-e46ea69a6faf"
      },
      "execution_count": null,
      "outputs": [
        {
          "output_type": "execute_result",
          "data": {
            "text/plain": [
              "0    144391\n",
              "1       453\n",
              "Name: cancelled, dtype: int64"
            ]
          },
          "metadata": {},
          "execution_count": 139
        }
      ]
    },
    {
      "cell_type": "code",
      "source": [
        "y_pred_test.to_csv('./submission_xgb_optuna.csv',index = False)"
      ],
      "metadata": {
        "execution": {
          "iopub.status.busy": "2022-02-03T16:26:32.495974Z",
          "iopub.execute_input": "2022-02-03T16:26:32.496266Z",
          "iopub.status.idle": "2022-02-03T16:26:32.751679Z",
          "shell.execute_reply.started": "2022-02-03T16:26:32.496237Z",
          "shell.execute_reply": "2022-02-03T16:26:32.750947Z"
        },
        "trusted": true,
        "id": "KohLHL_pf0uM"
      },
      "execution_count": null,
      "outputs": []
    },
    {
      "cell_type": "markdown",
      "source": [
        "# Implementing evalml"
      ],
      "metadata": {
        "id": "IJlvNT7kf3hN"
      }
    },
    {
      "cell_type": "code",
      "source": [
        "!pip install evalml"
      ],
      "metadata": {
        "id": "uIbCdaFHf0uM"
      },
      "execution_count": null,
      "outputs": []
    },
    {
      "cell_type": "code",
      "source": [
        "import evalml"
      ],
      "metadata": {
        "id": "bhu7H9AUf0uN"
      },
      "execution_count": null,
      "outputs": []
    },
    {
      "cell_type": "code",
      "source": [
        "from evalml.automl import AutoMLSearch\n",
        "automl = AutoMLSearch(X_train=X_train, y_train=y_train, problem_type='binary')\n",
        "automl.search()\n"
      ],
      "metadata": {
        "id": "AXbYiXRbf2nI"
      },
      "execution_count": null,
      "outputs": []
    },
    {
      "cell_type": "code",
      "source": [
        "automl.rankings\n"
      ],
      "metadata": {
        "id": "QU2xRg3lgBer",
        "colab": {
          "base_uri": "https://localhost:8080/",
          "height": 864
        },
        "outputId": "bb34283c-ca50-446d-d60a-6a3024e3f393"
      },
      "execution_count": null,
      "outputs": [
        {
          "output_type": "execute_result",
          "data": {
            "text/html": [
              "\n",
              "  <div id=\"df-89049d34-2c55-4a21-a0cd-781294dd4b48\">\n",
              "    <div class=\"colab-df-container\">\n",
              "      <div>\n",
              "<style scoped>\n",
              "    .dataframe tbody tr th:only-of-type {\n",
              "        vertical-align: middle;\n",
              "    }\n",
              "\n",
              "    .dataframe tbody tr th {\n",
              "        vertical-align: top;\n",
              "    }\n",
              "\n",
              "    .dataframe thead th {\n",
              "        text-align: right;\n",
              "    }\n",
              "</style>\n",
              "<table border=\"1\" class=\"dataframe\">\n",
              "  <thead>\n",
              "    <tr style=\"text-align: right;\">\n",
              "      <th></th>\n",
              "      <th>id</th>\n",
              "      <th>pipeline_name</th>\n",
              "      <th>search_order</th>\n",
              "      <th>mean_cv_score</th>\n",
              "      <th>standard_deviation_cv_score</th>\n",
              "      <th>validation_score</th>\n",
              "      <th>percent_better_than_baseline</th>\n",
              "      <th>high_variance_cv</th>\n",
              "      <th>parameters</th>\n",
              "    </tr>\n",
              "  </thead>\n",
              "  <tbody>\n",
              "    <tr>\n",
              "      <th>0</th>\n",
              "      <td>4</td>\n",
              "      <td>LightGBM Classifier w/ Label Encoder + Imputer...</td>\n",
              "      <td>4</td>\n",
              "      <td>NaN</td>\n",
              "      <td>NaN</td>\n",
              "      <td>0.182030</td>\n",
              "      <td>55.161797</td>\n",
              "      <td>False</td>\n",
              "      <td>{'Label Encoder': {'positive_label': None}, 'I...</td>\n",
              "    </tr>\n",
              "    <tr>\n",
              "      <th>1</th>\n",
              "      <td>3</td>\n",
              "      <td>XGBoost Classifier w/ Label Encoder + Imputer ...</td>\n",
              "      <td>3</td>\n",
              "      <td>NaN</td>\n",
              "      <td>NaN</td>\n",
              "      <td>0.189995</td>\n",
              "      <td>53.199856</td>\n",
              "      <td>False</td>\n",
              "      <td>{'Label Encoder': {'positive_label': None}, 'I...</td>\n",
              "    </tr>\n",
              "    <tr>\n",
              "      <th>2</th>\n",
              "      <td>6</td>\n",
              "      <td>Random Forest Classifier w/ Label Encoder + Im...</td>\n",
              "      <td>6</td>\n",
              "      <td>NaN</td>\n",
              "      <td>NaN</td>\n",
              "      <td>0.197576</td>\n",
              "      <td>51.332610</td>\n",
              "      <td>False</td>\n",
              "      <td>{'Label Encoder': {'positive_label': None}, 'I...</td>\n",
              "    </tr>\n",
              "    <tr>\n",
              "      <th>3</th>\n",
              "      <td>2</td>\n",
              "      <td>Logistic Regression Classifier w/ Label Encode...</td>\n",
              "      <td>2</td>\n",
              "      <td>NaN</td>\n",
              "      <td>NaN</td>\n",
              "      <td>0.211092</td>\n",
              "      <td>48.003180</td>\n",
              "      <td>False</td>\n",
              "      <td>{'Label Encoder': {'positive_label': None}, 'I...</td>\n",
              "    </tr>\n",
              "    <tr>\n",
              "      <th>4</th>\n",
              "      <td>1</td>\n",
              "      <td>Elastic Net Classifier w/ Label Encoder + Impu...</td>\n",
              "      <td>1</td>\n",
              "      <td>NaN</td>\n",
              "      <td>NaN</td>\n",
              "      <td>0.211559</td>\n",
              "      <td>47.888217</td>\n",
              "      <td>False</td>\n",
              "      <td>{'Label Encoder': {'positive_label': None}, 'I...</td>\n",
              "    </tr>\n",
              "    <tr>\n",
              "      <th>5</th>\n",
              "      <td>8</td>\n",
              "      <td>Extra Trees Classifier w/ Label Encoder + Impu...</td>\n",
              "      <td>8</td>\n",
              "      <td>NaN</td>\n",
              "      <td>NaN</td>\n",
              "      <td>0.216826</td>\n",
              "      <td>46.590694</td>\n",
              "      <td>False</td>\n",
              "      <td>{'Label Encoder': {'positive_label': None}, 'I...</td>\n",
              "    </tr>\n",
              "    <tr>\n",
              "      <th>6</th>\n",
              "      <td>0</td>\n",
              "      <td>Mode Baseline Binary Classification Pipeline</td>\n",
              "      <td>0</td>\n",
              "      <td>NaN</td>\n",
              "      <td>NaN</td>\n",
              "      <td>0.405971</td>\n",
              "      <td>0.000000</td>\n",
              "      <td>False</td>\n",
              "      <td>{'Label Encoder': {'positive_label': None}, 'B...</td>\n",
              "    </tr>\n",
              "    <tr>\n",
              "      <th>7</th>\n",
              "      <td>7</td>\n",
              "      <td>Decision Tree Classifier w/ Label Encoder + Im...</td>\n",
              "      <td>7</td>\n",
              "      <td>NaN</td>\n",
              "      <td>NaN</td>\n",
              "      <td>0.436133</td>\n",
              "      <td>-7.429509</td>\n",
              "      <td>False</td>\n",
              "      <td>{'Label Encoder': {'positive_label': None}, 'I...</td>\n",
              "    </tr>\n",
              "    <tr>\n",
              "      <th>8</th>\n",
              "      <td>5</td>\n",
              "      <td>CatBoost Classifier w/ Label Encoder + Imputer...</td>\n",
              "      <td>5</td>\n",
              "      <td>NaN</td>\n",
              "      <td>NaN</td>\n",
              "      <td>0.538848</td>\n",
              "      <td>-32.730544</td>\n",
              "      <td>False</td>\n",
              "      <td>{'Label Encoder': {'positive_label': None}, 'I...</td>\n",
              "    </tr>\n",
              "  </tbody>\n",
              "</table>\n",
              "</div>\n",
              "      <button class=\"colab-df-convert\" onclick=\"convertToInteractive('df-89049d34-2c55-4a21-a0cd-781294dd4b48')\"\n",
              "              title=\"Convert this dataframe to an interactive table.\"\n",
              "              style=\"display:none;\">\n",
              "        \n",
              "  <svg xmlns=\"http://www.w3.org/2000/svg\" height=\"24px\"viewBox=\"0 0 24 24\"\n",
              "       width=\"24px\">\n",
              "    <path d=\"M0 0h24v24H0V0z\" fill=\"none\"/>\n",
              "    <path d=\"M18.56 5.44l.94 2.06.94-2.06 2.06-.94-2.06-.94-.94-2.06-.94 2.06-2.06.94zm-11 1L8.5 8.5l.94-2.06 2.06-.94-2.06-.94L8.5 2.5l-.94 2.06-2.06.94zm10 10l.94 2.06.94-2.06 2.06-.94-2.06-.94-.94-2.06-.94 2.06-2.06.94z\"/><path d=\"M17.41 7.96l-1.37-1.37c-.4-.4-.92-.59-1.43-.59-.52 0-1.04.2-1.43.59L10.3 9.45l-7.72 7.72c-.78.78-.78 2.05 0 2.83L4 21.41c.39.39.9.59 1.41.59.51 0 1.02-.2 1.41-.59l7.78-7.78 2.81-2.81c.8-.78.8-2.07 0-2.86zM5.41 20L4 18.59l7.72-7.72 1.47 1.35L5.41 20z\"/>\n",
              "  </svg>\n",
              "      </button>\n",
              "      \n",
              "  <style>\n",
              "    .colab-df-container {\n",
              "      display:flex;\n",
              "      flex-wrap:wrap;\n",
              "      gap: 12px;\n",
              "    }\n",
              "\n",
              "    .colab-df-convert {\n",
              "      background-color: #E8F0FE;\n",
              "      border: none;\n",
              "      border-radius: 50%;\n",
              "      cursor: pointer;\n",
              "      display: none;\n",
              "      fill: #1967D2;\n",
              "      height: 32px;\n",
              "      padding: 0 0 0 0;\n",
              "      width: 32px;\n",
              "    }\n",
              "\n",
              "    .colab-df-convert:hover {\n",
              "      background-color: #E2EBFA;\n",
              "      box-shadow: 0px 1px 2px rgba(60, 64, 67, 0.3), 0px 1px 3px 1px rgba(60, 64, 67, 0.15);\n",
              "      fill: #174EA6;\n",
              "    }\n",
              "\n",
              "    [theme=dark] .colab-df-convert {\n",
              "      background-color: #3B4455;\n",
              "      fill: #D2E3FC;\n",
              "    }\n",
              "\n",
              "    [theme=dark] .colab-df-convert:hover {\n",
              "      background-color: #434B5C;\n",
              "      box-shadow: 0px 1px 3px 1px rgba(0, 0, 0, 0.15);\n",
              "      filter: drop-shadow(0px 1px 2px rgba(0, 0, 0, 0.3));\n",
              "      fill: #FFFFFF;\n",
              "    }\n",
              "  </style>\n",
              "\n",
              "      <script>\n",
              "        const buttonEl =\n",
              "          document.querySelector('#df-89049d34-2c55-4a21-a0cd-781294dd4b48 button.colab-df-convert');\n",
              "        buttonEl.style.display =\n",
              "          google.colab.kernel.accessAllowed ? 'block' : 'none';\n",
              "\n",
              "        async function convertToInteractive(key) {\n",
              "          const element = document.querySelector('#df-89049d34-2c55-4a21-a0cd-781294dd4b48');\n",
              "          const dataTable =\n",
              "            await google.colab.kernel.invokeFunction('convertToInteractive',\n",
              "                                                     [key], {});\n",
              "          if (!dataTable) return;\n",
              "\n",
              "          const docLinkHtml = 'Like what you see? Visit the ' +\n",
              "            '<a target=\"_blank\" href=https://colab.research.google.com/notebooks/data_table.ipynb>data table notebook</a>'\n",
              "            + ' to learn more about interactive tables.';\n",
              "          element.innerHTML = '';\n",
              "          dataTable['output_type'] = 'display_data';\n",
              "          await google.colab.output.renderOutput(dataTable, element);\n",
              "          const docLink = document.createElement('div');\n",
              "          docLink.innerHTML = docLinkHtml;\n",
              "          element.appendChild(docLink);\n",
              "        }\n",
              "      </script>\n",
              "    </div>\n",
              "  </div>\n",
              "  "
            ],
            "text/plain": [
              "   id  ...                                         parameters\n",
              "0   4  ...  {'Label Encoder': {'positive_label': None}, 'I...\n",
              "1   3  ...  {'Label Encoder': {'positive_label': None}, 'I...\n",
              "2   6  ...  {'Label Encoder': {'positive_label': None}, 'I...\n",
              "3   2  ...  {'Label Encoder': {'positive_label': None}, 'I...\n",
              "4   1  ...  {'Label Encoder': {'positive_label': None}, 'I...\n",
              "5   8  ...  {'Label Encoder': {'positive_label': None}, 'I...\n",
              "6   0  ...  {'Label Encoder': {'positive_label': None}, 'B...\n",
              "7   7  ...  {'Label Encoder': {'positive_label': None}, 'I...\n",
              "8   5  ...  {'Label Encoder': {'positive_label': None}, 'I...\n",
              "\n",
              "[9 rows x 9 columns]"
            ]
          },
          "metadata": {},
          "execution_count": 51
        }
      ]
    },
    {
      "cell_type": "code",
      "source": [
        "#Getting The Best Pipeline\n",
        "automl.best_pipeline\n"
      ],
      "metadata": {
        "id": "YFnkGYZCgDhC",
        "colab": {
          "base_uri": "https://localhost:8080/"
        },
        "outputId": "4c75aca0-1d71-4119-9127-111a9dc8f06f"
      },
      "execution_count": null,
      "outputs": [
        {
          "output_type": "execute_result",
          "data": {
            "text/plain": [
              "pipeline = BinaryClassificationPipeline(component_graph={'Label Encoder': ['Label Encoder', 'X', 'y'], 'Imputer': ['Imputer', 'X', 'Label Encoder.y'], 'Undersampler': ['Undersampler', 'Imputer.x', 'Label Encoder.y'], 'LightGBM Classifier': ['LightGBM Classifier', 'Undersampler.x', 'Undersampler.y']}, parameters={'Label Encoder':{'positive_label': None}, 'Imputer':{'categorical_impute_strategy': 'most_frequent', 'numeric_impute_strategy': 'mean', 'categorical_fill_value': None, 'numeric_fill_value': None}, 'Undersampler':{'sampling_ratio': 0.25, 'min_samples': 100, 'min_percentage': 0.1, 'sampling_ratio_dict': None}, 'LightGBM Classifier':{'boosting_type': 'gbdt', 'learning_rate': 0.1, 'n_estimators': 100, 'max_depth': 0, 'num_leaves': 31, 'min_child_samples': 20, 'n_jobs': -1, 'bagging_freq': 0, 'bagging_fraction': 0.9}}, random_seed=0)"
            ]
          },
          "metadata": {},
          "execution_count": 52
        }
      ]
    },
    {
      "cell_type": "code",
      "source": [
        "best_pipeline=automl.best_pipeline\n"
      ],
      "metadata": {
        "id": "0bjwucRSgGoN"
      },
      "execution_count": null,
      "outputs": []
    },
    {
      "cell_type": "code",
      "source": [
        "automl.describe_pipeline(automl.rankings.iloc[0][\"id\"])\n"
      ],
      "metadata": {
        "id": "HKVBOaUzgIO1",
        "colab": {
          "base_uri": "https://localhost:8080/"
        },
        "outputId": "344d6827-5059-4ea1-c1b4-7a0da8a68505"
      },
      "execution_count": null,
      "outputs": [
        {
          "output_type": "stream",
          "name": "stdout",
          "text": [
            "\n",
            "*****************************************************************\n",
            "* LightGBM Classifier w/ Label Encoder + Imputer + Undersampler *\n",
            "*****************************************************************\n",
            "\n",
            "Problem Type: binary\n",
            "Model Family: LightGBM\n",
            "\n",
            "Pipeline Steps\n",
            "==============\n",
            "1. Label Encoder\n",
            "\t * positive_label : None\n",
            "2. Imputer\n",
            "\t * categorical_impute_strategy : most_frequent\n",
            "\t * numeric_impute_strategy : mean\n",
            "\t * categorical_fill_value : None\n",
            "\t * numeric_fill_value : None\n",
            "3. Undersampler\n",
            "\t * sampling_ratio : 0.25\n",
            "\t * min_samples : 100\n",
            "\t * min_percentage : 0.1\n",
            "\t * sampling_ratio_dict : None\n",
            "4. LightGBM Classifier\n",
            "\t * boosting_type : gbdt\n",
            "\t * learning_rate : 0.1\n",
            "\t * n_estimators : 100\n",
            "\t * max_depth : 0\n",
            "\t * num_leaves : 31\n",
            "\t * min_child_samples : 20\n",
            "\t * n_jobs : -1\n",
            "\t * bagging_freq : 0\n",
            "\t * bagging_fraction : 0.9\n",
            "\n",
            "Training\n",
            "========\n",
            "Training for binary problems.\n",
            "Total training time (including CV): 4.8 seconds\n",
            "\n",
            "Cross Validation\n",
            "----------------\n",
            "            Log Loss Binary MCC Binary  Gini   AUC Precision    F1 Balanced Accuracy Binary Accuracy Binary # Training # Validation\n",
            "0                     0.182      0.228 0.475 0.738     0.253 0.236                    0.607           0.983    112,500      337,500\n",
            "mean                  0.182      0.228 0.475 0.738     0.253 0.236                    0.607           0.983          -            -\n",
            "std                       -          -     -     -         -     -                        -               -          -            -\n",
            "coef of var               -          -     -     -         -     -                        -               -          -            -\n"
          ]
        }
      ]
    },
    {
      "cell_type": "code",
      "source": [
        "### Evaluate on hold out data\n",
        "#best_pipeline.score(X_val, y_val, objectives=[\"auc\",\"f1\",\"Precision\",\"Recall\"])\n"
      ],
      "metadata": {
        "id": "U-uNuBvdgKBo"
      },
      "execution_count": null,
      "outputs": []
    },
    {
      "cell_type": "code",
      "source": [
        "best_pipeline.save(\"model.pkl\")\n"
      ],
      "metadata": {
        "id": "cRrYdWUvgOH3"
      },
      "execution_count": null,
      "outputs": []
    },
    {
      "cell_type": "code",
      "source": [
        "check_model=automl.load('model.pkl')\n"
      ],
      "metadata": {
        "id": "hCFFob1Iga2A"
      },
      "execution_count": null,
      "outputs": []
    },
    {
      "cell_type": "code",
      "source": [
        "X_train.shape"
      ],
      "metadata": {
        "colab": {
          "base_uri": "https://localhost:8080/"
        },
        "id": "S3De1edYn1bP",
        "outputId": "38e35de2-a5c7-4293-e984-bbb84aefbf6e"
      },
      "execution_count": null,
      "outputs": [
        {
          "output_type": "execute_result",
          "data": {
            "text/plain": [
              "(450000, 15)"
            ]
          },
          "metadata": {},
          "execution_count": 58
        }
      ]
    },
    {
      "cell_type": "code",
      "source": [
        "X_train.columns"
      ],
      "metadata": {
        "colab": {
          "base_uri": "https://localhost:8080/"
        },
        "id": "6ybJUSwcoLYV",
        "outputId": "19d00a6e-1ff7-4598-c380-d47e491e3161"
      },
      "execution_count": null,
      "outputs": [
        {
          "output_type": "execute_result",
          "data": {
            "text/plain": [
              "Index(['order_id', 'rider_id', 'first_mile_distance', 'last_mile_distance',\n",
              "       'alloted_orders', 'delivered_orders', 'undelivered_orders',\n",
              "       'lifetime_order_count', 'session_time', 'diffAllotOrder',\n",
              "       'diffAcceptOrder', 'diffAcceptAllot', 'total_distance', 'order_week',\n",
              "       'order_hour'],\n",
              "      dtype='object')"
            ]
          },
          "metadata": {},
          "execution_count": 59
        }
      ]
    },
    {
      "cell_type": "code",
      "source": [
        "X_test.columns"
      ],
      "metadata": {
        "colab": {
          "base_uri": "https://localhost:8080/"
        },
        "id": "krzx-GQun4SN",
        "outputId": "fdc6e040-e521-4d3b-d5bf-167cd2d388dc"
      },
      "execution_count": null,
      "outputs": [
        {
          "output_type": "execute_result",
          "data": {
            "text/plain": [
              "Index(['order_id', 'rider_id', 'first_mile_distance', 'last_mile_distance',\n",
              "       'alloted_orders', 'delivered_orders', 'undelivered_orders',\n",
              "       'lifetime_order_count', 'session_time', 'diffAllotOrder',\n",
              "       'diffAcceptOrder', 'diffAcceptAllot', 'total_distance', 'order_week',\n",
              "       'order_hour'],\n",
              "      dtype='object')"
            ]
          },
          "metadata": {},
          "execution_count": 60
        }
      ]
    },
    {
      "cell_type": "code",
      "source": [
        "y_predval = check_model.predict_proba(X_test)\n"
      ],
      "metadata": {
        "id": "V7I0s-Xtgcsa"
      },
      "execution_count": null,
      "outputs": []
    },
    {
      "cell_type": "code",
      "source": [
        "y_predval.columns"
      ],
      "metadata": {
        "colab": {
          "base_uri": "https://localhost:8080/"
        },
        "id": "sb3ZyFn_i_Lz",
        "outputId": "123cea0d-fe88-4376-c74b-d9b4d04108fe"
      },
      "execution_count": null,
      "outputs": [
        {
          "output_type": "execute_result",
          "data": {
            "text/plain": [
              "Index([0, 1, 'cancelled'], dtype='object')"
            ]
          },
          "metadata": {},
          "execution_count": 63
        }
      ]
    },
    {
      "cell_type": "code",
      "source": [
        "y_predval['cancelled']=np.where(y_predval[0] > 0.5 , 0,1)"
      ],
      "metadata": {
        "id": "4hANo7zojCiJ"
      },
      "execution_count": null,
      "outputs": []
    },
    {
      "cell_type": "code",
      "source": [
        "y_predval.isna().sum()"
      ],
      "metadata": {
        "colab": {
          "base_uri": "https://localhost:8080/"
        },
        "id": "hZVdUV9ZnboX",
        "outputId": "cf611493-a38e-43bf-a6db-cdfc7235d584"
      },
      "execution_count": null,
      "outputs": [
        {
          "output_type": "execute_result",
          "data": {
            "text/plain": [
              "0            0\n",
              "1            0\n",
              "cancelled    0\n",
              "dtype: int64"
            ]
          },
          "metadata": {},
          "execution_count": 64
        }
      ]
    },
    {
      "cell_type": "code",
      "source": [
        "y_predval['cancelled'].value_counts()"
      ],
      "metadata": {
        "colab": {
          "base_uri": "https://localhost:8080/"
        },
        "id": "ScpsFqkJk3mz",
        "outputId": "668f8939-8e1d-414d-f410-a80630c347f1"
      },
      "execution_count": null,
      "outputs": [
        {
          "output_type": "execute_result",
          "data": {
            "text/plain": [
              "0    140202\n",
              "1      4642\n",
              "Name: cancelled, dtype: int64"
            ]
          },
          "metadata": {},
          "execution_count": 65
        }
      ]
    },
    {
      "cell_type": "code",
      "source": [
        "final_df = pd.DataFrame()"
      ],
      "metadata": {
        "id": "tg3VcVvomeXf"
      },
      "execution_count": null,
      "outputs": []
    },
    {
      "cell_type": "code",
      "source": [
        "final_df['order_id'] = X_test['order_id']"
      ],
      "metadata": {
        "id": "jcfK0dNjmE00"
      },
      "execution_count": null,
      "outputs": []
    },
    {
      "cell_type": "code",
      "source": [
        "final_df['cancelled'] = y_predval['cancelled']"
      ],
      "metadata": {
        "id": "oU_Scc-vl-ml"
      },
      "execution_count": null,
      "outputs": []
    },
    {
      "cell_type": "code",
      "source": [
        "final_df.shape"
      ],
      "metadata": {
        "colab": {
          "base_uri": "https://localhost:8080/"
        },
        "id": "bCuDPR6ymrKg",
        "outputId": "b22f4438-d499-4abc-dfe9-d51d38b91607"
      },
      "execution_count": null,
      "outputs": [
        {
          "output_type": "execute_result",
          "data": {
            "text/plain": [
              "(144844, 2)"
            ]
          },
          "metadata": {},
          "execution_count": 70
        }
      ]
    },
    {
      "cell_type": "code",
      "source": [
        "final_df.to_csv('./submission_evalml.csv',index = False)"
      ],
      "metadata": {
        "id": "7xDZo9aymsuj"
      },
      "execution_count": null,
      "outputs": []
    },
    {
      "cell_type": "code",
      "source": [
        "final_df"
      ],
      "metadata": {
        "colab": {
          "base_uri": "https://localhost:8080/",
          "height": 423
        },
        "id": "Jy7SsjlEm1K5",
        "outputId": "adc8c69a-87b0-4ff8-9b08-8683829d9e08"
      },
      "execution_count": null,
      "outputs": [
        {
          "output_type": "execute_result",
          "data": {
            "text/html": [
              "\n",
              "  <div id=\"df-329c7584-71d1-4919-b784-9c68b2c4ca42\">\n",
              "    <div class=\"colab-df-container\">\n",
              "      <div>\n",
              "<style scoped>\n",
              "    .dataframe tbody tr th:only-of-type {\n",
              "        vertical-align: middle;\n",
              "    }\n",
              "\n",
              "    .dataframe tbody tr th {\n",
              "        vertical-align: top;\n",
              "    }\n",
              "\n",
              "    .dataframe thead th {\n",
              "        text-align: right;\n",
              "    }\n",
              "</style>\n",
              "<table border=\"1\" class=\"dataframe\">\n",
              "  <thead>\n",
              "    <tr style=\"text-align: right;\">\n",
              "      <th></th>\n",
              "      <th>order_id</th>\n",
              "      <th>cancelled</th>\n",
              "    </tr>\n",
              "  </thead>\n",
              "  <tbody>\n",
              "    <tr>\n",
              "      <th>0</th>\n",
              "      <td>130231</td>\n",
              "      <td>0</td>\n",
              "    </tr>\n",
              "    <tr>\n",
              "      <th>1</th>\n",
              "      <td>130232</td>\n",
              "      <td>0</td>\n",
              "    </tr>\n",
              "    <tr>\n",
              "      <th>2</th>\n",
              "      <td>130233</td>\n",
              "      <td>0</td>\n",
              "    </tr>\n",
              "    <tr>\n",
              "      <th>3</th>\n",
              "      <td>130234</td>\n",
              "      <td>0</td>\n",
              "    </tr>\n",
              "    <tr>\n",
              "      <th>4</th>\n",
              "      <td>130235</td>\n",
              "      <td>0</td>\n",
              "    </tr>\n",
              "    <tr>\n",
              "      <th>...</th>\n",
              "      <td>...</td>\n",
              "      <td>...</td>\n",
              "    </tr>\n",
              "    <tr>\n",
              "      <th>144839</th>\n",
              "      <td>41184</td>\n",
              "      <td>0</td>\n",
              "    </tr>\n",
              "    <tr>\n",
              "      <th>144840</th>\n",
              "      <td>41185</td>\n",
              "      <td>0</td>\n",
              "    </tr>\n",
              "    <tr>\n",
              "      <th>144841</th>\n",
              "      <td>41186</td>\n",
              "      <td>0</td>\n",
              "    </tr>\n",
              "    <tr>\n",
              "      <th>144842</th>\n",
              "      <td>41187</td>\n",
              "      <td>0</td>\n",
              "    </tr>\n",
              "    <tr>\n",
              "      <th>144843</th>\n",
              "      <td>41188</td>\n",
              "      <td>0</td>\n",
              "    </tr>\n",
              "  </tbody>\n",
              "</table>\n",
              "<p>144844 rows × 2 columns</p>\n",
              "</div>\n",
              "      <button class=\"colab-df-convert\" onclick=\"convertToInteractive('df-329c7584-71d1-4919-b784-9c68b2c4ca42')\"\n",
              "              title=\"Convert this dataframe to an interactive table.\"\n",
              "              style=\"display:none;\">\n",
              "        \n",
              "  <svg xmlns=\"http://www.w3.org/2000/svg\" height=\"24px\"viewBox=\"0 0 24 24\"\n",
              "       width=\"24px\">\n",
              "    <path d=\"M0 0h24v24H0V0z\" fill=\"none\"/>\n",
              "    <path d=\"M18.56 5.44l.94 2.06.94-2.06 2.06-.94-2.06-.94-.94-2.06-.94 2.06-2.06.94zm-11 1L8.5 8.5l.94-2.06 2.06-.94-2.06-.94L8.5 2.5l-.94 2.06-2.06.94zm10 10l.94 2.06.94-2.06 2.06-.94-2.06-.94-.94-2.06-.94 2.06-2.06.94z\"/><path d=\"M17.41 7.96l-1.37-1.37c-.4-.4-.92-.59-1.43-.59-.52 0-1.04.2-1.43.59L10.3 9.45l-7.72 7.72c-.78.78-.78 2.05 0 2.83L4 21.41c.39.39.9.59 1.41.59.51 0 1.02-.2 1.41-.59l7.78-7.78 2.81-2.81c.8-.78.8-2.07 0-2.86zM5.41 20L4 18.59l7.72-7.72 1.47 1.35L5.41 20z\"/>\n",
              "  </svg>\n",
              "      </button>\n",
              "      \n",
              "  <style>\n",
              "    .colab-df-container {\n",
              "      display:flex;\n",
              "      flex-wrap:wrap;\n",
              "      gap: 12px;\n",
              "    }\n",
              "\n",
              "    .colab-df-convert {\n",
              "      background-color: #E8F0FE;\n",
              "      border: none;\n",
              "      border-radius: 50%;\n",
              "      cursor: pointer;\n",
              "      display: none;\n",
              "      fill: #1967D2;\n",
              "      height: 32px;\n",
              "      padding: 0 0 0 0;\n",
              "      width: 32px;\n",
              "    }\n",
              "\n",
              "    .colab-df-convert:hover {\n",
              "      background-color: #E2EBFA;\n",
              "      box-shadow: 0px 1px 2px rgba(60, 64, 67, 0.3), 0px 1px 3px 1px rgba(60, 64, 67, 0.15);\n",
              "      fill: #174EA6;\n",
              "    }\n",
              "\n",
              "    [theme=dark] .colab-df-convert {\n",
              "      background-color: #3B4455;\n",
              "      fill: #D2E3FC;\n",
              "    }\n",
              "\n",
              "    [theme=dark] .colab-df-convert:hover {\n",
              "      background-color: #434B5C;\n",
              "      box-shadow: 0px 1px 3px 1px rgba(0, 0, 0, 0.15);\n",
              "      filter: drop-shadow(0px 1px 2px rgba(0, 0, 0, 0.3));\n",
              "      fill: #FFFFFF;\n",
              "    }\n",
              "  </style>\n",
              "\n",
              "      <script>\n",
              "        const buttonEl =\n",
              "          document.querySelector('#df-329c7584-71d1-4919-b784-9c68b2c4ca42 button.colab-df-convert');\n",
              "        buttonEl.style.display =\n",
              "          google.colab.kernel.accessAllowed ? 'block' : 'none';\n",
              "\n",
              "        async function convertToInteractive(key) {\n",
              "          const element = document.querySelector('#df-329c7584-71d1-4919-b784-9c68b2c4ca42');\n",
              "          const dataTable =\n",
              "            await google.colab.kernel.invokeFunction('convertToInteractive',\n",
              "                                                     [key], {});\n",
              "          if (!dataTable) return;\n",
              "\n",
              "          const docLinkHtml = 'Like what you see? Visit the ' +\n",
              "            '<a target=\"_blank\" href=https://colab.research.google.com/notebooks/data_table.ipynb>data table notebook</a>'\n",
              "            + ' to learn more about interactive tables.';\n",
              "          element.innerHTML = '';\n",
              "          dataTable['output_type'] = 'display_data';\n",
              "          await google.colab.output.renderOutput(dataTable, element);\n",
              "          const docLink = document.createElement('div');\n",
              "          docLink.innerHTML = docLinkHtml;\n",
              "          element.appendChild(docLink);\n",
              "        }\n",
              "      </script>\n",
              "    </div>\n",
              "  </div>\n",
              "  "
            ],
            "text/plain": [
              "        order_id  cancelled\n",
              "0         130231          0\n",
              "1         130232          0\n",
              "2         130233          0\n",
              "3         130234          0\n",
              "4         130235          0\n",
              "...          ...        ...\n",
              "144839     41184          0\n",
              "144840     41185          0\n",
              "144841     41186          0\n",
              "144842     41187          0\n",
              "144843     41188          0\n",
              "\n",
              "[144844 rows x 2 columns]"
            ]
          },
          "metadata": {},
          "execution_count": 71
        }
      ]
    },
    {
      "cell_type": "code",
      "source": [
        "final_df.isna().sum()"
      ],
      "metadata": {
        "colab": {
          "base_uri": "https://localhost:8080/"
        },
        "id": "N2Mek-v9nM4G",
        "outputId": "8d556105-48f8-42b4-d742-53fbb129342d"
      },
      "execution_count": null,
      "outputs": [
        {
          "output_type": "execute_result",
          "data": {
            "text/plain": [
              "order_id     0\n",
              "cancelled    0\n",
              "dtype: int64"
            ]
          },
          "metadata": {},
          "execution_count": 72
        }
      ]
    },
    {
      "cell_type": "markdown",
      "source": [
        "#Evalml 2"
      ],
      "metadata": {
        "id": "xk3zjJS0rniF"
      }
    },
    {
      "cell_type": "code",
      "source": [
        "automl1 = AutoMLSearch(X_train=X_train, y_train=y_train, problem_type='binary',ensembling=True,max_batches=100,verbose=True)\n"
      ],
      "metadata": {
        "colab": {
          "base_uri": "https://localhost:8080/"
        },
        "id": "HFN19j47uFQQ",
        "outputId": "5fbf1fc0-8d46-4250-9aa1-ebc12876cf0c"
      },
      "execution_count": null,
      "outputs": [
        {
          "output_type": "stream",
          "name": "stdout",
          "text": [
            "Generating pipelines to search over...\n",
            "Ensembling will run every 9 batches.\n",
            "8 pipelines ready for search.\n"
          ]
        }
      ]
    },
    {
      "cell_type": "code",
      "source": [
        "automl1.search()"
      ],
      "metadata": {
        "colab": {
          "base_uri": "https://localhost:8080/",
          "height": 1000,
          "referenced_widgets": [
            "a9f13a32775d445587f27aabc3683941"
          ]
        },
        "id": "-PMibGcSv16R",
        "outputId": "acf4c765-fb72-48da-ac90-ff7bfce32d2d"
      },
      "execution_count": null,
      "outputs": [
        {
          "output_type": "stream",
          "name": "stdout",
          "text": [
            "\n",
            "*****************************\n",
            "* Beginning pipeline search *\n",
            "*****************************\n",
            "\n",
            "Optimizing for Log Loss Binary. \n",
            "Lower score is better.\n",
            "\n",
            "Using SequentialEngine to train and score pipelines.\n",
            "Searching up to 100 batches for a total of 460 pipelines. \n",
            "Allowed model families: linear_model, linear_model, xgboost, lightgbm, catboost, random_forest, decision_tree, extra_trees\n",
            "\n"
          ]
        },
        {
          "output_type": "display_data",
          "data": {
            "application/vnd.jupyter.widget-view+json": {
              "model_id": "a9f13a32775d445587f27aabc3683941",
              "version_minor": 0,
              "version_major": 2
            },
            "text/plain": [
              "FigureWidget({\n",
              "    'data': [{'mode': 'lines+markers',\n",
              "              'name': 'Best Score',\n",
              "              'type'…"
            ]
          },
          "metadata": {}
        },
        {
          "output_type": "stream",
          "name": "stdout",
          "text": [
            "Evaluating Baseline Pipeline: Mode Baseline Binary Classification Pipeline\n",
            "Mode Baseline Binary Classification Pipeline:\n",
            "\tStarting cross validation\n",
            "\tFinished cross validation - mean Log Loss Binary: 0.406\n",
            "\n",
            "*****************************\n",
            "* Evaluating Batch Number 1 *\n",
            "*****************************\n",
            "\n",
            "Elastic Net Classifier w/ Label Encoder + Imputer + Undersampler + Standard Scaler:\n",
            "\tStarting cross validation\n",
            "\tFinished cross validation - mean Log Loss Binary: 0.212\n",
            "Logistic Regression Classifier w/ Label Encoder + Imputer + Undersampler + Standard Scaler:\n",
            "\tStarting cross validation\n",
            "\tFinished cross validation - mean Log Loss Binary: 0.211\n",
            "XGBoost Classifier w/ Label Encoder + Imputer + Undersampler:\n",
            "\tStarting cross validation\n",
            "\tFinished cross validation - mean Log Loss Binary: 0.190\n",
            "LightGBM Classifier w/ Label Encoder + Imputer + Undersampler:\n",
            "\tStarting cross validation\n",
            "\tFinished cross validation - mean Log Loss Binary: 0.182\n",
            "CatBoost Classifier w/ Label Encoder + Imputer + Undersampler:\n",
            "\tStarting cross validation\n",
            "\tFinished cross validation - mean Log Loss Binary: 0.539\n",
            "Random Forest Classifier w/ Label Encoder + Imputer + Undersampler:\n",
            "\tStarting cross validation\n",
            "\tFinished cross validation - mean Log Loss Binary: 0.198\n",
            "Decision Tree Classifier w/ Label Encoder + Imputer + Undersampler:\n",
            "\tStarting cross validation\n",
            "\tFinished cross validation - mean Log Loss Binary: 0.436\n",
            "Extra Trees Classifier w/ Label Encoder + Imputer + Undersampler:\n",
            "\tStarting cross validation\n",
            "\tFinished cross validation - mean Log Loss Binary: 0.217\n",
            "\n",
            "*****************************\n",
            "* Evaluating Batch Number 2 *\n",
            "*****************************\n",
            "\n",
            "LightGBM Classifier w/ Label Encoder + Imputer + Undersampler:\n",
            "\tStarting cross validation\n",
            "\tFinished cross validation - mean Log Loss Binary: 0.234\n",
            "LightGBM Classifier w/ Label Encoder + Imputer + Undersampler:\n",
            "\tStarting cross validation\n",
            "\tFinished cross validation - mean Log Loss Binary: 0.206\n",
            "LightGBM Classifier w/ Label Encoder + Imputer + Undersampler:\n",
            "\tStarting cross validation\n",
            "\tFinished cross validation - mean Log Loss Binary: 0.229\n",
            "LightGBM Classifier w/ Label Encoder + Imputer + Undersampler:\n",
            "\tStarting cross validation\n",
            "\tFinished cross validation - mean Log Loss Binary: 0.331\n",
            "LightGBM Classifier w/ Label Encoder + Imputer + Undersampler:\n",
            "\tStarting cross validation\n",
            "\tFinished cross validation - mean Log Loss Binary: 0.211\n",
            "\n",
            "*****************************\n",
            "* Evaluating Batch Number 3 *\n",
            "*****************************\n",
            "\n",
            "XGBoost Classifier w/ Label Encoder + Imputer + Undersampler:\n",
            "\tStarting cross validation\n",
            "\tFinished cross validation - mean Log Loss Binary: 0.232\n",
            "XGBoost Classifier w/ Label Encoder + Imputer + Undersampler:\n",
            "\tStarting cross validation\n",
            "\tFinished cross validation - mean Log Loss Binary: 0.203\n",
            "XGBoost Classifier w/ Label Encoder + Imputer + Undersampler:\n",
            "\tStarting cross validation\n",
            "\tFinished cross validation - mean Log Loss Binary: 0.209\n",
            "XGBoost Classifier w/ Label Encoder + Imputer + Undersampler:\n",
            "\tStarting cross validation\n",
            "\tFinished cross validation - mean Log Loss Binary: 0.196\n",
            "XGBoost Classifier w/ Label Encoder + Imputer + Undersampler:\n",
            "\tStarting cross validation\n",
            "\tFinished cross validation - mean Log Loss Binary: 0.216\n",
            "\n",
            "*****************************\n",
            "* Evaluating Batch Number 4 *\n",
            "*****************************\n",
            "\n",
            "Random Forest Classifier w/ Label Encoder + Imputer + Undersampler:\n",
            "\tStarting cross validation\n",
            "\tFinished cross validation - mean Log Loss Binary: 0.203\n",
            "Random Forest Classifier w/ Label Encoder + Imputer + Undersampler:\n",
            "\tStarting cross validation\n",
            "\tFinished cross validation - mean Log Loss Binary: 0.199\n",
            "Random Forest Classifier w/ Label Encoder + Imputer + Undersampler:\n",
            "\tStarting cross validation\n",
            "\tFinished cross validation - mean Log Loss Binary: 0.215\n",
            "Random Forest Classifier w/ Label Encoder + Imputer + Undersampler:\n",
            "\tStarting cross validation\n",
            "\tFinished cross validation - mean Log Loss Binary: 0.215\n",
            "Random Forest Classifier w/ Label Encoder + Imputer + Undersampler:\n",
            "\tStarting cross validation\n",
            "\tFinished cross validation - mean Log Loss Binary: 0.199\n",
            "\n",
            "*****************************\n",
            "* Evaluating Batch Number 5 *\n",
            "*****************************\n",
            "\n",
            "Logistic Regression Classifier w/ Label Encoder + Imputer + Undersampler + Standard Scaler:\n",
            "\tStarting cross validation\n",
            "\tFinished cross validation - mean Log Loss Binary: 0.210\n",
            "Logistic Regression Classifier w/ Label Encoder + Imputer + Undersampler + Standard Scaler:\n",
            "\tStarting cross validation\n",
            "\tFinished cross validation - mean Log Loss Binary: 0.211\n",
            "Logistic Regression Classifier w/ Label Encoder + Imputer + Undersampler + Standard Scaler:\n",
            "\tStarting cross validation\n",
            "\tFinished cross validation - mean Log Loss Binary: 0.210\n",
            "Logistic Regression Classifier w/ Label Encoder + Imputer + Undersampler + Standard Scaler:\n",
            "\tStarting cross validation\n",
            "\tFinished cross validation - mean Log Loss Binary: 0.210\n",
            "Logistic Regression Classifier w/ Label Encoder + Imputer + Undersampler + Standard Scaler:\n",
            "\tStarting cross validation\n",
            "\tFinished cross validation - mean Log Loss Binary: 0.210\n",
            "\n",
            "*****************************\n",
            "* Evaluating Batch Number 6 *\n",
            "*****************************\n",
            "\n",
            "Elastic Net Classifier w/ Label Encoder + Imputer + Undersampler + Standard Scaler:\n",
            "\tStarting cross validation\n",
            "\tFinished cross validation - mean Log Loss Binary: 0.212\n",
            "Elastic Net Classifier w/ Label Encoder + Imputer + Undersampler + Standard Scaler:\n",
            "\tStarting cross validation\n",
            "\tFinished cross validation - mean Log Loss Binary: 0.212\n",
            "Elastic Net Classifier w/ Label Encoder + Imputer + Undersampler + Standard Scaler:\n",
            "\tStarting cross validation\n",
            "\tFinished cross validation - mean Log Loss Binary: 0.212\n",
            "Elastic Net Classifier w/ Label Encoder + Imputer + Undersampler + Standard Scaler:\n",
            "\tStarting cross validation\n",
            "\tFinished cross validation - mean Log Loss Binary: 0.212\n",
            "Elastic Net Classifier w/ Label Encoder + Imputer + Undersampler + Standard Scaler:\n",
            "\tStarting cross validation\n",
            "\tFinished cross validation - mean Log Loss Binary: 0.212\n",
            "\n",
            "*****************************\n",
            "* Evaluating Batch Number 7 *\n",
            "*****************************\n",
            "\n",
            "Extra Trees Classifier w/ Label Encoder + Imputer + Undersampler:\n",
            "\tStarting cross validation\n",
            "\tFinished cross validation - mean Log Loss Binary: 0.219\n",
            "Extra Trees Classifier w/ Label Encoder + Imputer + Undersampler:\n",
            "\tStarting cross validation\n",
            "\tFinished cross validation - mean Log Loss Binary: 0.222\n",
            "Extra Trees Classifier w/ Label Encoder + Imputer + Undersampler:\n",
            "\tStarting cross validation\n",
            "\tFinished cross validation - mean Log Loss Binary: 0.222\n",
            "Extra Trees Classifier w/ Label Encoder + Imputer + Undersampler:\n",
            "\tStarting cross validation\n",
            "\tFinished cross validation - mean Log Loss Binary: 0.214\n",
            "Extra Trees Classifier w/ Label Encoder + Imputer + Undersampler:\n",
            "\tStarting cross validation\n",
            "\tFinished cross validation - mean Log Loss Binary: 0.216\n",
            "\n",
            "*****************************\n",
            "* Evaluating Batch Number 8 *\n",
            "*****************************\n",
            "\n",
            "Decision Tree Classifier w/ Label Encoder + Imputer + Undersampler:\n",
            "\tStarting cross validation\n",
            "\tFinished cross validation - mean Log Loss Binary: 0.613\n",
            "Decision Tree Classifier w/ Label Encoder + Imputer + Undersampler:\n",
            "\tStarting cross validation\n",
            "\tFinished cross validation - mean Log Loss Binary: 0.471\n",
            "Decision Tree Classifier w/ Label Encoder + Imputer + Undersampler:\n",
            "\tStarting cross validation\n",
            "\tFinished cross validation - mean Log Loss Binary: 0.269\n",
            "Decision Tree Classifier w/ Label Encoder + Imputer + Undersampler:\n",
            "\tStarting cross validation\n",
            "\tFinished cross validation - mean Log Loss Binary: 0.875\n",
            "Decision Tree Classifier w/ Label Encoder + Imputer + Undersampler:\n",
            "\tStarting cross validation\n",
            "\tFinished cross validation - mean Log Loss Binary: 0.762\n",
            "\n",
            "*****************************\n",
            "* Evaluating Batch Number 9 *\n",
            "*****************************\n",
            "\n",
            "CatBoost Classifier w/ Label Encoder + Imputer + Undersampler:\n",
            "\tStarting cross validation\n",
            "\tFinished cross validation - mean Log Loss Binary: 0.207\n",
            "CatBoost Classifier w/ Label Encoder + Imputer + Undersampler:\n",
            "\tStarting cross validation\n",
            "\tFinished cross validation - mean Log Loss Binary: 0.201\n",
            "CatBoost Classifier w/ Label Encoder + Imputer + Undersampler:\n",
            "\tStarting cross validation\n",
            "\tFinished cross validation - mean Log Loss Binary: 0.193\n",
            "CatBoost Classifier w/ Label Encoder + Imputer + Undersampler:\n",
            "\tStarting cross validation\n",
            "\tFinished cross validation - mean Log Loss Binary: 0.199\n",
            "CatBoost Classifier w/ Label Encoder + Imputer + Undersampler:\n",
            "\tStarting cross validation\n",
            "\tFinished cross validation - mean Log Loss Binary: 0.204\n",
            "\n",
            "******************************\n",
            "* Evaluating Batch Number 10 *\n",
            "******************************\n",
            "\n",
            "Stacked Ensemble Classification Pipeline:\n",
            "\tStarting cross validation\n",
            "\tFinished cross validation - mean Log Loss Binary: 0.253\n",
            "\n",
            "******************************\n",
            "* Evaluating Batch Number 11 *\n",
            "******************************\n",
            "\n",
            "LightGBM Classifier w/ Label Encoder + Imputer + Undersampler:\n",
            "\tStarting cross validation\n",
            "\tFinished cross validation - mean Log Loss Binary: 0.221\n",
            "LightGBM Classifier w/ Label Encoder + Imputer + Undersampler:\n",
            "\tStarting cross validation\n",
            "\tFinished cross validation - mean Log Loss Binary: 0.260\n",
            "LightGBM Classifier w/ Label Encoder + Imputer + Undersampler:\n",
            "\tStarting cross validation\n",
            "\tFinished cross validation - mean Log Loss Binary: 0.190\n",
            "LightGBM Classifier w/ Label Encoder + Imputer + Undersampler:\n",
            "\tStarting cross validation\n",
            "\tFinished cross validation - mean Log Loss Binary: 0.243\n",
            "LightGBM Classifier w/ Label Encoder + Imputer + Undersampler:\n",
            "\tStarting cross validation\n",
            "\tFinished cross validation - mean Log Loss Binary: 0.221\n",
            "\n",
            "******************************\n",
            "* Evaluating Batch Number 12 *\n",
            "******************************\n",
            "\n",
            "XGBoost Classifier w/ Label Encoder + Imputer + Undersampler:\n",
            "\tStarting cross validation\n",
            "\tFinished cross validation - mean Log Loss Binary: 0.163\n",
            "XGBoost Classifier w/ Label Encoder + Imputer + Undersampler:\n",
            "\tStarting cross validation\n",
            "\tFinished cross validation - mean Log Loss Binary: 0.184\n",
            "XGBoost Classifier w/ Label Encoder + Imputer + Undersampler:\n",
            "\tStarting cross validation\n",
            "\tFinished cross validation - mean Log Loss Binary: 0.255\n",
            "XGBoost Classifier w/ Label Encoder + Imputer + Undersampler:\n",
            "\tStarting cross validation\n",
            "\tFinished cross validation - mean Log Loss Binary: 0.225\n",
            "XGBoost Classifier w/ Label Encoder + Imputer + Undersampler:\n",
            "\tStarting cross validation\n",
            "\tFinished cross validation - mean Log Loss Binary: 0.257\n",
            "\n",
            "******************************\n",
            "* Evaluating Batch Number 13 *\n",
            "******************************\n",
            "\n",
            "Random Forest Classifier w/ Label Encoder + Imputer + Undersampler:\n",
            "\tStarting cross validation\n",
            "\tFinished cross validation - mean Log Loss Binary: 0.225\n",
            "Random Forest Classifier w/ Label Encoder + Imputer + Undersampler:\n",
            "\tStarting cross validation\n",
            "\tFinished cross validation - mean Log Loss Binary: 0.203\n",
            "Random Forest Classifier w/ Label Encoder + Imputer + Undersampler:\n",
            "\tStarting cross validation\n",
            "\tFinished cross validation - mean Log Loss Binary: 0.192\n",
            "Random Forest Classifier w/ Label Encoder + Imputer + Undersampler:\n",
            "\tStarting cross validation\n",
            "\tFinished cross validation - mean Log Loss Binary: 0.199\n",
            "Random Forest Classifier w/ Label Encoder + Imputer + Undersampler:\n",
            "\tStarting cross validation\n",
            "\tFinished cross validation - mean Log Loss Binary: 0.194\n",
            "\n",
            "******************************\n",
            "* Evaluating Batch Number 14 *\n",
            "******************************\n",
            "\n",
            "Logistic Regression Classifier w/ Label Encoder + Imputer + Undersampler + Standard Scaler:\n",
            "\tStarting cross validation\n",
            "\tFinished cross validation - mean Log Loss Binary: 0.210\n",
            "Logistic Regression Classifier w/ Label Encoder + Imputer + Undersampler + Standard Scaler:\n",
            "\tStarting cross validation\n",
            "\tFinished cross validation - mean Log Loss Binary: 0.210\n",
            "Logistic Regression Classifier w/ Label Encoder + Imputer + Undersampler + Standard Scaler:\n",
            "\tStarting cross validation\n",
            "\tFinished cross validation - mean Log Loss Binary: 0.210\n",
            "Logistic Regression Classifier w/ Label Encoder + Imputer + Undersampler + Standard Scaler:\n",
            "\tStarting cross validation\n",
            "\tFinished cross validation - mean Log Loss Binary: 0.211\n",
            "Logistic Regression Classifier w/ Label Encoder + Imputer + Undersampler + Standard Scaler:\n",
            "\tStarting cross validation\n",
            "\tFinished cross validation - mean Log Loss Binary: 0.210\n",
            "\n",
            "******************************\n",
            "* Evaluating Batch Number 15 *\n",
            "******************************\n",
            "\n",
            "Elastic Net Classifier w/ Label Encoder + Imputer + Undersampler + Standard Scaler:\n",
            "\tStarting cross validation\n",
            "\tFinished cross validation - mean Log Loss Binary: 0.212\n",
            "Elastic Net Classifier w/ Label Encoder + Imputer + Undersampler + Standard Scaler:\n",
            "\tStarting cross validation\n",
            "\tFinished cross validation - mean Log Loss Binary: 0.212\n",
            "Elastic Net Classifier w/ Label Encoder + Imputer + Undersampler + Standard Scaler:\n",
            "\tStarting cross validation\n",
            "\tFinished cross validation - mean Log Loss Binary: 0.212\n",
            "Elastic Net Classifier w/ Label Encoder + Imputer + Undersampler + Standard Scaler:\n",
            "\tStarting cross validation\n",
            "\tFinished cross validation - mean Log Loss Binary: 0.212\n",
            "Elastic Net Classifier w/ Label Encoder + Imputer + Undersampler + Standard Scaler:\n",
            "\tStarting cross validation\n",
            "\tFinished cross validation - mean Log Loss Binary: 0.212\n",
            "\n",
            "******************************\n",
            "* Evaluating Batch Number 16 *\n",
            "******************************\n",
            "\n",
            "Extra Trees Classifier w/ Label Encoder + Imputer + Undersampler:\n",
            "\tStarting cross validation\n",
            "\tFinished cross validation - mean Log Loss Binary: 0.208\n",
            "Extra Trees Classifier w/ Label Encoder + Imputer + Undersampler:\n",
            "\tStarting cross validation\n",
            "\tFinished cross validation - mean Log Loss Binary: 0.216\n",
            "Extra Trees Classifier w/ Label Encoder + Imputer + Undersampler:\n",
            "\tStarting cross validation\n",
            "\tFinished cross validation - mean Log Loss Binary: 0.212\n",
            "Extra Trees Classifier w/ Label Encoder + Imputer + Undersampler:\n",
            "\tStarting cross validation\n",
            "\tFinished cross validation - mean Log Loss Binary: 0.222\n",
            "Extra Trees Classifier w/ Label Encoder + Imputer + Undersampler:\n",
            "\tStarting cross validation\n",
            "\tFinished cross validation - mean Log Loss Binary: 0.222\n",
            "\n",
            "******************************\n",
            "* Evaluating Batch Number 17 *\n",
            "******************************\n",
            "\n",
            "Decision Tree Classifier w/ Label Encoder + Imputer + Undersampler:\n",
            "\tStarting cross validation\n",
            "\tFinished cross validation - mean Log Loss Binary: 0.235\n",
            "Decision Tree Classifier w/ Label Encoder + Imputer + Undersampler:\n",
            "\tStarting cross validation\n",
            "\tFinished cross validation - mean Log Loss Binary: 0.552\n",
            "Decision Tree Classifier w/ Label Encoder + Imputer + Undersampler:\n",
            "\tStarting cross validation\n",
            "\tFinished cross validation - mean Log Loss Binary: 0.629\n",
            "Decision Tree Classifier w/ Label Encoder + Imputer + Undersampler:\n",
            "\tStarting cross validation\n",
            "\tFinished cross validation - mean Log Loss Binary: 0.269\n",
            "Decision Tree Classifier w/ Label Encoder + Imputer + Undersampler:\n",
            "\tStarting cross validation\n",
            "\tFinished cross validation - mean Log Loss Binary: 1.176\n",
            "\n",
            "******************************\n",
            "* Evaluating Batch Number 18 *\n",
            "******************************\n",
            "\n",
            "CatBoost Classifier w/ Label Encoder + Imputer + Undersampler:\n",
            "\tStarting cross validation\n",
            "\tFinished cross validation - mean Log Loss Binary: 0.195\n",
            "CatBoost Classifier w/ Label Encoder + Imputer + Undersampler:\n",
            "\tStarting cross validation\n",
            "\tFinished cross validation - mean Log Loss Binary: 0.193\n",
            "CatBoost Classifier w/ Label Encoder + Imputer + Undersampler:\n",
            "\tStarting cross validation\n",
            "\tFinished cross validation - mean Log Loss Binary: 0.193\n",
            "CatBoost Classifier w/ Label Encoder + Imputer + Undersampler:\n",
            "\tStarting cross validation\n",
            "\tFinished cross validation - mean Log Loss Binary: 0.194\n",
            "CatBoost Classifier w/ Label Encoder + Imputer + Undersampler:\n",
            "\tStarting cross validation\n",
            "\tFinished cross validation - mean Log Loss Binary: 0.199\n",
            "\n",
            "******************************\n",
            "* Evaluating Batch Number 19 *\n",
            "******************************\n",
            "\n",
            "Stacked Ensemble Classification Pipeline:\n",
            "\tStarting cross validation\n",
            "\tFinished cross validation - mean Log Loss Binary: 0.195\n",
            "\n",
            "******************************\n",
            "* Evaluating Batch Number 20 *\n",
            "******************************\n",
            "\n",
            "LightGBM Classifier w/ Label Encoder + Imputer + Undersampler:\n",
            "\tStarting cross validation\n",
            "\tFinished cross validation - mean Log Loss Binary: 0.239\n",
            "LightGBM Classifier w/ Label Encoder + Imputer + Undersampler:\n",
            "\tStarting cross validation\n",
            "\tFinished cross validation - mean Log Loss Binary: 0.239\n",
            "LightGBM Classifier w/ Label Encoder + Imputer + Undersampler:\n",
            "\tStarting cross validation\n",
            "\tFinished cross validation - mean Log Loss Binary: 0.239\n",
            "LightGBM Classifier w/ Label Encoder + Imputer + Undersampler:\n",
            "\tStarting cross validation\n",
            "\tFinished cross validation - mean Log Loss Binary: 0.239\n",
            "LightGBM Classifier w/ Label Encoder + Imputer + Undersampler:\n",
            "\tStarting cross validation\n",
            "\tFinished cross validation - mean Log Loss Binary: 0.239\n",
            "\n",
            "******************************\n",
            "* Evaluating Batch Number 21 *\n",
            "******************************\n",
            "\n",
            "XGBoost Classifier w/ Label Encoder + Imputer + Undersampler:\n",
            "\tStarting cross validation\n",
            "\tFinished cross validation - mean Log Loss Binary: 0.169\n",
            "XGBoost Classifier w/ Label Encoder + Imputer + Undersampler:\n",
            "\tStarting cross validation\n",
            "\tFinished cross validation - mean Log Loss Binary: 0.169\n",
            "XGBoost Classifier w/ Label Encoder + Imputer + Undersampler:\n",
            "\tStarting cross validation\n",
            "\tFinished cross validation - mean Log Loss Binary: 0.169\n",
            "XGBoost Classifier w/ Label Encoder + Imputer + Undersampler:\n",
            "\tStarting cross validation\n",
            "\tFinished cross validation - mean Log Loss Binary: 0.169\n",
            "XGBoost Classifier w/ Label Encoder + Imputer + Undersampler:\n",
            "\tStarting cross validation\n",
            "\tFinished cross validation - mean Log Loss Binary: 0.169\n",
            "\n",
            "******************************\n",
            "* Evaluating Batch Number 22 *\n",
            "******************************\n",
            "\n",
            "Random Forest Classifier w/ Label Encoder + Imputer + Undersampler:\n",
            "\tStarting cross validation\n",
            "\tFinished cross validation - mean Log Loss Binary: 0.195\n",
            "Random Forest Classifier w/ Label Encoder + Imputer + Undersampler:\n",
            "\tStarting cross validation\n",
            "\tFinished cross validation - mean Log Loss Binary: 0.195\n",
            "Random Forest Classifier w/ Label Encoder + Imputer + Undersampler:\n",
            "\tStarting cross validation\n",
            "\tFinished cross validation - mean Log Loss Binary: 0.195\n",
            "Random Forest Classifier w/ Label Encoder + Imputer + Undersampler:\n",
            "\tStarting cross validation\n",
            "\tFinished cross validation - mean Log Loss Binary: 0.195\n",
            "Random Forest Classifier w/ Label Encoder + Imputer + Undersampler:\n",
            "\tStarting cross validation\n",
            "\tFinished cross validation - mean Log Loss Binary: 0.195\n",
            "\n",
            "******************************\n",
            "* Evaluating Batch Number 23 *\n",
            "******************************\n",
            "\n",
            "Logistic Regression Classifier w/ Label Encoder + Imputer + Undersampler + Standard Scaler:\n",
            "\tStarting cross validation\n",
            "\tFinished cross validation - mean Log Loss Binary: 0.210\n",
            "Logistic Regression Classifier w/ Label Encoder + Imputer + Undersampler + Standard Scaler:\n",
            "\tStarting cross validation\n",
            "\tFinished cross validation - mean Log Loss Binary: 0.210\n",
            "Logistic Regression Classifier w/ Label Encoder + Imputer + Undersampler + Standard Scaler:\n",
            "\tStarting cross validation\n",
            "\tFinished cross validation - mean Log Loss Binary: 0.210\n",
            "Logistic Regression Classifier w/ Label Encoder + Imputer + Undersampler + Standard Scaler:\n",
            "\tStarting cross validation\n",
            "\tFinished cross validation - mean Log Loss Binary: 0.210\n",
            "Logistic Regression Classifier w/ Label Encoder + Imputer + Undersampler + Standard Scaler:\n",
            "\tStarting cross validation\n",
            "\tFinished cross validation - mean Log Loss Binary: 0.210\n",
            "\n",
            "******************************\n",
            "* Evaluating Batch Number 24 *\n",
            "******************************\n",
            "\n",
            "Elastic Net Classifier w/ Label Encoder + Imputer + Undersampler + Standard Scaler:\n",
            "\tStarting cross validation\n",
            "\tFinished cross validation - mean Log Loss Binary: 0.212\n",
            "Elastic Net Classifier w/ Label Encoder + Imputer + Undersampler + Standard Scaler:\n",
            "\tStarting cross validation\n",
            "\tFinished cross validation - mean Log Loss Binary: 0.212\n",
            "Elastic Net Classifier w/ Label Encoder + Imputer + Undersampler + Standard Scaler:\n",
            "\tStarting cross validation\n",
            "\tFinished cross validation - mean Log Loss Binary: 0.212\n",
            "Elastic Net Classifier w/ Label Encoder + Imputer + Undersampler + Standard Scaler:\n",
            "\tStarting cross validation\n",
            "\tFinished cross validation - mean Log Loss Binary: 0.212\n",
            "Elastic Net Classifier w/ Label Encoder + Imputer + Undersampler + Standard Scaler:\n",
            "\tStarting cross validation\n",
            "\tFinished cross validation - mean Log Loss Binary: 0.212\n",
            "\n",
            "******************************\n",
            "* Evaluating Batch Number 25 *\n",
            "******************************\n",
            "\n",
            "Extra Trees Classifier w/ Label Encoder + Imputer + Undersampler:\n",
            "\tStarting cross validation\n",
            "\tFinished cross validation - mean Log Loss Binary: 0.219\n",
            "Extra Trees Classifier w/ Label Encoder + Imputer + Undersampler:\n",
            "\tStarting cross validation\n",
            "\tFinished cross validation - mean Log Loss Binary: 0.219\n",
            "Extra Trees Classifier w/ Label Encoder + Imputer + Undersampler:\n",
            "\tStarting cross validation\n",
            "\tFinished cross validation - mean Log Loss Binary: 0.219\n",
            "Extra Trees Classifier w/ Label Encoder + Imputer + Undersampler:\n",
            "\tStarting cross validation\n",
            "\tFinished cross validation - mean Log Loss Binary: 0.219\n",
            "Extra Trees Classifier w/ Label Encoder + Imputer + Undersampler:\n",
            "\tStarting cross validation\n",
            "\tFinished cross validation - mean Log Loss Binary: 0.219\n",
            "\n",
            "******************************\n",
            "* Evaluating Batch Number 26 *\n",
            "******************************\n",
            "\n",
            "Decision Tree Classifier w/ Label Encoder + Imputer + Undersampler:\n",
            "\tStarting cross validation\n",
            "\tFinished cross validation - mean Log Loss Binary: 0.307\n",
            "Decision Tree Classifier w/ Label Encoder + Imputer + Undersampler:\n",
            "\tStarting cross validation\n",
            "\tFinished cross validation - mean Log Loss Binary: 0.307\n",
            "Decision Tree Classifier w/ Label Encoder + Imputer + Undersampler:\n",
            "\tStarting cross validation\n",
            "\tFinished cross validation - mean Log Loss Binary: 0.307\n",
            "Decision Tree Classifier w/ Label Encoder + Imputer + Undersampler:\n",
            "\tStarting cross validation\n",
            "\tFinished cross validation - mean Log Loss Binary: 0.307\n",
            "Decision Tree Classifier w/ Label Encoder + Imputer + Undersampler:\n",
            "\tStarting cross validation\n",
            "\tFinished cross validation - mean Log Loss Binary: 0.307\n",
            "\n",
            "******************************\n",
            "* Evaluating Batch Number 27 *\n",
            "******************************\n",
            "\n",
            "CatBoost Classifier w/ Label Encoder + Imputer + Undersampler:\n",
            "\tStarting cross validation\n",
            "\tFinished cross validation - mean Log Loss Binary: 0.193\n",
            "CatBoost Classifier w/ Label Encoder + Imputer + Undersampler:\n",
            "\tStarting cross validation\n",
            "\tFinished cross validation - mean Log Loss Binary: 0.193\n",
            "CatBoost Classifier w/ Label Encoder + Imputer + Undersampler:\n",
            "\tStarting cross validation\n",
            "\tFinished cross validation - mean Log Loss Binary: 0.193\n",
            "CatBoost Classifier w/ Label Encoder + Imputer + Undersampler:\n",
            "\tStarting cross validation\n",
            "\tFinished cross validation - mean Log Loss Binary: 0.193\n",
            "CatBoost Classifier w/ Label Encoder + Imputer + Undersampler:\n",
            "\tStarting cross validation\n",
            "\tFinished cross validation - mean Log Loss Binary: 0.193\n",
            "\n",
            "******************************\n",
            "* Evaluating Batch Number 28 *\n",
            "******************************\n",
            "\n",
            "Stacked Ensemble Classification Pipeline:\n",
            "\tStarting cross validation\n",
            "\tFinished cross validation - mean Log Loss Binary: 0.195\n",
            "\n",
            "******************************\n",
            "* Evaluating Batch Number 29 *\n",
            "******************************\n",
            "\n",
            "LightGBM Classifier w/ Label Encoder + Imputer + Undersampler:\n",
            "\tStarting cross validation\n",
            "\tFinished cross validation - mean Log Loss Binary: 0.241\n",
            "LightGBM Classifier w/ Label Encoder + Imputer + Undersampler:\n",
            "\tStarting cross validation\n",
            "\tFinished cross validation - mean Log Loss Binary: 0.241\n",
            "LightGBM Classifier w/ Label Encoder + Imputer + Undersampler:\n",
            "\tStarting cross validation\n",
            "\tFinished cross validation - mean Log Loss Binary: 0.241\n",
            "LightGBM Classifier w/ Label Encoder + Imputer + Undersampler:\n",
            "\tStarting cross validation\n",
            "\tFinished cross validation - mean Log Loss Binary: 0.241\n",
            "LightGBM Classifier w/ Label Encoder + Imputer + Undersampler:\n",
            "\tStarting cross validation\n",
            "\tFinished cross validation - mean Log Loss Binary: 0.241\n",
            "\n",
            "******************************\n",
            "* Evaluating Batch Number 30 *\n",
            "******************************\n",
            "\n",
            "XGBoost Classifier w/ Label Encoder + Imputer + Undersampler:\n",
            "\tStarting cross validation\n",
            "\tFinished cross validation - mean Log Loss Binary: 0.185\n",
            "XGBoost Classifier w/ Label Encoder + Imputer + Undersampler:\n",
            "\tStarting cross validation\n",
            "\tFinished cross validation - mean Log Loss Binary: 0.185\n",
            "XGBoost Classifier w/ Label Encoder + Imputer + Undersampler:\n",
            "\tStarting cross validation\n",
            "\tFinished cross validation - mean Log Loss Binary: 0.185\n",
            "XGBoost Classifier w/ Label Encoder + Imputer + Undersampler:\n",
            "\tStarting cross validation\n",
            "\tFinished cross validation - mean Log Loss Binary: 0.185\n",
            "XGBoost Classifier w/ Label Encoder + Imputer + Undersampler:\n",
            "\tStarting cross validation\n",
            "\tFinished cross validation - mean Log Loss Binary: 0.185\n",
            "\n",
            "******************************\n",
            "* Evaluating Batch Number 31 *\n",
            "******************************\n",
            "\n",
            "Random Forest Classifier w/ Label Encoder + Imputer + Undersampler:\n",
            "\tStarting cross validation\n",
            "\tFinished cross validation - mean Log Loss Binary: 0.203\n",
            "Random Forest Classifier w/ Label Encoder + Imputer + Undersampler:\n",
            "\tStarting cross validation\n",
            "\tFinished cross validation - mean Log Loss Binary: 0.203\n",
            "Random Forest Classifier w/ Label Encoder + Imputer + Undersampler:\n",
            "\tStarting cross validation\n",
            "\tFinished cross validation - mean Log Loss Binary: 0.203\n",
            "Random Forest Classifier w/ Label Encoder + Imputer + Undersampler:\n",
            "\tStarting cross validation\n",
            "\tFinished cross validation - mean Log Loss Binary: 0.203\n",
            "Random Forest Classifier w/ Label Encoder + Imputer + Undersampler:\n",
            "\tStarting cross validation\n",
            "\tFinished cross validation - mean Log Loss Binary: 0.203\n",
            "\n",
            "******************************\n",
            "* Evaluating Batch Number 32 *\n",
            "******************************\n",
            "\n",
            "Logistic Regression Classifier w/ Label Encoder + Imputer + Undersampler + Standard Scaler:\n",
            "\tStarting cross validation\n",
            "\tFinished cross validation - mean Log Loss Binary: 0.210\n",
            "Logistic Regression Classifier w/ Label Encoder + Imputer + Undersampler + Standard Scaler:\n",
            "\tStarting cross validation\n",
            "\tFinished cross validation - mean Log Loss Binary: 0.210\n",
            "Logistic Regression Classifier w/ Label Encoder + Imputer + Undersampler + Standard Scaler:\n",
            "\tStarting cross validation\n",
            "\tFinished cross validation - mean Log Loss Binary: 0.210\n",
            "Logistic Regression Classifier w/ Label Encoder + Imputer + Undersampler + Standard Scaler:\n",
            "\tStarting cross validation\n",
            "\tFinished cross validation - mean Log Loss Binary: 0.210\n",
            "Logistic Regression Classifier w/ Label Encoder + Imputer + Undersampler + Standard Scaler:\n",
            "\tStarting cross validation\n",
            "\tFinished cross validation - mean Log Loss Binary: 0.210\n",
            "\n",
            "******************************\n",
            "* Evaluating Batch Number 33 *\n",
            "******************************\n",
            "\n",
            "Elastic Net Classifier w/ Label Encoder + Imputer + Undersampler + Standard Scaler:\n",
            "\tStarting cross validation\n",
            "\tFinished cross validation - mean Log Loss Binary: 0.212\n",
            "Elastic Net Classifier w/ Label Encoder + Imputer + Undersampler + Standard Scaler:\n",
            "\tStarting cross validation\n",
            "\tFinished cross validation - mean Log Loss Binary: 0.212\n",
            "Elastic Net Classifier w/ Label Encoder + Imputer + Undersampler + Standard Scaler:\n",
            "\tStarting cross validation\n",
            "\tFinished cross validation - mean Log Loss Binary: 0.212\n",
            "Elastic Net Classifier w/ Label Encoder + Imputer + Undersampler + Standard Scaler:\n",
            "\tStarting cross validation\n",
            "\tFinished cross validation - mean Log Loss Binary: 0.212\n",
            "Elastic Net Classifier w/ Label Encoder + Imputer + Undersampler + Standard Scaler:\n",
            "\tStarting cross validation\n",
            "\tFinished cross validation - mean Log Loss Binary: 0.212\n",
            "\n",
            "******************************\n",
            "* Evaluating Batch Number 34 *\n",
            "******************************\n",
            "\n",
            "Extra Trees Classifier w/ Label Encoder + Imputer + Undersampler:\n",
            "\tStarting cross validation\n",
            "\tFinished cross validation - mean Log Loss Binary: 0.209\n",
            "Extra Trees Classifier w/ Label Encoder + Imputer + Undersampler:\n",
            "\tStarting cross validation\n",
            "\tFinished cross validation - mean Log Loss Binary: 0.209\n",
            "Extra Trees Classifier w/ Label Encoder + Imputer + Undersampler:\n",
            "\tStarting cross validation\n",
            "\tFinished cross validation - mean Log Loss Binary: 0.209\n",
            "Extra Trees Classifier w/ Label Encoder + Imputer + Undersampler:\n",
            "\tStarting cross validation\n",
            "\tFinished cross validation - mean Log Loss Binary: 0.209\n",
            "Extra Trees Classifier w/ Label Encoder + Imputer + Undersampler:\n",
            "\tStarting cross validation\n",
            "\tFinished cross validation - mean Log Loss Binary: 0.209\n",
            "\n",
            "******************************\n",
            "* Evaluating Batch Number 35 *\n",
            "******************************\n",
            "\n",
            "Decision Tree Classifier w/ Label Encoder + Imputer + Undersampler:\n",
            "\tStarting cross validation\n",
            "\tFinished cross validation - mean Log Loss Binary: 0.235\n",
            "Decision Tree Classifier w/ Label Encoder + Imputer + Undersampler:\n",
            "\tStarting cross validation\n",
            "\tFinished cross validation - mean Log Loss Binary: 0.235\n",
            "Decision Tree Classifier w/ Label Encoder + Imputer + Undersampler:\n",
            "\tStarting cross validation\n",
            "\tFinished cross validation - mean Log Loss Binary: 0.235\n",
            "Decision Tree Classifier w/ Label Encoder + Imputer + Undersampler:\n",
            "\tStarting cross validation\n",
            "\tFinished cross validation - mean Log Loss Binary: 0.235\n",
            "Decision Tree Classifier w/ Label Encoder + Imputer + Undersampler:\n",
            "\tStarting cross validation\n",
            "\tFinished cross validation - mean Log Loss Binary: 0.235\n",
            "\n",
            "******************************\n",
            "* Evaluating Batch Number 36 *\n",
            "******************************\n",
            "\n",
            "CatBoost Classifier w/ Label Encoder + Imputer + Undersampler:\n",
            "\tStarting cross validation\n",
            "\tFinished cross validation - mean Log Loss Binary: 0.192\n",
            "CatBoost Classifier w/ Label Encoder + Imputer + Undersampler:\n",
            "\tStarting cross validation\n",
            "\tFinished cross validation - mean Log Loss Binary: 0.192\n",
            "CatBoost Classifier w/ Label Encoder + Imputer + Undersampler:\n",
            "\tStarting cross validation\n",
            "\tFinished cross validation - mean Log Loss Binary: 0.192\n",
            "CatBoost Classifier w/ Label Encoder + Imputer + Undersampler:\n",
            "\tStarting cross validation\n",
            "\tFinished cross validation - mean Log Loss Binary: 0.192\n",
            "CatBoost Classifier w/ Label Encoder + Imputer + Undersampler:\n",
            "\tStarting cross validation\n",
            "\tFinished cross validation - mean Log Loss Binary: 0.192\n",
            "\n",
            "******************************\n",
            "* Evaluating Batch Number 37 *\n",
            "******************************\n",
            "\n",
            "Stacked Ensemble Classification Pipeline:\n",
            "\tStarting cross validation\n",
            "\tFinished cross validation - mean Log Loss Binary: 0.197\n",
            "\n",
            "******************************\n",
            "* Evaluating Batch Number 38 *\n",
            "******************************\n",
            "\n",
            "LightGBM Classifier w/ Label Encoder + Imputer + Undersampler:\n",
            "\tStarting cross validation\n",
            "\tFinished cross validation - mean Log Loss Binary: 1.143\n",
            "LightGBM Classifier w/ Label Encoder + Imputer + Undersampler:\n",
            "\tStarting cross validation\n",
            "\tFinished cross validation - mean Log Loss Binary: 1.143\n",
            "LightGBM Classifier w/ Label Encoder + Imputer + Undersampler:\n",
            "\tStarting cross validation\n",
            "\tFinished cross validation - mean Log Loss Binary: 1.143\n",
            "LightGBM Classifier w/ Label Encoder + Imputer + Undersampler:\n",
            "\tStarting cross validation\n",
            "\tFinished cross validation - mean Log Loss Binary: 1.143\n",
            "LightGBM Classifier w/ Label Encoder + Imputer + Undersampler:\n",
            "\tStarting cross validation\n",
            "\tFinished cross validation - mean Log Loss Binary: 1.143\n",
            "\n",
            "******************************\n",
            "* Evaluating Batch Number 39 *\n",
            "******************************\n",
            "\n",
            "XGBoost Classifier w/ Label Encoder + Imputer + Undersampler:\n",
            "\tStarting cross validation\n",
            "\tFinished cross validation - mean Log Loss Binary: 0.185\n",
            "XGBoost Classifier w/ Label Encoder + Imputer + Undersampler:\n",
            "\tStarting cross validation\n",
            "\tFinished cross validation - mean Log Loss Binary: 0.185\n",
            "XGBoost Classifier w/ Label Encoder + Imputer + Undersampler:\n",
            "\tStarting cross validation\n",
            "\tFinished cross validation - mean Log Loss Binary: 0.185\n",
            "XGBoost Classifier w/ Label Encoder + Imputer + Undersampler:\n",
            "\tStarting cross validation\n",
            "\tFinished cross validation - mean Log Loss Binary: 0.185\n",
            "XGBoost Classifier w/ Label Encoder + Imputer + Undersampler:\n",
            "\tStarting cross validation\n",
            "\tFinished cross validation - mean Log Loss Binary: 0.185\n",
            "\n",
            "******************************\n",
            "* Evaluating Batch Number 40 *\n",
            "******************************\n",
            "\n",
            "Random Forest Classifier w/ Label Encoder + Imputer + Undersampler:\n",
            "\tStarting cross validation\n",
            "\tFinished cross validation - mean Log Loss Binary: 0.193\n",
            "Random Forest Classifier w/ Label Encoder + Imputer + Undersampler:\n",
            "\tStarting cross validation\n",
            "\tFinished cross validation - mean Log Loss Binary: 0.193\n",
            "Random Forest Classifier w/ Label Encoder + Imputer + Undersampler:\n",
            "\tStarting cross validation\n",
            "\tFinished cross validation - mean Log Loss Binary: 0.193\n",
            "Random Forest Classifier w/ Label Encoder + Imputer + Undersampler:\n",
            "\tStarting cross validation\n",
            "\tFinished cross validation - mean Log Loss Binary: 0.193\n",
            "Random Forest Classifier w/ Label Encoder + Imputer + Undersampler:\n",
            "\tStarting cross validation\n",
            "\tFinished cross validation - mean Log Loss Binary: 0.193\n",
            "\n",
            "******************************\n",
            "* Evaluating Batch Number 41 *\n",
            "******************************\n",
            "\n",
            "Logistic Regression Classifier w/ Label Encoder + Imputer + Undersampler + Standard Scaler:\n",
            "\tStarting cross validation\n",
            "\tFinished cross validation - mean Log Loss Binary: 0.211\n",
            "Logistic Regression Classifier w/ Label Encoder + Imputer + Undersampler + Standard Scaler:\n",
            "\tStarting cross validation\n",
            "\tFinished cross validation - mean Log Loss Binary: 0.211\n",
            "Logistic Regression Classifier w/ Label Encoder + Imputer + Undersampler + Standard Scaler:\n",
            "\tStarting cross validation\n",
            "\tFinished cross validation - mean Log Loss Binary: 0.211\n",
            "Logistic Regression Classifier w/ Label Encoder + Imputer + Undersampler + Standard Scaler:\n",
            "\tStarting cross validation\n",
            "\tFinished cross validation - mean Log Loss Binary: 0.211\n",
            "Logistic Regression Classifier w/ Label Encoder + Imputer + Undersampler + Standard Scaler:\n",
            "\tStarting cross validation\n",
            "\tFinished cross validation - mean Log Loss Binary: 0.211\n",
            "\n",
            "******************************\n",
            "* Evaluating Batch Number 42 *\n",
            "******************************\n",
            "\n",
            "Elastic Net Classifier w/ Label Encoder + Imputer + Undersampler + Standard Scaler:\n",
            "\tStarting cross validation\n",
            "\tFinished cross validation - mean Log Loss Binary: 0.212\n",
            "Elastic Net Classifier w/ Label Encoder + Imputer + Undersampler + Standard Scaler:\n",
            "\tStarting cross validation\n",
            "\tFinished cross validation - mean Log Loss Binary: 0.212\n",
            "Elastic Net Classifier w/ Label Encoder + Imputer + Undersampler + Standard Scaler:\n",
            "\tStarting cross validation\n",
            "\tFinished cross validation - mean Log Loss Binary: 0.212\n",
            "Elastic Net Classifier w/ Label Encoder + Imputer + Undersampler + Standard Scaler:\n",
            "\tStarting cross validation\n",
            "\tFinished cross validation - mean Log Loss Binary: 0.212\n",
            "Elastic Net Classifier w/ Label Encoder + Imputer + Undersampler + Standard Scaler:\n",
            "\tStarting cross validation\n",
            "\tFinished cross validation - mean Log Loss Binary: 0.212\n",
            "\n",
            "******************************\n",
            "* Evaluating Batch Number 43 *\n",
            "******************************\n",
            "\n",
            "Extra Trees Classifier w/ Label Encoder + Imputer + Undersampler:\n",
            "\tStarting cross validation\n",
            "\tFinished cross validation - mean Log Loss Binary: 0.213\n",
            "Extra Trees Classifier w/ Label Encoder + Imputer + Undersampler:\n",
            "\tStarting cross validation\n",
            "\tFinished cross validation - mean Log Loss Binary: 0.213\n",
            "Extra Trees Classifier w/ Label Encoder + Imputer + Undersampler:\n",
            "\tStarting cross validation\n",
            "\tFinished cross validation - mean Log Loss Binary: 0.213\n",
            "Extra Trees Classifier w/ Label Encoder + Imputer + Undersampler:\n",
            "\tStarting cross validation\n",
            "\tFinished cross validation - mean Log Loss Binary: 0.213\n",
            "Extra Trees Classifier w/ Label Encoder + Imputer + Undersampler:\n",
            "\tStarting cross validation\n",
            "\tFinished cross validation - mean Log Loss Binary: 0.213\n",
            "\n",
            "******************************\n",
            "* Evaluating Batch Number 44 *\n",
            "******************************\n",
            "\n",
            "Decision Tree Classifier w/ Label Encoder + Imputer + Undersampler:\n",
            "\tStarting cross validation\n",
            "\tFinished cross validation - mean Log Loss Binary: 0.235\n",
            "Decision Tree Classifier w/ Label Encoder + Imputer + Undersampler:\n",
            "\tStarting cross validation\n",
            "\tFinished cross validation - mean Log Loss Binary: 0.235\n",
            "Decision Tree Classifier w/ Label Encoder + Imputer + Undersampler:\n",
            "\tStarting cross validation\n",
            "\tFinished cross validation - mean Log Loss Binary: 0.235\n",
            "Decision Tree Classifier w/ Label Encoder + Imputer + Undersampler:\n",
            "\tStarting cross validation\n",
            "\tFinished cross validation - mean Log Loss Binary: 0.235\n",
            "Decision Tree Classifier w/ Label Encoder + Imputer + Undersampler:\n",
            "\tStarting cross validation\n",
            "\tFinished cross validation - mean Log Loss Binary: 0.235\n",
            "\n",
            "******************************\n",
            "* Evaluating Batch Number 45 *\n",
            "******************************\n",
            "\n",
            "CatBoost Classifier w/ Label Encoder + Imputer + Undersampler:\n",
            "\tStarting cross validation\n",
            "\tFinished cross validation - mean Log Loss Binary: 0.341\n",
            "CatBoost Classifier w/ Label Encoder + Imputer + Undersampler:\n",
            "\tStarting cross validation\n",
            "\tFinished cross validation - mean Log Loss Binary: 0.341\n",
            "CatBoost Classifier w/ Label Encoder + Imputer + Undersampler:\n",
            "\tStarting cross validation\n",
            "\tFinished cross validation - mean Log Loss Binary: 0.341\n",
            "CatBoost Classifier w/ Label Encoder + Imputer + Undersampler:\n",
            "\tStarting cross validation\n",
            "\tFinished cross validation - mean Log Loss Binary: 0.341\n",
            "CatBoost Classifier w/ Label Encoder + Imputer + Undersampler:\n",
            "\tStarting cross validation\n",
            "\tFinished cross validation - mean Log Loss Binary: 0.341\n",
            "\n",
            "******************************\n",
            "* Evaluating Batch Number 46 *\n",
            "******************************\n",
            "\n",
            "Stacked Ensemble Classification Pipeline:\n",
            "\tStarting cross validation\n",
            "\tFinished cross validation - mean Log Loss Binary: 0.197\n",
            "\n",
            "******************************\n",
            "* Evaluating Batch Number 47 *\n",
            "******************************\n",
            "\n",
            "LightGBM Classifier w/ Label Encoder + Imputer + Undersampler:\n",
            "\tStarting cross validation\n",
            "\tFinished cross validation - mean Log Loss Binary: 0.189\n",
            "LightGBM Classifier w/ Label Encoder + Imputer + Undersampler:\n",
            "\tStarting cross validation\n",
            "\tFinished cross validation - mean Log Loss Binary: 0.189\n",
            "LightGBM Classifier w/ Label Encoder + Imputer + Undersampler:\n",
            "\tStarting cross validation\n",
            "\tFinished cross validation - mean Log Loss Binary: 0.189\n",
            "LightGBM Classifier w/ Label Encoder + Imputer + Undersampler:\n",
            "\tStarting cross validation\n",
            "\tFinished cross validation - mean Log Loss Binary: 0.189\n",
            "LightGBM Classifier w/ Label Encoder + Imputer + Undersampler:\n",
            "\tStarting cross validation\n",
            "\tFinished cross validation - mean Log Loss Binary: 0.189\n",
            "\n",
            "******************************\n",
            "* Evaluating Batch Number 48 *\n",
            "******************************\n",
            "\n",
            "XGBoost Classifier w/ Label Encoder + Imputer + Undersampler:\n",
            "\tStarting cross validation\n",
            "\tFinished cross validation - mean Log Loss Binary: 0.171\n",
            "XGBoost Classifier w/ Label Encoder + Imputer + Undersampler:\n",
            "\tStarting cross validation\n",
            "\tFinished cross validation - mean Log Loss Binary: 0.171\n",
            "XGBoost Classifier w/ Label Encoder + Imputer + Undersampler:\n",
            "\tStarting cross validation\n",
            "\tFinished cross validation - mean Log Loss Binary: 0.171\n",
            "XGBoost Classifier w/ Label Encoder + Imputer + Undersampler:\n",
            "\tStarting cross validation\n",
            "\tFinished cross validation - mean Log Loss Binary: 0.171\n",
            "XGBoost Classifier w/ Label Encoder + Imputer + Undersampler:\n",
            "\tStarting cross validation\n",
            "\tFinished cross validation - mean Log Loss Binary: 0.171\n",
            "\n",
            "******************************\n",
            "* Evaluating Batch Number 49 *\n",
            "******************************\n",
            "\n",
            "Random Forest Classifier w/ Label Encoder + Imputer + Undersampler:\n",
            "\tStarting cross validation\n",
            "\tFinished cross validation - mean Log Loss Binary: 0.208\n",
            "Random Forest Classifier w/ Label Encoder + Imputer + Undersampler:\n",
            "\tStarting cross validation\n",
            "\tFinished cross validation - mean Log Loss Binary: 0.208\n",
            "Random Forest Classifier w/ Label Encoder + Imputer + Undersampler:\n",
            "\tStarting cross validation\n",
            "\tFinished cross validation - mean Log Loss Binary: 0.208\n",
            "Random Forest Classifier w/ Label Encoder + Imputer + Undersampler:\n",
            "\tStarting cross validation\n",
            "\tFinished cross validation - mean Log Loss Binary: 0.208\n",
            "Random Forest Classifier w/ Label Encoder + Imputer + Undersampler:\n",
            "\tStarting cross validation\n",
            "\tFinished cross validation - mean Log Loss Binary: 0.208\n",
            "\n",
            "******************************\n",
            "* Evaluating Batch Number 50 *\n",
            "******************************\n",
            "\n",
            "Logistic Regression Classifier w/ Label Encoder + Imputer + Undersampler + Standard Scaler:\n",
            "\tStarting cross validation\n",
            "\tFinished cross validation - mean Log Loss Binary: 0.211\n",
            "Logistic Regression Classifier w/ Label Encoder + Imputer + Undersampler + Standard Scaler:\n",
            "\tStarting cross validation\n",
            "\tFinished cross validation - mean Log Loss Binary: 0.211\n",
            "Logistic Regression Classifier w/ Label Encoder + Imputer + Undersampler + Standard Scaler:\n",
            "\tStarting cross validation\n",
            "\tFinished cross validation - mean Log Loss Binary: 0.211\n",
            "Logistic Regression Classifier w/ Label Encoder + Imputer + Undersampler + Standard Scaler:\n",
            "\tStarting cross validation\n",
            "\tFinished cross validation - mean Log Loss Binary: 0.211\n",
            "Logistic Regression Classifier w/ Label Encoder + Imputer + Undersampler + Standard Scaler:\n",
            "\tStarting cross validation\n",
            "\tFinished cross validation - mean Log Loss Binary: 0.211\n",
            "\n",
            "******************************\n",
            "* Evaluating Batch Number 51 *\n",
            "******************************\n",
            "\n",
            "Elastic Net Classifier w/ Label Encoder + Imputer + Undersampler + Standard Scaler:\n",
            "\tStarting cross validation\n",
            "\tFinished cross validation - mean Log Loss Binary: 0.212\n",
            "Elastic Net Classifier w/ Label Encoder + Imputer + Undersampler + Standard Scaler:\n",
            "\tStarting cross validation\n",
            "\tFinished cross validation - mean Log Loss Binary: 0.212\n",
            "Elastic Net Classifier w/ Label Encoder + Imputer + Undersampler + Standard Scaler:\n",
            "\tStarting cross validation\n",
            "\tFinished cross validation - mean Log Loss Binary: 0.212\n",
            "Elastic Net Classifier w/ Label Encoder + Imputer + Undersampler + Standard Scaler:\n",
            "\tStarting cross validation\n",
            "\tFinished cross validation - mean Log Loss Binary: 0.212\n",
            "Elastic Net Classifier w/ Label Encoder + Imputer + Undersampler + Standard Scaler:\n",
            "\tStarting cross validation\n",
            "\tFinished cross validation - mean Log Loss Binary: 0.212\n",
            "\n",
            "******************************\n",
            "* Evaluating Batch Number 52 *\n",
            "******************************\n",
            "\n",
            "Extra Trees Classifier w/ Label Encoder + Imputer + Undersampler:\n",
            "\tStarting cross validation\n",
            "\tFinished cross validation - mean Log Loss Binary: 0.208\n",
            "Extra Trees Classifier w/ Label Encoder + Imputer + Undersampler:\n",
            "\tStarting cross validation\n",
            "\tFinished cross validation - mean Log Loss Binary: 0.208\n",
            "Extra Trees Classifier w/ Label Encoder + Imputer + Undersampler:\n",
            "\tStarting cross validation\n",
            "\tFinished cross validation - mean Log Loss Binary: 0.208\n",
            "Extra Trees Classifier w/ Label Encoder + Imputer + Undersampler:\n",
            "\tStarting cross validation\n",
            "\tFinished cross validation - mean Log Loss Binary: 0.208\n",
            "Extra Trees Classifier w/ Label Encoder + Imputer + Undersampler:\n",
            "\tStarting cross validation\n",
            "\tFinished cross validation - mean Log Loss Binary: 0.208\n",
            "\n",
            "******************************\n",
            "* Evaluating Batch Number 53 *\n",
            "******************************\n",
            "\n",
            "Decision Tree Classifier w/ Label Encoder + Imputer + Undersampler:\n",
            "\tStarting cross validation\n",
            "\tFinished cross validation - mean Log Loss Binary: 0.235\n",
            "Decision Tree Classifier w/ Label Encoder + Imputer + Undersampler:\n",
            "\tStarting cross validation\n",
            "\tFinished cross validation - mean Log Loss Binary: 0.235\n",
            "Decision Tree Classifier w/ Label Encoder + Imputer + Undersampler:\n",
            "\tStarting cross validation\n",
            "\tFinished cross validation - mean Log Loss Binary: 0.235\n",
            "Decision Tree Classifier w/ Label Encoder + Imputer + Undersampler:\n",
            "\tStarting cross validation\n",
            "\tFinished cross validation - mean Log Loss Binary: 0.235\n",
            "Decision Tree Classifier w/ Label Encoder + Imputer + Undersampler:\n",
            "\tStarting cross validation\n",
            "\tFinished cross validation - mean Log Loss Binary: 0.235\n",
            "\n",
            "******************************\n",
            "* Evaluating Batch Number 54 *\n",
            "******************************\n",
            "\n",
            "CatBoost Classifier w/ Label Encoder + Imputer + Undersampler:\n",
            "\tStarting cross validation\n",
            "\tFinished cross validation - mean Log Loss Binary: 0.195\n",
            "CatBoost Classifier w/ Label Encoder + Imputer + Undersampler:\n",
            "\tStarting cross validation\n",
            "\tFinished cross validation - mean Log Loss Binary: 0.195\n",
            "CatBoost Classifier w/ Label Encoder + Imputer + Undersampler:\n",
            "\tStarting cross validation\n",
            "\tFinished cross validation - mean Log Loss Binary: 0.195\n",
            "CatBoost Classifier w/ Label Encoder + Imputer + Undersampler:\n",
            "\tStarting cross validation\n",
            "\tFinished cross validation - mean Log Loss Binary: 0.195\n",
            "CatBoost Classifier w/ Label Encoder + Imputer + Undersampler:\n",
            "\tStarting cross validation\n",
            "\tFinished cross validation - mean Log Loss Binary: 0.195\n",
            "\n",
            "******************************\n",
            "* Evaluating Batch Number 55 *\n",
            "******************************\n",
            "\n",
            "Stacked Ensemble Classification Pipeline:\n",
            "\tStarting cross validation\n",
            "\tFinished cross validation - mean Log Loss Binary: 0.197\n",
            "\n",
            "******************************\n",
            "* Evaluating Batch Number 56 *\n",
            "******************************\n",
            "\n",
            "LightGBM Classifier w/ Label Encoder + Imputer + Undersampler:\n",
            "\tStarting cross validation\n",
            "\tFinished cross validation - mean Log Loss Binary: 0.195\n",
            "LightGBM Classifier w/ Label Encoder + Imputer + Undersampler:\n",
            "\tStarting cross validation\n",
            "\tFinished cross validation - mean Log Loss Binary: 0.195\n",
            "LightGBM Classifier w/ Label Encoder + Imputer + Undersampler:\n",
            "\tStarting cross validation\n",
            "\tFinished cross validation - mean Log Loss Binary: 0.195\n",
            "LightGBM Classifier w/ Label Encoder + Imputer + Undersampler:\n",
            "\tStarting cross validation\n",
            "\tFinished cross validation - mean Log Loss Binary: 0.195\n",
            "LightGBM Classifier w/ Label Encoder + Imputer + Undersampler:\n",
            "\tStarting cross validation\n",
            "\tFinished cross validation - mean Log Loss Binary: 0.195\n",
            "\n",
            "******************************\n",
            "* Evaluating Batch Number 57 *\n",
            "******************************\n",
            "\n",
            "XGBoost Classifier w/ Label Encoder + Imputer + Undersampler:\n",
            "\tStarting cross validation\n",
            "\tFinished cross validation - mean Log Loss Binary: 0.183\n",
            "XGBoost Classifier w/ Label Encoder + Imputer + Undersampler:\n",
            "\tStarting cross validation\n",
            "\tFinished cross validation - mean Log Loss Binary: 0.183\n",
            "XGBoost Classifier w/ Label Encoder + Imputer + Undersampler:\n",
            "\tStarting cross validation\n",
            "\tFinished cross validation - mean Log Loss Binary: 0.183\n",
            "XGBoost Classifier w/ Label Encoder + Imputer + Undersampler:\n",
            "\tStarting cross validation\n",
            "\tFinished cross validation - mean Log Loss Binary: 0.183\n",
            "XGBoost Classifier w/ Label Encoder + Imputer + Undersampler:\n",
            "\tStarting cross validation\n",
            "\tFinished cross validation - mean Log Loss Binary: 0.183\n",
            "\n",
            "******************************\n",
            "* Evaluating Batch Number 58 *\n",
            "******************************\n",
            "\n",
            "Random Forest Classifier w/ Label Encoder + Imputer + Undersampler:\n",
            "\tStarting cross validation\n",
            "\tFinished cross validation - mean Log Loss Binary: 0.194\n",
            "Random Forest Classifier w/ Label Encoder + Imputer + Undersampler:\n",
            "\tStarting cross validation\n",
            "\tFinished cross validation - mean Log Loss Binary: 0.194\n",
            "Random Forest Classifier w/ Label Encoder + Imputer + Undersampler:\n",
            "\tStarting cross validation\n",
            "\tFinished cross validation - mean Log Loss Binary: 0.194\n",
            "Random Forest Classifier w/ Label Encoder + Imputer + Undersampler:\n",
            "\tStarting cross validation\n",
            "\tFinished cross validation - mean Log Loss Binary: 0.194\n",
            "Random Forest Classifier w/ Label Encoder + Imputer + Undersampler:\n",
            "\tStarting cross validation\n",
            "\tFinished cross validation - mean Log Loss Binary: 0.194\n",
            "\n",
            "******************************\n",
            "* Evaluating Batch Number 59 *\n",
            "******************************\n",
            "\n",
            "Logistic Regression Classifier w/ Label Encoder + Imputer + Undersampler + Standard Scaler:\n",
            "\tStarting cross validation\n",
            "\tFinished cross validation - mean Log Loss Binary: 0.210\n",
            "Logistic Regression Classifier w/ Label Encoder + Imputer + Undersampler + Standard Scaler:\n",
            "\tStarting cross validation\n",
            "\tFinished cross validation - mean Log Loss Binary: 0.210\n",
            "Logistic Regression Classifier w/ Label Encoder + Imputer + Undersampler + Standard Scaler:\n",
            "\tStarting cross validation\n",
            "\tFinished cross validation - mean Log Loss Binary: 0.210\n",
            "Logistic Regression Classifier w/ Label Encoder + Imputer + Undersampler + Standard Scaler:\n",
            "\tStarting cross validation\n",
            "\tFinished cross validation - mean Log Loss Binary: 0.210\n",
            "Logistic Regression Classifier w/ Label Encoder + Imputer + Undersampler + Standard Scaler:\n",
            "\tStarting cross validation\n",
            "\tFinished cross validation - mean Log Loss Binary: 0.210\n",
            "\n",
            "******************************\n",
            "* Evaluating Batch Number 60 *\n",
            "******************************\n",
            "\n",
            "Elastic Net Classifier w/ Label Encoder + Imputer + Undersampler + Standard Scaler:\n",
            "\tStarting cross validation\n",
            "\tFinished cross validation - mean Log Loss Binary: 0.212\n",
            "Elastic Net Classifier w/ Label Encoder + Imputer + Undersampler + Standard Scaler:\n",
            "\tStarting cross validation\n",
            "\tFinished cross validation - mean Log Loss Binary: 0.212\n",
            "Elastic Net Classifier w/ Label Encoder + Imputer + Undersampler + Standard Scaler:\n",
            "\tStarting cross validation\n",
            "\tFinished cross validation - mean Log Loss Binary: 0.212\n",
            "Elastic Net Classifier w/ Label Encoder + Imputer + Undersampler + Standard Scaler:\n",
            "\tStarting cross validation\n",
            "\tFinished cross validation - mean Log Loss Binary: 0.212\n",
            "Elastic Net Classifier w/ Label Encoder + Imputer + Undersampler + Standard Scaler:\n",
            "\tStarting cross validation\n",
            "\tFinished cross validation - mean Log Loss Binary: 0.212\n",
            "\n",
            "******************************\n",
            "* Evaluating Batch Number 61 *\n",
            "******************************\n",
            "\n",
            "Extra Trees Classifier w/ Label Encoder + Imputer + Undersampler:\n",
            "\tStarting cross validation\n",
            "\tFinished cross validation - mean Log Loss Binary: 0.213\n",
            "Extra Trees Classifier w/ Label Encoder + Imputer + Undersampler:\n",
            "\tStarting cross validation\n",
            "\tFinished cross validation - mean Log Loss Binary: 0.213\n",
            "Extra Trees Classifier w/ Label Encoder + Imputer + Undersampler:\n",
            "\tStarting cross validation\n",
            "\tFinished cross validation - mean Log Loss Binary: 0.213\n",
            "Extra Trees Classifier w/ Label Encoder + Imputer + Undersampler:\n",
            "\tStarting cross validation\n",
            "\tFinished cross validation - mean Log Loss Binary: 0.213\n",
            "Extra Trees Classifier w/ Label Encoder + Imputer + Undersampler:\n",
            "\tStarting cross validation\n",
            "\tFinished cross validation - mean Log Loss Binary: 0.213\n",
            "\n",
            "******************************\n",
            "* Evaluating Batch Number 62 *\n",
            "******************************\n",
            "\n",
            "Decision Tree Classifier w/ Label Encoder + Imputer + Undersampler:\n",
            "\tStarting cross validation\n",
            "\tFinished cross validation - mean Log Loss Binary: 0.274\n",
            "Decision Tree Classifier w/ Label Encoder + Imputer + Undersampler:\n",
            "\tStarting cross validation\n",
            "\tFinished cross validation - mean Log Loss Binary: 0.274\n",
            "Decision Tree Classifier w/ Label Encoder + Imputer + Undersampler:\n",
            "\tStarting cross validation\n",
            "\tFinished cross validation - mean Log Loss Binary: 0.274\n",
            "Decision Tree Classifier w/ Label Encoder + Imputer + Undersampler:\n",
            "\tStarting cross validation\n",
            "\tFinished cross validation - mean Log Loss Binary: 0.274\n",
            "Decision Tree Classifier w/ Label Encoder + Imputer + Undersampler:\n",
            "\tStarting cross validation\n",
            "\tFinished cross validation - mean Log Loss Binary: 0.274\n",
            "\n",
            "******************************\n",
            "* Evaluating Batch Number 63 *\n",
            "******************************\n",
            "\n",
            "CatBoost Classifier w/ Label Encoder + Imputer + Undersampler:\n",
            "\tStarting cross validation\n",
            "\tFinished cross validation - mean Log Loss Binary: 0.192\n",
            "CatBoost Classifier w/ Label Encoder + Imputer + Undersampler:\n",
            "\tStarting cross validation\n",
            "\tFinished cross validation - mean Log Loss Binary: 0.192\n",
            "CatBoost Classifier w/ Label Encoder + Imputer + Undersampler:\n",
            "\tStarting cross validation\n",
            "\tFinished cross validation - mean Log Loss Binary: 0.192\n",
            "CatBoost Classifier w/ Label Encoder + Imputer + Undersampler:\n",
            "\tStarting cross validation\n",
            "\tFinished cross validation - mean Log Loss Binary: 0.192\n",
            "CatBoost Classifier w/ Label Encoder + Imputer + Undersampler:\n",
            "\tStarting cross validation\n",
            "\tFinished cross validation - mean Log Loss Binary: 0.192\n",
            "\n",
            "******************************\n",
            "* Evaluating Batch Number 64 *\n",
            "******************************\n",
            "\n",
            "Stacked Ensemble Classification Pipeline:\n",
            "\tStarting cross validation\n",
            "\tFinished cross validation - mean Log Loss Binary: 0.195\n",
            "\n",
            "******************************\n",
            "* Evaluating Batch Number 65 *\n",
            "******************************\n",
            "\n",
            "LightGBM Classifier w/ Label Encoder + Imputer + Undersampler:\n",
            "\tStarting cross validation\n",
            "\tFinished cross validation - mean Log Loss Binary: 0.208\n",
            "LightGBM Classifier w/ Label Encoder + Imputer + Undersampler:\n",
            "\tStarting cross validation\n",
            "\tFinished cross validation - mean Log Loss Binary: 0.208\n",
            "LightGBM Classifier w/ Label Encoder + Imputer + Undersampler:\n",
            "\tStarting cross validation\n",
            "\tFinished cross validation - mean Log Loss Binary: 0.208\n",
            "LightGBM Classifier w/ Label Encoder + Imputer + Undersampler:\n",
            "\tStarting cross validation\n",
            "\tFinished cross validation - mean Log Loss Binary: 0.208\n",
            "LightGBM Classifier w/ Label Encoder + Imputer + Undersampler:\n",
            "\tStarting cross validation\n",
            "\tFinished cross validation - mean Log Loss Binary: 0.208\n",
            "\n",
            "******************************\n",
            "* Evaluating Batch Number 66 *\n",
            "******************************\n",
            "\n",
            "XGBoost Classifier w/ Label Encoder + Imputer + Undersampler:\n",
            "\tStarting cross validation\n",
            "\tFinished cross validation - mean Log Loss Binary: 0.170\n",
            "XGBoost Classifier w/ Label Encoder + Imputer + Undersampler:\n",
            "\tStarting cross validation\n",
            "\tFinished cross validation - mean Log Loss Binary: 0.170\n",
            "XGBoost Classifier w/ Label Encoder + Imputer + Undersampler:\n",
            "\tStarting cross validation\n",
            "\tFinished cross validation - mean Log Loss Binary: 0.170\n",
            "XGBoost Classifier w/ Label Encoder + Imputer + Undersampler:\n",
            "\tStarting cross validation\n",
            "\tFinished cross validation - mean Log Loss Binary: 0.170\n",
            "XGBoost Classifier w/ Label Encoder + Imputer + Undersampler:\n",
            "\tStarting cross validation\n",
            "\tFinished cross validation - mean Log Loss Binary: 0.170\n",
            "\n",
            "******************************\n",
            "* Evaluating Batch Number 67 *\n",
            "******************************\n",
            "\n",
            "Random Forest Classifier w/ Label Encoder + Imputer + Undersampler:\n",
            "\tStarting cross validation\n",
            "\tFinished cross validation - mean Log Loss Binary: 0.192\n",
            "Random Forest Classifier w/ Label Encoder + Imputer + Undersampler:\n",
            "\tStarting cross validation\n",
            "\tFinished cross validation - mean Log Loss Binary: 0.192\n",
            "Random Forest Classifier w/ Label Encoder + Imputer + Undersampler:\n",
            "\tStarting cross validation\n",
            "\tFinished cross validation - mean Log Loss Binary: 0.192\n",
            "Random Forest Classifier w/ Label Encoder + Imputer + Undersampler:\n",
            "\tStarting cross validation\n",
            "\tFinished cross validation - mean Log Loss Binary: 0.192\n",
            "Random Forest Classifier w/ Label Encoder + Imputer + Undersampler:\n",
            "\tStarting cross validation\n",
            "\tFinished cross validation - mean Log Loss Binary: 0.192\n",
            "\n",
            "******************************\n",
            "* Evaluating Batch Number 68 *\n",
            "******************************\n",
            "\n",
            "Logistic Regression Classifier w/ Label Encoder + Imputer + Undersampler + Standard Scaler:\n",
            "\tStarting cross validation\n",
            "\tFinished cross validation - mean Log Loss Binary: 0.210\n",
            "Logistic Regression Classifier w/ Label Encoder + Imputer + Undersampler + Standard Scaler:\n",
            "\tStarting cross validation\n",
            "\tFinished cross validation - mean Log Loss Binary: 0.210\n",
            "Logistic Regression Classifier w/ Label Encoder + Imputer + Undersampler + Standard Scaler:\n",
            "\tStarting cross validation\n",
            "\tFinished cross validation - mean Log Loss Binary: 0.210\n",
            "Logistic Regression Classifier w/ Label Encoder + Imputer + Undersampler + Standard Scaler:\n",
            "\tStarting cross validation\n",
            "\tFinished cross validation - mean Log Loss Binary: 0.210\n",
            "Logistic Regression Classifier w/ Label Encoder + Imputer + Undersampler + Standard Scaler:\n",
            "\tStarting cross validation\n",
            "\tFinished cross validation - mean Log Loss Binary: 0.210\n",
            "\n",
            "******************************\n",
            "* Evaluating Batch Number 69 *\n",
            "******************************\n",
            "\n",
            "Elastic Net Classifier w/ Label Encoder + Imputer + Undersampler + Standard Scaler:\n",
            "\tStarting cross validation\n",
            "\tFinished cross validation - mean Log Loss Binary: 0.212\n",
            "Elastic Net Classifier w/ Label Encoder + Imputer + Undersampler + Standard Scaler:\n",
            "\tStarting cross validation\n",
            "\tFinished cross validation - mean Log Loss Binary: 0.212\n",
            "Elastic Net Classifier w/ Label Encoder + Imputer + Undersampler + Standard Scaler:\n",
            "\tStarting cross validation\n",
            "\tFinished cross validation - mean Log Loss Binary: 0.212\n",
            "Elastic Net Classifier w/ Label Encoder + Imputer + Undersampler + Standard Scaler:\n",
            "\tStarting cross validation\n",
            "\tFinished cross validation - mean Log Loss Binary: 0.212\n",
            "Elastic Net Classifier w/ Label Encoder + Imputer + Undersampler + Standard Scaler:\n",
            "\tStarting cross validation\n",
            "\tFinished cross validation - mean Log Loss Binary: 0.212\n",
            "\n",
            "******************************\n",
            "* Evaluating Batch Number 70 *\n",
            "******************************\n",
            "\n",
            "Extra Trees Classifier w/ Label Encoder + Imputer + Undersampler:\n",
            "\tStarting cross validation\n",
            "\tFinished cross validation - mean Log Loss Binary: 0.208\n",
            "Extra Trees Classifier w/ Label Encoder + Imputer + Undersampler:\n",
            "\tStarting cross validation\n",
            "\tFinished cross validation - mean Log Loss Binary: 0.208\n",
            "Extra Trees Classifier w/ Label Encoder + Imputer + Undersampler:\n",
            "\tStarting cross validation\n",
            "\tFinished cross validation - mean Log Loss Binary: 0.208\n",
            "Extra Trees Classifier w/ Label Encoder + Imputer + Undersampler:\n",
            "\tStarting cross validation\n",
            "\tFinished cross validation - mean Log Loss Binary: 0.208\n",
            "Extra Trees Classifier w/ Label Encoder + Imputer + Undersampler:\n",
            "\tStarting cross validation\n",
            "\tFinished cross validation - mean Log Loss Binary: 0.208\n",
            "\n",
            "******************************\n",
            "* Evaluating Batch Number 71 *\n",
            "******************************\n",
            "\n",
            "Decision Tree Classifier w/ Label Encoder + Imputer + Undersampler:\n",
            "\tStarting cross validation\n",
            "\tFinished cross validation - mean Log Loss Binary: 0.235\n",
            "Decision Tree Classifier w/ Label Encoder + Imputer + Undersampler:\n",
            "\tStarting cross validation\n",
            "\tFinished cross validation - mean Log Loss Binary: 0.235\n",
            "Decision Tree Classifier w/ Label Encoder + Imputer + Undersampler:\n",
            "\tStarting cross validation\n",
            "\tFinished cross validation - mean Log Loss Binary: 0.235\n",
            "Decision Tree Classifier w/ Label Encoder + Imputer + Undersampler:\n",
            "\tStarting cross validation\n",
            "\tFinished cross validation - mean Log Loss Binary: 0.235\n",
            "Decision Tree Classifier w/ Label Encoder + Imputer + Undersampler:\n",
            "\tStarting cross validation\n",
            "\tFinished cross validation - mean Log Loss Binary: 0.235\n",
            "\n",
            "******************************\n",
            "* Evaluating Batch Number 72 *\n",
            "******************************\n",
            "\n",
            "CatBoost Classifier w/ Label Encoder + Imputer + Undersampler:\n",
            "\tStarting cross validation\n",
            "\tFinished cross validation - mean Log Loss Binary: 0.198\n",
            "CatBoost Classifier w/ Label Encoder + Imputer + Undersampler:\n",
            "\tStarting cross validation\n",
            "\tFinished cross validation - mean Log Loss Binary: 0.198\n",
            "CatBoost Classifier w/ Label Encoder + Imputer + Undersampler:\n",
            "\tStarting cross validation\n",
            "\tFinished cross validation - mean Log Loss Binary: 0.198\n",
            "CatBoost Classifier w/ Label Encoder + Imputer + Undersampler:\n",
            "\tStarting cross validation\n",
            "\tFinished cross validation - mean Log Loss Binary: 0.198\n",
            "CatBoost Classifier w/ Label Encoder + Imputer + Undersampler:\n",
            "\tStarting cross validation\n",
            "\tFinished cross validation - mean Log Loss Binary: 0.198\n",
            "\n",
            "******************************\n",
            "* Evaluating Batch Number 73 *\n",
            "******************************\n",
            "\n",
            "Stacked Ensemble Classification Pipeline:\n",
            "\tStarting cross validation\n",
            "\tFinished cross validation - mean Log Loss Binary: 0.195\n",
            "\n",
            "******************************\n",
            "* Evaluating Batch Number 74 *\n",
            "******************************\n",
            "\n",
            "LightGBM Classifier w/ Label Encoder + Imputer + Undersampler:\n",
            "\tStarting cross validation\n",
            "\tFinished cross validation - mean Log Loss Binary: 0.259\n",
            "LightGBM Classifier w/ Label Encoder + Imputer + Undersampler:\n",
            "\tStarting cross validation\n",
            "\tFinished cross validation - mean Log Loss Binary: 0.259\n",
            "LightGBM Classifier w/ Label Encoder + Imputer + Undersampler:\n",
            "\tStarting cross validation\n",
            "\tFinished cross validation - mean Log Loss Binary: 0.259\n",
            "LightGBM Classifier w/ Label Encoder + Imputer + Undersampler:\n",
            "\tStarting cross validation\n",
            "\tFinished cross validation - mean Log Loss Binary: 0.259\n",
            "LightGBM Classifier w/ Label Encoder + Imputer + Undersampler:\n",
            "\tStarting cross validation\n",
            "\tFinished cross validation - mean Log Loss Binary: 0.259\n",
            "\n",
            "******************************\n",
            "* Evaluating Batch Number 75 *\n",
            "******************************\n",
            "\n",
            "XGBoost Classifier w/ Label Encoder + Imputer + Undersampler:\n",
            "\tStarting cross validation\n",
            "\tFinished cross validation - mean Log Loss Binary: 0.160\n",
            "XGBoost Classifier w/ Label Encoder + Imputer + Undersampler:\n",
            "\tStarting cross validation\n",
            "\tFinished cross validation - mean Log Loss Binary: 0.160\n",
            "XGBoost Classifier w/ Label Encoder + Imputer + Undersampler:\n",
            "\tStarting cross validation\n",
            "\tFinished cross validation - mean Log Loss Binary: 0.160\n",
            "XGBoost Classifier w/ Label Encoder + Imputer + Undersampler:\n",
            "\tStarting cross validation\n",
            "\tFinished cross validation - mean Log Loss Binary: 0.160\n",
            "XGBoost Classifier w/ Label Encoder + Imputer + Undersampler:\n",
            "\tStarting cross validation\n",
            "\tFinished cross validation - mean Log Loss Binary: 0.160\n",
            "\n",
            "******************************\n",
            "* Evaluating Batch Number 76 *\n",
            "******************************\n",
            "\n",
            "Random Forest Classifier w/ Label Encoder + Imputer + Undersampler:\n",
            "\tStarting cross validation\n",
            "\tFinished cross validation - mean Log Loss Binary: 0.192\n",
            "Random Forest Classifier w/ Label Encoder + Imputer + Undersampler:\n",
            "\tStarting cross validation\n",
            "\tFinished cross validation - mean Log Loss Binary: 0.192\n",
            "Random Forest Classifier w/ Label Encoder + Imputer + Undersampler:\n",
            "\tStarting cross validation\n",
            "\tFinished cross validation - mean Log Loss Binary: 0.192\n",
            "Random Forest Classifier w/ Label Encoder + Imputer + Undersampler:\n",
            "\tStarting cross validation\n",
            "\tFinished cross validation - mean Log Loss Binary: 0.192\n",
            "Random Forest Classifier w/ Label Encoder + Imputer + Undersampler:\n",
            "\tStarting cross validation\n",
            "\tFinished cross validation - mean Log Loss Binary: 0.192\n",
            "\n",
            "******************************\n",
            "* Evaluating Batch Number 77 *\n",
            "******************************\n",
            "\n",
            "Logistic Regression Classifier w/ Label Encoder + Imputer + Undersampler + Standard Scaler:\n",
            "\tStarting cross validation\n",
            "\tFinished cross validation - mean Log Loss Binary: 0.211\n",
            "Logistic Regression Classifier w/ Label Encoder + Imputer + Undersampler + Standard Scaler:\n",
            "\tStarting cross validation\n",
            "\tFinished cross validation - mean Log Loss Binary: 0.211\n",
            "Logistic Regression Classifier w/ Label Encoder + Imputer + Undersampler + Standard Scaler:\n",
            "\tStarting cross validation\n",
            "\tFinished cross validation - mean Log Loss Binary: 0.211\n",
            "Logistic Regression Classifier w/ Label Encoder + Imputer + Undersampler + Standard Scaler:\n",
            "\tStarting cross validation\n",
            "\tFinished cross validation - mean Log Loss Binary: 0.211\n",
            "Logistic Regression Classifier w/ Label Encoder + Imputer + Undersampler + Standard Scaler:\n",
            "\tStarting cross validation\n",
            "\tFinished cross validation - mean Log Loss Binary: 0.211\n",
            "\n",
            "******************************\n",
            "* Evaluating Batch Number 78 *\n",
            "******************************\n",
            "\n",
            "Elastic Net Classifier w/ Label Encoder + Imputer + Undersampler + Standard Scaler:\n",
            "\tStarting cross validation\n",
            "\tFinished cross validation - mean Log Loss Binary: 0.212\n",
            "Elastic Net Classifier w/ Label Encoder + Imputer + Undersampler + Standard Scaler:\n",
            "\tStarting cross validation\n",
            "\tFinished cross validation - mean Log Loss Binary: 0.212\n",
            "Elastic Net Classifier w/ Label Encoder + Imputer + Undersampler + Standard Scaler:\n",
            "\tStarting cross validation\n",
            "\tFinished cross validation - mean Log Loss Binary: 0.212\n",
            "Elastic Net Classifier w/ Label Encoder + Imputer + Undersampler + Standard Scaler:\n",
            "\tStarting cross validation\n",
            "\tFinished cross validation - mean Log Loss Binary: 0.212\n",
            "Elastic Net Classifier w/ Label Encoder + Imputer + Undersampler + Standard Scaler:\n",
            "\tStarting cross validation\n",
            "\tFinished cross validation - mean Log Loss Binary: 0.212\n",
            "\n",
            "******************************\n",
            "* Evaluating Batch Number 79 *\n",
            "******************************\n",
            "\n",
            "Extra Trees Classifier w/ Label Encoder + Imputer + Undersampler:\n",
            "\tStarting cross validation\n",
            "\tFinished cross validation - mean Log Loss Binary: 0.210\n",
            "Extra Trees Classifier w/ Label Encoder + Imputer + Undersampler:\n",
            "\tStarting cross validation\n",
            "\tFinished cross validation - mean Log Loss Binary: 0.210\n",
            "Extra Trees Classifier w/ Label Encoder + Imputer + Undersampler:\n",
            "\tStarting cross validation\n",
            "\tFinished cross validation - mean Log Loss Binary: 0.210\n",
            "Extra Trees Classifier w/ Label Encoder + Imputer + Undersampler:\n",
            "\tStarting cross validation\n",
            "\tFinished cross validation - mean Log Loss Binary: 0.210\n",
            "Extra Trees Classifier w/ Label Encoder + Imputer + Undersampler:\n",
            "\tStarting cross validation\n",
            "\tFinished cross validation - mean Log Loss Binary: 0.210\n",
            "\n",
            "******************************\n",
            "* Evaluating Batch Number 80 *\n",
            "******************************\n",
            "\n",
            "Decision Tree Classifier w/ Label Encoder + Imputer + Undersampler:\n",
            "\tStarting cross validation\n",
            "\tFinished cross validation - mean Log Loss Binary: 0.235\n",
            "Decision Tree Classifier w/ Label Encoder + Imputer + Undersampler:\n",
            "\tStarting cross validation\n",
            "\tFinished cross validation - mean Log Loss Binary: 0.235\n",
            "Decision Tree Classifier w/ Label Encoder + Imputer + Undersampler:\n",
            "\tStarting cross validation\n",
            "\tFinished cross validation - mean Log Loss Binary: 0.235\n",
            "Decision Tree Classifier w/ Label Encoder + Imputer + Undersampler:\n",
            "\tStarting cross validation\n",
            "\tFinished cross validation - mean Log Loss Binary: 0.235\n",
            "Decision Tree Classifier w/ Label Encoder + Imputer + Undersampler:\n",
            "\tStarting cross validation\n",
            "\tFinished cross validation - mean Log Loss Binary: 0.235\n",
            "\n",
            "******************************\n",
            "* Evaluating Batch Number 81 *\n",
            "******************************\n",
            "\n",
            "CatBoost Classifier w/ Label Encoder + Imputer + Undersampler:\n",
            "\tStarting cross validation\n",
            "\tFinished cross validation - mean Log Loss Binary: 0.205\n",
            "CatBoost Classifier w/ Label Encoder + Imputer + Undersampler:\n",
            "\tStarting cross validation\n",
            "\tFinished cross validation - mean Log Loss Binary: 0.205\n",
            "CatBoost Classifier w/ Label Encoder + Imputer + Undersampler:\n",
            "\tStarting cross validation\n",
            "\tFinished cross validation - mean Log Loss Binary: 0.205\n",
            "CatBoost Classifier w/ Label Encoder + Imputer + Undersampler:\n",
            "\tStarting cross validation\n",
            "\tFinished cross validation - mean Log Loss Binary: 0.205\n",
            "CatBoost Classifier w/ Label Encoder + Imputer + Undersampler:\n",
            "\tStarting cross validation\n",
            "\tFinished cross validation - mean Log Loss Binary: 0.205\n",
            "\n",
            "******************************\n",
            "* Evaluating Batch Number 82 *\n",
            "******************************\n",
            "\n",
            "Stacked Ensemble Classification Pipeline:\n",
            "\tStarting cross validation\n",
            "\tFinished cross validation - mean Log Loss Binary: 0.188\n",
            "\n",
            "******************************\n",
            "* Evaluating Batch Number 83 *\n",
            "******************************\n",
            "\n",
            "LightGBM Classifier w/ Label Encoder + Imputer + Undersampler:\n",
            "\tStarting cross validation\n",
            "\tFinished cross validation - mean Log Loss Binary: 0.205\n",
            "LightGBM Classifier w/ Label Encoder + Imputer + Undersampler:\n",
            "\tStarting cross validation\n",
            "\tFinished cross validation - mean Log Loss Binary: 0.205\n",
            "LightGBM Classifier w/ Label Encoder + Imputer + Undersampler:\n",
            "\tStarting cross validation\n",
            "\tFinished cross validation - mean Log Loss Binary: 0.205\n",
            "LightGBM Classifier w/ Label Encoder + Imputer + Undersampler:\n",
            "\tStarting cross validation\n",
            "\tFinished cross validation - mean Log Loss Binary: 0.205\n",
            "LightGBM Classifier w/ Label Encoder + Imputer + Undersampler:\n",
            "\tStarting cross validation\n",
            "\tFinished cross validation - mean Log Loss Binary: 0.205\n",
            "\n",
            "******************************\n",
            "* Evaluating Batch Number 84 *\n",
            "******************************\n",
            "\n",
            "XGBoost Classifier w/ Label Encoder + Imputer + Undersampler:\n",
            "\tStarting cross validation\n",
            "\tFinished cross validation - mean Log Loss Binary: 0.210\n",
            "XGBoost Classifier w/ Label Encoder + Imputer + Undersampler:\n",
            "\tStarting cross validation\n",
            "\tFinished cross validation - mean Log Loss Binary: 0.210\n",
            "XGBoost Classifier w/ Label Encoder + Imputer + Undersampler:\n",
            "\tStarting cross validation\n",
            "\tFinished cross validation - mean Log Loss Binary: 0.210\n",
            "XGBoost Classifier w/ Label Encoder + Imputer + Undersampler:\n",
            "\tStarting cross validation\n",
            "\tFinished cross validation - mean Log Loss Binary: 0.210\n",
            "XGBoost Classifier w/ Label Encoder + Imputer + Undersampler:\n",
            "\tStarting cross validation\n",
            "\tFinished cross validation - mean Log Loss Binary: 0.210\n",
            "\n",
            "******************************\n",
            "* Evaluating Batch Number 85 *\n",
            "******************************\n",
            "\n",
            "Random Forest Classifier w/ Label Encoder + Imputer + Undersampler:\n",
            "\tStarting cross validation\n",
            "\tFinished cross validation - mean Log Loss Binary: 0.197\n",
            "Random Forest Classifier w/ Label Encoder + Imputer + Undersampler:\n",
            "\tStarting cross validation\n",
            "\tFinished cross validation - mean Log Loss Binary: 0.197\n",
            "Random Forest Classifier w/ Label Encoder + Imputer + Undersampler:\n",
            "\tStarting cross validation\n",
            "\tFinished cross validation - mean Log Loss Binary: 0.197\n",
            "Random Forest Classifier w/ Label Encoder + Imputer + Undersampler:\n",
            "\tStarting cross validation\n",
            "\tFinished cross validation - mean Log Loss Binary: 0.197\n",
            "Random Forest Classifier w/ Label Encoder + Imputer + Undersampler:\n",
            "\tStarting cross validation\n",
            "\tFinished cross validation - mean Log Loss Binary: 0.197\n",
            "\n",
            "******************************\n",
            "* Evaluating Batch Number 86 *\n",
            "******************************\n",
            "\n",
            "Logistic Regression Classifier w/ Label Encoder + Imputer + Undersampler + Standard Scaler:\n",
            "\tStarting cross validation\n",
            "\tFinished cross validation - mean Log Loss Binary: 0.210\n",
            "Logistic Regression Classifier w/ Label Encoder + Imputer + Undersampler + Standard Scaler:\n",
            "\tStarting cross validation\n",
            "\tFinished cross validation - mean Log Loss Binary: 0.210\n",
            "Logistic Regression Classifier w/ Label Encoder + Imputer + Undersampler + Standard Scaler:\n",
            "\tStarting cross validation\n",
            "\tFinished cross validation - mean Log Loss Binary: 0.210\n",
            "Logistic Regression Classifier w/ Label Encoder + Imputer + Undersampler + Standard Scaler:\n",
            "\tStarting cross validation\n",
            "\tFinished cross validation - mean Log Loss Binary: 0.210\n",
            "Logistic Regression Classifier w/ Label Encoder + Imputer + Undersampler + Standard Scaler:\n",
            "\tStarting cross validation\n",
            "\tFinished cross validation - mean Log Loss Binary: 0.210\n",
            "\n",
            "******************************\n",
            "* Evaluating Batch Number 87 *\n",
            "******************************\n",
            "\n",
            "Elastic Net Classifier w/ Label Encoder + Imputer + Undersampler + Standard Scaler:\n",
            "\tStarting cross validation\n",
            "\tFinished cross validation - mean Log Loss Binary: 0.212\n",
            "Elastic Net Classifier w/ Label Encoder + Imputer + Undersampler + Standard Scaler:\n",
            "\tStarting cross validation\n",
            "\tFinished cross validation - mean Log Loss Binary: 0.212\n",
            "Elastic Net Classifier w/ Label Encoder + Imputer + Undersampler + Standard Scaler:\n",
            "\tStarting cross validation\n",
            "\tFinished cross validation - mean Log Loss Binary: 0.212\n",
            "Elastic Net Classifier w/ Label Encoder + Imputer + Undersampler + Standard Scaler:\n",
            "\tStarting cross validation\n",
            "\tFinished cross validation - mean Log Loss Binary: 0.212\n",
            "Elastic Net Classifier w/ Label Encoder + Imputer + Undersampler + Standard Scaler:\n",
            "\tStarting cross validation\n",
            "\tFinished cross validation - mean Log Loss Binary: 0.212\n",
            "\n",
            "******************************\n",
            "* Evaluating Batch Number 88 *\n",
            "******************************\n",
            "\n",
            "Extra Trees Classifier w/ Label Encoder + Imputer + Undersampler:\n",
            "\tStarting cross validation\n",
            "\tFinished cross validation - mean Log Loss Binary: 0.208\n",
            "Extra Trees Classifier w/ Label Encoder + Imputer + Undersampler:\n",
            "\tStarting cross validation\n",
            "\tFinished cross validation - mean Log Loss Binary: 0.208\n",
            "Extra Trees Classifier w/ Label Encoder + Imputer + Undersampler:\n",
            "\tStarting cross validation\n",
            "\tFinished cross validation - mean Log Loss Binary: 0.208\n",
            "Extra Trees Classifier w/ Label Encoder + Imputer + Undersampler:\n",
            "\tStarting cross validation\n",
            "\tFinished cross validation - mean Log Loss Binary: 0.208\n",
            "Extra Trees Classifier w/ Label Encoder + Imputer + Undersampler:\n",
            "\tStarting cross validation\n",
            "\tFinished cross validation - mean Log Loss Binary: 0.208\n",
            "\n",
            "******************************\n",
            "* Evaluating Batch Number 89 *\n",
            "******************************\n",
            "\n",
            "Decision Tree Classifier w/ Label Encoder + Imputer + Undersampler:\n",
            "\tStarting cross validation\n",
            "\tFinished cross validation - mean Log Loss Binary: 0.235\n",
            "Decision Tree Classifier w/ Label Encoder + Imputer + Undersampler:\n",
            "\tStarting cross validation\n",
            "\tFinished cross validation - mean Log Loss Binary: 0.235\n",
            "Decision Tree Classifier w/ Label Encoder + Imputer + Undersampler:\n",
            "\tStarting cross validation\n",
            "\tFinished cross validation - mean Log Loss Binary: 0.235\n",
            "Decision Tree Classifier w/ Label Encoder + Imputer + Undersampler:\n",
            "\tStarting cross validation\n",
            "\tFinished cross validation - mean Log Loss Binary: 0.235\n",
            "Decision Tree Classifier w/ Label Encoder + Imputer + Undersampler:\n",
            "\tStarting cross validation\n",
            "\tFinished cross validation - mean Log Loss Binary: 0.235\n",
            "\n",
            "******************************\n",
            "* Evaluating Batch Number 90 *\n",
            "******************************\n",
            "\n",
            "CatBoost Classifier w/ Label Encoder + Imputer + Undersampler:\n",
            "\tStarting cross validation\n",
            "\tFinished cross validation - mean Log Loss Binary: 0.311\n",
            "CatBoost Classifier w/ Label Encoder + Imputer + Undersampler:\n",
            "\tStarting cross validation\n",
            "\tFinished cross validation - mean Log Loss Binary: 0.311\n",
            "CatBoost Classifier w/ Label Encoder + Imputer + Undersampler:\n",
            "\tStarting cross validation\n",
            "\tFinished cross validation - mean Log Loss Binary: 0.311\n",
            "CatBoost Classifier w/ Label Encoder + Imputer + Undersampler:\n",
            "\tStarting cross validation\n",
            "\tFinished cross validation - mean Log Loss Binary: 0.311\n",
            "CatBoost Classifier w/ Label Encoder + Imputer + Undersampler:\n",
            "\tStarting cross validation\n",
            "\tFinished cross validation - mean Log Loss Binary: 0.311\n",
            "\n",
            "******************************\n",
            "* Evaluating Batch Number 91 *\n",
            "******************************\n",
            "\n",
            "Stacked Ensemble Classification Pipeline:\n",
            "\tStarting cross validation\n",
            "\tFinished cross validation - mean Log Loss Binary: 0.188\n",
            "\n",
            "******************************\n",
            "* Evaluating Batch Number 92 *\n",
            "******************************\n",
            "\n",
            "LightGBM Classifier w/ Label Encoder + Imputer + Undersampler:\n",
            "\tStarting cross validation\n",
            "\tFinished cross validation - mean Log Loss Binary: 0.191\n",
            "LightGBM Classifier w/ Label Encoder + Imputer + Undersampler:\n",
            "\tStarting cross validation\n",
            "\tFinished cross validation - mean Log Loss Binary: 0.191\n",
            "LightGBM Classifier w/ Label Encoder + Imputer + Undersampler:\n",
            "\tStarting cross validation\n",
            "\tFinished cross validation - mean Log Loss Binary: 0.191\n",
            "LightGBM Classifier w/ Label Encoder + Imputer + Undersampler:\n",
            "\tStarting cross validation\n",
            "\tFinished cross validation - mean Log Loss Binary: 0.191\n",
            "LightGBM Classifier w/ Label Encoder + Imputer + Undersampler:\n",
            "\tStarting cross validation\n",
            "\tFinished cross validation - mean Log Loss Binary: 0.191\n",
            "\n",
            "******************************\n",
            "* Evaluating Batch Number 93 *\n",
            "******************************\n",
            "\n",
            "XGBoost Classifier w/ Label Encoder + Imputer + Undersampler:\n",
            "\tStarting cross validation\n",
            "\tFinished cross validation - mean Log Loss Binary: 0.170\n",
            "XGBoost Classifier w/ Label Encoder + Imputer + Undersampler:\n",
            "\tStarting cross validation\n",
            "\tFinished cross validation - mean Log Loss Binary: 0.170\n",
            "XGBoost Classifier w/ Label Encoder + Imputer + Undersampler:\n",
            "\tStarting cross validation\n",
            "\tFinished cross validation - mean Log Loss Binary: 0.170\n",
            "XGBoost Classifier w/ Label Encoder + Imputer + Undersampler:\n",
            "\tStarting cross validation\n",
            "\tFinished cross validation - mean Log Loss Binary: 0.170\n",
            "XGBoost Classifier w/ Label Encoder + Imputer + Undersampler:\n",
            "\tStarting cross validation\n",
            "\tFinished cross validation - mean Log Loss Binary: 0.170\n",
            "\n",
            "******************************\n",
            "* Evaluating Batch Number 94 *\n",
            "******************************\n",
            "\n",
            "Random Forest Classifier w/ Label Encoder + Imputer + Undersampler:\n",
            "\tStarting cross validation\n",
            "\tFinished cross validation - mean Log Loss Binary: 0.215\n",
            "Random Forest Classifier w/ Label Encoder + Imputer + Undersampler:\n",
            "\tStarting cross validation\n",
            "\tFinished cross validation - mean Log Loss Binary: 0.215\n",
            "Random Forest Classifier w/ Label Encoder + Imputer + Undersampler:\n",
            "\tStarting cross validation\n",
            "\tFinished cross validation - mean Log Loss Binary: 0.215\n",
            "Random Forest Classifier w/ Label Encoder + Imputer + Undersampler:\n",
            "\tStarting cross validation\n",
            "\tFinished cross validation - mean Log Loss Binary: 0.215\n",
            "Random Forest Classifier w/ Label Encoder + Imputer + Undersampler:\n",
            "\tStarting cross validation\n",
            "\tFinished cross validation - mean Log Loss Binary: 0.215\n",
            "\n",
            "******************************\n",
            "* Evaluating Batch Number 95 *\n",
            "******************************\n",
            "\n",
            "Logistic Regression Classifier w/ Label Encoder + Imputer + Undersampler + Standard Scaler:\n",
            "\tStarting cross validation\n",
            "\tFinished cross validation - mean Log Loss Binary: 0.210\n",
            "Logistic Regression Classifier w/ Label Encoder + Imputer + Undersampler + Standard Scaler:\n",
            "\tStarting cross validation\n",
            "\tFinished cross validation - mean Log Loss Binary: 0.210\n",
            "Logistic Regression Classifier w/ Label Encoder + Imputer + Undersampler + Standard Scaler:\n",
            "\tStarting cross validation\n",
            "\tFinished cross validation - mean Log Loss Binary: 0.210\n",
            "Logistic Regression Classifier w/ Label Encoder + Imputer + Undersampler + Standard Scaler:\n",
            "\tStarting cross validation\n",
            "\tFinished cross validation - mean Log Loss Binary: 0.210\n",
            "Logistic Regression Classifier w/ Label Encoder + Imputer + Undersampler + Standard Scaler:\n",
            "\tStarting cross validation\n",
            "\tFinished cross validation - mean Log Loss Binary: 0.210\n",
            "\n",
            "******************************\n",
            "* Evaluating Batch Number 96 *\n",
            "******************************\n",
            "\n",
            "Elastic Net Classifier w/ Label Encoder + Imputer + Undersampler + Standard Scaler:\n",
            "\tStarting cross validation\n",
            "\tFinished cross validation - mean Log Loss Binary: 0.212\n",
            "Elastic Net Classifier w/ Label Encoder + Imputer + Undersampler + Standard Scaler:\n",
            "\tStarting cross validation\n",
            "\tFinished cross validation - mean Log Loss Binary: 0.212\n",
            "Elastic Net Classifier w/ Label Encoder + Imputer + Undersampler + Standard Scaler:\n",
            "\tStarting cross validation\n",
            "\tFinished cross validation - mean Log Loss Binary: 0.212\n",
            "Elastic Net Classifier w/ Label Encoder + Imputer + Undersampler + Standard Scaler:\n",
            "\tStarting cross validation\n",
            "\tFinished cross validation - mean Log Loss Binary: 0.212\n",
            "Elastic Net Classifier w/ Label Encoder + Imputer + Undersampler + Standard Scaler:\n",
            "\tStarting cross validation\n",
            "\tFinished cross validation - mean Log Loss Binary: 0.212\n",
            "\n",
            "******************************\n",
            "* Evaluating Batch Number 97 *\n",
            "******************************\n",
            "\n",
            "Extra Trees Classifier w/ Label Encoder + Imputer + Undersampler:\n",
            "\tStarting cross validation\n",
            "\tFinished cross validation - mean Log Loss Binary: 0.213\n",
            "Extra Trees Classifier w/ Label Encoder + Imputer + Undersampler:\n",
            "\tStarting cross validation\n",
            "\tFinished cross validation - mean Log Loss Binary: 0.213\n",
            "Extra Trees Classifier w/ Label Encoder + Imputer + Undersampler:\n",
            "\tStarting cross validation\n",
            "\tFinished cross validation - mean Log Loss Binary: 0.213\n",
            "Extra Trees Classifier w/ Label Encoder + Imputer + Undersampler:\n",
            "\tStarting cross validation\n",
            "\tFinished cross validation - mean Log Loss Binary: 0.213\n",
            "Extra Trees Classifier w/ Label Encoder + Imputer + Undersampler:\n",
            "\tStarting cross validation\n",
            "\tFinished cross validation - mean Log Loss Binary: 0.213\n",
            "\n",
            "******************************\n",
            "* Evaluating Batch Number 98 *\n",
            "******************************\n",
            "\n",
            "Decision Tree Classifier w/ Label Encoder + Imputer + Undersampler:\n",
            "\tStarting cross validation\n",
            "\tFinished cross validation - mean Log Loss Binary: 0.235\n",
            "Decision Tree Classifier w/ Label Encoder + Imputer + Undersampler:\n",
            "\tStarting cross validation\n",
            "\tFinished cross validation - mean Log Loss Binary: 0.235\n",
            "Decision Tree Classifier w/ Label Encoder + Imputer + Undersampler:\n",
            "\tStarting cross validation\n",
            "\tFinished cross validation - mean Log Loss Binary: 0.235\n",
            "Decision Tree Classifier w/ Label Encoder + Imputer + Undersampler:\n",
            "\tStarting cross validation\n",
            "\tFinished cross validation - mean Log Loss Binary: 0.235\n",
            "Decision Tree Classifier w/ Label Encoder + Imputer + Undersampler:\n",
            "\tStarting cross validation\n",
            "\tFinished cross validation - mean Log Loss Binary: 0.235\n",
            "\n",
            "******************************\n",
            "* Evaluating Batch Number 99 *\n",
            "******************************\n",
            "\n",
            "CatBoost Classifier w/ Label Encoder + Imputer + Undersampler:\n",
            "\tStarting cross validation\n",
            "\tFinished cross validation - mean Log Loss Binary: 0.192\n",
            "CatBoost Classifier w/ Label Encoder + Imputer + Undersampler:\n",
            "\tStarting cross validation\n",
            "\tFinished cross validation - mean Log Loss Binary: 0.192\n",
            "CatBoost Classifier w/ Label Encoder + Imputer + Undersampler:\n",
            "\tStarting cross validation\n",
            "\tFinished cross validation - mean Log Loss Binary: 0.192\n",
            "CatBoost Classifier w/ Label Encoder + Imputer + Undersampler:\n",
            "\tStarting cross validation\n",
            "\tFinished cross validation - mean Log Loss Binary: 0.192\n",
            "CatBoost Classifier w/ Label Encoder + Imputer + Undersampler:\n",
            "\tStarting cross validation\n",
            "\tFinished cross validation - mean Log Loss Binary: 0.192\n",
            "\n",
            "*******************************\n",
            "* Evaluating Batch Number 100 *\n",
            "*******************************\n",
            "\n",
            "Stacked Ensemble Classification Pipeline:\n",
            "\tStarting cross validation\n",
            "\tFinished cross validation - mean Log Loss Binary: 0.188\n",
            "\n",
            "Search finished after 1:21:43          \n",
            "Best pipeline: XGBoost Classifier w/ Label Encoder + Imputer + Undersampler\n",
            "Best pipeline Log Loss Binary: 0.159794\n"
          ]
        }
      ]
    },
    {
      "cell_type": "code",
      "source": [
        "automl1.best_pipeline"
      ],
      "metadata": {
        "colab": {
          "base_uri": "https://localhost:8080/"
        },
        "id": "eBYZ-WnsvyUk",
        "outputId": "58ab7cfb-2537-4dd4-9b81-8141a7532aa5"
      },
      "execution_count": null,
      "outputs": [
        {
          "output_type": "execute_result",
          "data": {
            "text/plain": [
              "pipeline = BinaryClassificationPipeline(component_graph={'Label Encoder': ['Label Encoder', 'X', 'y'], 'Imputer': ['Imputer', 'X', 'Label Encoder.y'], 'Undersampler': ['Undersampler', 'Imputer.x', 'Label Encoder.y'], 'XGBoost Classifier': ['XGBoost Classifier', 'Undersampler.x', 'Undersampler.y']}, parameters={'Label Encoder':{'positive_label': None}, 'Imputer':{'categorical_impute_strategy': 'most_frequent', 'numeric_impute_strategy': 'mean', 'categorical_fill_value': None, 'numeric_fill_value': None}, 'Undersampler':{'sampling_ratio': 0.25, 'min_samples': 100, 'min_percentage': 0.1, 'sampling_ratio_dict': None}, 'XGBoost Classifier':{'eta': 0.11099952253547658, 'max_depth': 10, 'min_child_weight': 3.517518663921147, 'n_estimators': 395, 'n_jobs': -1, 'eval_metric': 'logloss'}}, random_seed=0)"
            ]
          },
          "metadata": {},
          "execution_count": 75
        }
      ]
    },
    {
      "cell_type": "code",
      "source": [
        "best_pipeline=automl1.best_pipeline\n"
      ],
      "metadata": {
        "id": "o3By_OYIvflh"
      },
      "execution_count": null,
      "outputs": []
    },
    {
      "cell_type": "code",
      "source": [
        "automl1.describe_pipeline(automl1.rankings.iloc[0][\"id\"])\n"
      ],
      "metadata": {
        "colab": {
          "base_uri": "https://localhost:8080/"
        },
        "id": "EYatVhVlvfli",
        "outputId": "b4466ac4-c286-4bc5-c6b1-1381ed3ef6e8"
      },
      "execution_count": null,
      "outputs": [
        {
          "output_type": "stream",
          "name": "stdout",
          "text": [
            "\n",
            "****************************************************************\n",
            "* XGBoost Classifier w/ Label Encoder + Imputer + Undersampler *\n",
            "****************************************************************\n",
            "\n",
            "Problem Type: binary\n",
            "Model Family: XGBoost\n",
            "\n",
            "Pipeline Steps\n",
            "==============\n",
            "1. Label Encoder\n",
            "\t * positive_label : None\n",
            "2. Imputer\n",
            "\t * categorical_impute_strategy : most_frequent\n",
            "\t * numeric_impute_strategy : mean\n",
            "\t * categorical_fill_value : None\n",
            "\t * numeric_fill_value : None\n",
            "3. Undersampler\n",
            "\t * sampling_ratio : 0.25\n",
            "\t * min_samples : 100\n",
            "\t * min_percentage : 0.1\n",
            "\t * sampling_ratio_dict : None\n",
            "4. XGBoost Classifier\n",
            "\t * eta : 0.11099952253547658\n",
            "\t * max_depth : 10\n",
            "\t * min_child_weight : 3.517518663921147\n",
            "\t * n_estimators : 395\n",
            "\t * n_jobs : -1\n",
            "\t * eval_metric : logloss\n",
            "\n",
            "Training\n",
            "========\n",
            "Training for binary problems.\n",
            "Total training time (including CV): 15.7 seconds\n",
            "\n",
            "Cross Validation\n",
            "----------------\n",
            "            Log Loss Binary MCC Binary  Gini   AUC Precision    F1 Balanced Accuracy Binary Accuracy Binary # Training # Validation\n",
            "0                     0.160      0.203 0.452 0.726     0.218 0.212                    0.598           0.982    112,500      337,500\n",
            "mean                  0.160      0.203 0.452 0.726     0.218 0.212                    0.598           0.982          -            -\n",
            "std                       -          -     -     -         -     -                        -               -          -            -\n",
            "coef of var               -          -     -     -         -     -                        -               -          -            -\n"
          ]
        }
      ]
    },
    {
      "cell_type": "code",
      "source": [
        "### Evaluate on hold out data\n",
        "#best_pipeline.score(X_val, y_val, objectives=[\"auc\",\"f1\",\"Precision\",\"Recall\"])\n"
      ],
      "metadata": {
        "id": "sm6nAD5Evfli"
      },
      "execution_count": null,
      "outputs": []
    },
    {
      "cell_type": "code",
      "source": [
        "best_pipeline.save(\"model1.pkl\")\n"
      ],
      "metadata": {
        "id": "5uY1V3uavflj"
      },
      "execution_count": null,
      "outputs": []
    },
    {
      "cell_type": "code",
      "source": [
        "check_model=automl1.load('model1.pkl')\n"
      ],
      "metadata": {
        "id": "Z75VUQNIvflk"
      },
      "execution_count": null,
      "outputs": []
    },
    {
      "cell_type": "code",
      "source": [
        "y_predval = check_model.predict_proba(X_test)\n"
      ],
      "metadata": {
        "id": "44ZpeGHIvflm"
      },
      "execution_count": null,
      "outputs": []
    },
    {
      "cell_type": "code",
      "source": [
        "y_predval.columns"
      ],
      "metadata": {
        "colab": {
          "base_uri": "https://localhost:8080/"
        },
        "outputId": "04d17aa5-fa88-490a-a837-06fe7a0cd793",
        "id": "OMXs2MhCvfln"
      },
      "execution_count": null,
      "outputs": [
        {
          "output_type": "execute_result",
          "data": {
            "text/plain": [
              "Int64Index([0, 1], dtype='int64')"
            ]
          },
          "metadata": {},
          "execution_count": 82
        }
      ]
    },
    {
      "cell_type": "code",
      "source": [
        "y_predval['cancelled']=np.where(y_predval[0] > 0.5 , 0,1)"
      ],
      "metadata": {
        "id": "mv82ZaXGvfln"
      },
      "execution_count": null,
      "outputs": []
    },
    {
      "cell_type": "code",
      "source": [
        "y_predval.isna().sum()"
      ],
      "metadata": {
        "colab": {
          "base_uri": "https://localhost:8080/"
        },
        "outputId": "0b498313-8e9d-4fff-d7c3-f17179498880",
        "id": "4A5zp0f6vflo"
      },
      "execution_count": null,
      "outputs": [
        {
          "output_type": "execute_result",
          "data": {
            "text/plain": [
              "0            0\n",
              "1            0\n",
              "cancelled    0\n",
              "dtype: int64"
            ]
          },
          "metadata": {},
          "execution_count": 84
        }
      ]
    },
    {
      "cell_type": "code",
      "source": [
        "y_predval['cancelled'].value_counts()"
      ],
      "metadata": {
        "colab": {
          "base_uri": "https://localhost:8080/"
        },
        "outputId": "9ba55ddf-6f57-4941-9929-700323d166ab",
        "id": "BmxBfj05vflo"
      },
      "execution_count": null,
      "outputs": [
        {
          "output_type": "execute_result",
          "data": {
            "text/plain": [
              "0    140102\n",
              "1      4742\n",
              "Name: cancelled, dtype: int64"
            ]
          },
          "metadata": {},
          "execution_count": 85
        }
      ]
    },
    {
      "cell_type": "code",
      "source": [
        "final_df = pd.DataFrame()"
      ],
      "metadata": {
        "id": "ormvUHcAvflp"
      },
      "execution_count": null,
      "outputs": []
    },
    {
      "cell_type": "code",
      "source": [
        "final_df['order_id'] = X_test['order_id']"
      ],
      "metadata": {
        "id": "77T5FTPovflp"
      },
      "execution_count": null,
      "outputs": []
    },
    {
      "cell_type": "code",
      "source": [
        "final_df['cancelled'] = y_predval['cancelled']"
      ],
      "metadata": {
        "id": "gyfkwiQIvflq"
      },
      "execution_count": null,
      "outputs": []
    },
    {
      "cell_type": "code",
      "source": [
        "final_df.shape"
      ],
      "metadata": {
        "colab": {
          "base_uri": "https://localhost:8080/"
        },
        "outputId": "857fa04f-fedf-48fe-8af5-5c291805426e",
        "id": "UeR0OWFbvflq"
      },
      "execution_count": null,
      "outputs": [
        {
          "output_type": "execute_result",
          "data": {
            "text/plain": [
              "(144844, 2)"
            ]
          },
          "metadata": {},
          "execution_count": 89
        }
      ]
    },
    {
      "cell_type": "code",
      "source": [
        "final_df.to_csv('./submission_evalml1.csv',index = False)"
      ],
      "metadata": {
        "id": "Dp8qlK-Cvflr"
      },
      "execution_count": null,
      "outputs": []
    },
    {
      "cell_type": "code",
      "source": [
        "final_df"
      ],
      "metadata": {
        "id": "PscmFxINvflr",
        "colab": {
          "base_uri": "https://localhost:8080/",
          "height": 423
        },
        "outputId": "48e296d1-cad3-40e9-b38d-957fe419b31e"
      },
      "execution_count": null,
      "outputs": [
        {
          "output_type": "execute_result",
          "data": {
            "text/html": [
              "\n",
              "  <div id=\"df-d463728a-904b-43fc-849a-dde866512461\">\n",
              "    <div class=\"colab-df-container\">\n",
              "      <div>\n",
              "<style scoped>\n",
              "    .dataframe tbody tr th:only-of-type {\n",
              "        vertical-align: middle;\n",
              "    }\n",
              "\n",
              "    .dataframe tbody tr th {\n",
              "        vertical-align: top;\n",
              "    }\n",
              "\n",
              "    .dataframe thead th {\n",
              "        text-align: right;\n",
              "    }\n",
              "</style>\n",
              "<table border=\"1\" class=\"dataframe\">\n",
              "  <thead>\n",
              "    <tr style=\"text-align: right;\">\n",
              "      <th></th>\n",
              "      <th>order_id</th>\n",
              "      <th>cancelled</th>\n",
              "    </tr>\n",
              "  </thead>\n",
              "  <tbody>\n",
              "    <tr>\n",
              "      <th>0</th>\n",
              "      <td>130231</td>\n",
              "      <td>0</td>\n",
              "    </tr>\n",
              "    <tr>\n",
              "      <th>1</th>\n",
              "      <td>130232</td>\n",
              "      <td>0</td>\n",
              "    </tr>\n",
              "    <tr>\n",
              "      <th>2</th>\n",
              "      <td>130233</td>\n",
              "      <td>0</td>\n",
              "    </tr>\n",
              "    <tr>\n",
              "      <th>3</th>\n",
              "      <td>130234</td>\n",
              "      <td>0</td>\n",
              "    </tr>\n",
              "    <tr>\n",
              "      <th>4</th>\n",
              "      <td>130235</td>\n",
              "      <td>0</td>\n",
              "    </tr>\n",
              "    <tr>\n",
              "      <th>...</th>\n",
              "      <td>...</td>\n",
              "      <td>...</td>\n",
              "    </tr>\n",
              "    <tr>\n",
              "      <th>144839</th>\n",
              "      <td>41184</td>\n",
              "      <td>0</td>\n",
              "    </tr>\n",
              "    <tr>\n",
              "      <th>144840</th>\n",
              "      <td>41185</td>\n",
              "      <td>0</td>\n",
              "    </tr>\n",
              "    <tr>\n",
              "      <th>144841</th>\n",
              "      <td>41186</td>\n",
              "      <td>0</td>\n",
              "    </tr>\n",
              "    <tr>\n",
              "      <th>144842</th>\n",
              "      <td>41187</td>\n",
              "      <td>0</td>\n",
              "    </tr>\n",
              "    <tr>\n",
              "      <th>144843</th>\n",
              "      <td>41188</td>\n",
              "      <td>0</td>\n",
              "    </tr>\n",
              "  </tbody>\n",
              "</table>\n",
              "<p>144844 rows × 2 columns</p>\n",
              "</div>\n",
              "      <button class=\"colab-df-convert\" onclick=\"convertToInteractive('df-d463728a-904b-43fc-849a-dde866512461')\"\n",
              "              title=\"Convert this dataframe to an interactive table.\"\n",
              "              style=\"display:none;\">\n",
              "        \n",
              "  <svg xmlns=\"http://www.w3.org/2000/svg\" height=\"24px\"viewBox=\"0 0 24 24\"\n",
              "       width=\"24px\">\n",
              "    <path d=\"M0 0h24v24H0V0z\" fill=\"none\"/>\n",
              "    <path d=\"M18.56 5.44l.94 2.06.94-2.06 2.06-.94-2.06-.94-.94-2.06-.94 2.06-2.06.94zm-11 1L8.5 8.5l.94-2.06 2.06-.94-2.06-.94L8.5 2.5l-.94 2.06-2.06.94zm10 10l.94 2.06.94-2.06 2.06-.94-2.06-.94-.94-2.06-.94 2.06-2.06.94z\"/><path d=\"M17.41 7.96l-1.37-1.37c-.4-.4-.92-.59-1.43-.59-.52 0-1.04.2-1.43.59L10.3 9.45l-7.72 7.72c-.78.78-.78 2.05 0 2.83L4 21.41c.39.39.9.59 1.41.59.51 0 1.02-.2 1.41-.59l7.78-7.78 2.81-2.81c.8-.78.8-2.07 0-2.86zM5.41 20L4 18.59l7.72-7.72 1.47 1.35L5.41 20z\"/>\n",
              "  </svg>\n",
              "      </button>\n",
              "      \n",
              "  <style>\n",
              "    .colab-df-container {\n",
              "      display:flex;\n",
              "      flex-wrap:wrap;\n",
              "      gap: 12px;\n",
              "    }\n",
              "\n",
              "    .colab-df-convert {\n",
              "      background-color: #E8F0FE;\n",
              "      border: none;\n",
              "      border-radius: 50%;\n",
              "      cursor: pointer;\n",
              "      display: none;\n",
              "      fill: #1967D2;\n",
              "      height: 32px;\n",
              "      padding: 0 0 0 0;\n",
              "      width: 32px;\n",
              "    }\n",
              "\n",
              "    .colab-df-convert:hover {\n",
              "      background-color: #E2EBFA;\n",
              "      box-shadow: 0px 1px 2px rgba(60, 64, 67, 0.3), 0px 1px 3px 1px rgba(60, 64, 67, 0.15);\n",
              "      fill: #174EA6;\n",
              "    }\n",
              "\n",
              "    [theme=dark] .colab-df-convert {\n",
              "      background-color: #3B4455;\n",
              "      fill: #D2E3FC;\n",
              "    }\n",
              "\n",
              "    [theme=dark] .colab-df-convert:hover {\n",
              "      background-color: #434B5C;\n",
              "      box-shadow: 0px 1px 3px 1px rgba(0, 0, 0, 0.15);\n",
              "      filter: drop-shadow(0px 1px 2px rgba(0, 0, 0, 0.3));\n",
              "      fill: #FFFFFF;\n",
              "    }\n",
              "  </style>\n",
              "\n",
              "      <script>\n",
              "        const buttonEl =\n",
              "          document.querySelector('#df-d463728a-904b-43fc-849a-dde866512461 button.colab-df-convert');\n",
              "        buttonEl.style.display =\n",
              "          google.colab.kernel.accessAllowed ? 'block' : 'none';\n",
              "\n",
              "        async function convertToInteractive(key) {\n",
              "          const element = document.querySelector('#df-d463728a-904b-43fc-849a-dde866512461');\n",
              "          const dataTable =\n",
              "            await google.colab.kernel.invokeFunction('convertToInteractive',\n",
              "                                                     [key], {});\n",
              "          if (!dataTable) return;\n",
              "\n",
              "          const docLinkHtml = 'Like what you see? Visit the ' +\n",
              "            '<a target=\"_blank\" href=https://colab.research.google.com/notebooks/data_table.ipynb>data table notebook</a>'\n",
              "            + ' to learn more about interactive tables.';\n",
              "          element.innerHTML = '';\n",
              "          dataTable['output_type'] = 'display_data';\n",
              "          await google.colab.output.renderOutput(dataTable, element);\n",
              "          const docLink = document.createElement('div');\n",
              "          docLink.innerHTML = docLinkHtml;\n",
              "          element.appendChild(docLink);\n",
              "        }\n",
              "      </script>\n",
              "    </div>\n",
              "  </div>\n",
              "  "
            ],
            "text/plain": [
              "        order_id  cancelled\n",
              "0         130231          0\n",
              "1         130232          0\n",
              "2         130233          0\n",
              "3         130234          0\n",
              "4         130235          0\n",
              "...          ...        ...\n",
              "144839     41184          0\n",
              "144840     41185          0\n",
              "144841     41186          0\n",
              "144842     41187          0\n",
              "144843     41188          0\n",
              "\n",
              "[144844 rows x 2 columns]"
            ]
          },
          "metadata": {},
          "execution_count": 91
        }
      ]
    },
    {
      "cell_type": "markdown",
      "source": [
        "#Implementing H2O Auto ML"
      ],
      "metadata": {
        "id": "1g5q8oosxiro"
      }
    },
    {
      "cell_type": "code",
      "source": [
        "!pip install h2o"
      ],
      "metadata": {
        "colab": {
          "base_uri": "https://localhost:8080/"
        },
        "id": "d1609-psxmN9",
        "outputId": "57849cda-e026-4a29-a3c6-69a018454423"
      },
      "execution_count": null,
      "outputs": [
        {
          "output_type": "stream",
          "name": "stdout",
          "text": [
            "Collecting h2o\n",
            "  Downloading h2o-3.36.0.2.tar.gz (176.0 MB)\n",
            "\u001b[K     |████████████████████████████████| 176.0 MB 5.1 kB/s \n",
            "\u001b[?25hRequirement already satisfied: requests in /usr/local/lib/python3.7/dist-packages (from h2o) (2.23.0)\n",
            "Requirement already satisfied: tabulate in /usr/local/lib/python3.7/dist-packages (from h2o) (0.8.9)\n",
            "Requirement already satisfied: future in /usr/local/lib/python3.7/dist-packages (from h2o) (0.16.0)\n",
            "Requirement already satisfied: chardet<4,>=3.0.2 in /usr/local/lib/python3.7/dist-packages (from requests->h2o) (3.0.4)\n",
            "Requirement already satisfied: certifi>=2017.4.17 in /usr/local/lib/python3.7/dist-packages (from requests->h2o) (2021.10.8)\n",
            "Requirement already satisfied: idna<3,>=2.5 in /usr/local/lib/python3.7/dist-packages (from requests->h2o) (2.10)\n",
            "Requirement already satisfied: urllib3!=1.25.0,!=1.25.1,<1.26,>=1.21.1 in /usr/local/lib/python3.7/dist-packages (from requests->h2o) (1.24.3)\n",
            "Building wheels for collected packages: h2o\n",
            "  Building wheel for h2o (setup.py) ... \u001b[?25l\u001b[?25hdone\n",
            "  Created wheel for h2o: filename=h2o-3.36.0.2-py2.py3-none-any.whl size=176112127 sha256=bae10ff82125196c1955d5ee590a7176b827cce18aeb07df28fce44555851f0d\n",
            "  Stored in directory: /root/.cache/pip/wheels/0b/83/bd/343a6140119b4098103e725e1cfe9f198568d13cf103acbc7c\n",
            "Successfully built h2o\n",
            "Installing collected packages: h2o\n",
            "Successfully installed h2o-3.36.0.2\n"
          ]
        }
      ]
    },
    {
      "cell_type": "code",
      "source": [
        "import h2o\n",
        "from h2o.automl import H2OAutoML\n"
      ],
      "metadata": {
        "id": "GCr6u-mmzIjk"
      },
      "execution_count": null,
      "outputs": []
    },
    {
      "cell_type": "code",
      "source": [
        "# Start the H2O cluster (locally)\n",
        "h2o.init()\n"
      ],
      "metadata": {
        "colab": {
          "base_uri": "https://localhost:8080/",
          "height": 547
        },
        "id": "Sg630H2ZxpLx",
        "outputId": "aa36944d-89fc-4003-9e40-2475b7955933"
      },
      "execution_count": null,
      "outputs": [
        {
          "output_type": "stream",
          "name": "stdout",
          "text": [
            "Checking whether there is an H2O instance running at http://localhost:54321 ..... not found.\n",
            "Attempting to start a local H2O server...\n",
            "  Java Version: openjdk version \"11.0.13\" 2021-10-19; OpenJDK Runtime Environment (build 11.0.13+8-Ubuntu-0ubuntu1.18.04); OpenJDK 64-Bit Server VM (build 11.0.13+8-Ubuntu-0ubuntu1.18.04, mixed mode, sharing)\n",
            "  Starting server from /usr/local/lib/python3.7/dist-packages/h2o/backend/bin/h2o.jar\n",
            "  Ice root: /tmp/tmp9wuwvzzt\n",
            "  JVM stdout: /tmp/tmp9wuwvzzt/h2o_unknownUser_started_from_python.out\n",
            "  JVM stderr: /tmp/tmp9wuwvzzt/h2o_unknownUser_started_from_python.err\n",
            "  Server is running at http://127.0.0.1:54321\n",
            "Connecting to H2O server at http://127.0.0.1:54321 ... successful.\n"
          ]
        },
        {
          "output_type": "display_data",
          "data": {
            "text/html": [
              "<div style=\"overflow:auto\"><table style=\"width:50%\"><tr><td>H2O_cluster_uptime:</td>\n",
              "<td>03 secs</td></tr>\n",
              "<tr><td>H2O_cluster_timezone:</td>\n",
              "<td>Etc/UTC</td></tr>\n",
              "<tr><td>H2O_data_parsing_timezone:</td>\n",
              "<td>UTC</td></tr>\n",
              "<tr><td>H2O_cluster_version:</td>\n",
              "<td>3.36.0.2</td></tr>\n",
              "<tr><td>H2O_cluster_version_age:</td>\n",
              "<td>11 days </td></tr>\n",
              "<tr><td>H2O_cluster_name:</td>\n",
              "<td>H2O_from_python_unknownUser_tewttp</td></tr>\n",
              "<tr><td>H2O_cluster_total_nodes:</td>\n",
              "<td>1</td></tr>\n",
              "<tr><td>H2O_cluster_free_memory:</td>\n",
              "<td>3.172 Gb</td></tr>\n",
              "<tr><td>H2O_cluster_total_cores:</td>\n",
              "<td>2</td></tr>\n",
              "<tr><td>H2O_cluster_allowed_cores:</td>\n",
              "<td>2</td></tr>\n",
              "<tr><td>H2O_cluster_status:</td>\n",
              "<td>locked, healthy</td></tr>\n",
              "<tr><td>H2O_connection_url:</td>\n",
              "<td>http://127.0.0.1:54321</td></tr>\n",
              "<tr><td>H2O_connection_proxy:</td>\n",
              "<td>{\"http\": null, \"https\": null}</td></tr>\n",
              "<tr><td>H2O_internal_security:</td>\n",
              "<td>False</td></tr>\n",
              "<tr><td>H2O_API_Extensions:</td>\n",
              "<td>Amazon S3, XGBoost, Algos, Infogram, AutoML, Core V3, TargetEncoder, Core V4</td></tr>\n",
              "<tr><td>Python_version:</td>\n",
              "<td>3.7.12 final</td></tr></table></div>"
            ],
            "text/plain": [
              "--------------------------  ----------------------------------------------------------------------------\n",
              "H2O_cluster_uptime:         03 secs\n",
              "H2O_cluster_timezone:       Etc/UTC\n",
              "H2O_data_parsing_timezone:  UTC\n",
              "H2O_cluster_version:        3.36.0.2\n",
              "H2O_cluster_version_age:    11 days\n",
              "H2O_cluster_name:           H2O_from_python_unknownUser_tewttp\n",
              "H2O_cluster_total_nodes:    1\n",
              "H2O_cluster_free_memory:    3.172 Gb\n",
              "H2O_cluster_total_cores:    2\n",
              "H2O_cluster_allowed_cores:  2\n",
              "H2O_cluster_status:         locked, healthy\n",
              "H2O_connection_url:         http://127.0.0.1:54321\n",
              "H2O_connection_proxy:       {\"http\": null, \"https\": null}\n",
              "H2O_internal_security:      False\n",
              "H2O_API_Extensions:         Amazon S3, XGBoost, Algos, Infogram, AutoML, Core V3, TargetEncoder, Core V4\n",
              "Python_version:             3.7.12 final\n",
              "--------------------------  ----------------------------------------------------------------------------"
            ]
          },
          "metadata": {}
        }
      ]
    },
    {
      "cell_type": "code",
      "source": [
        "aml = H2OAutoML(max_runtime_secs=300,max_models = 20, seed = 10, verbosity=\"info\", nfolds=2)\n"
      ],
      "metadata": {
        "id": "8gpAO3Tyy7rf"
      },
      "execution_count": null,
      "outputs": []
    },
    {
      "cell_type": "code",
      "source": [
        "df = h2o.import_file(\"/content/drive/MyDrive/Cascade Cup IIT Guwahati/train.csv/train.csv\")\n"
      ],
      "metadata": {
        "colab": {
          "base_uri": "https://localhost:8080/"
        },
        "id": "iWRfa-SRzvxF",
        "outputId": "47d15f12-9939-4d32-d98b-5ce7691a55bb"
      },
      "execution_count": null,
      "outputs": [
        {
          "output_type": "stream",
          "name": "stdout",
          "text": [
            "Parse progress: |████████████████████████████████████████████████████████████████| (done) 100%\n"
          ]
        }
      ]
    },
    {
      "cell_type": "code",
      "source": [
        "test = h2o.import_file(\"/content/drive/MyDrive/Cascade Cup IIT Guwahati/test.csv/test.csv\")\n"
      ],
      "metadata": {
        "colab": {
          "base_uri": "https://localhost:8080/"
        },
        "id": "VLfxorsPE5GD",
        "outputId": "59ed062f-afe4-4202-89ab-4925289df9af"
      },
      "execution_count": null,
      "outputs": [
        {
          "output_type": "stream",
          "name": "stdout",
          "text": [
            "Parse progress: |████████████████████████████████████████████████████████████████| (done) 100%\n"
          ]
        }
      ]
    },
    {
      "cell_type": "code",
      "source": [
        "xtest = df.columns  ## Independent variable\n",
        "xtest.remove('delivered_time')\n",
        "xtest.remove('pickup_time')\n",
        "xtest.remove('cancelled_time')"
      ],
      "metadata": {
        "id": "PrXQQv_wFBxc"
      },
      "execution_count": null,
      "outputs": []
    },
    {
      "cell_type": "code",
      "source": [
        "df_train,df_test= df.split_frame(ratios=[.8])\n"
      ],
      "metadata": {
        "id": "GN16AALlzkUs"
      },
      "execution_count": null,
      "outputs": []
    },
    {
      "cell_type": "code",
      "source": [
        "y = \"cancelled\"  ## dependent variable\n",
        "x = df.columns  ## Independent variable\n",
        "x.remove(y)\n",
        "x.remove('delivered_time')\n",
        "x.remove('pickup_time')\n",
        "x.remove('cancelled_time')\n"
      ],
      "metadata": {
        "id": "By5rKkmt0MY2"
      },
      "execution_count": null,
      "outputs": []
    },
    {
      "cell_type": "code",
      "source": [
        "aml.train(x=x,y=y, training_frame=df)\n"
      ],
      "metadata": {
        "colab": {
          "base_uri": "https://localhost:8080/"
        },
        "id": "FEmL-0S5zVY_",
        "outputId": "edbbf339-c1a6-4298-c639-0c1a7c09178c"
      },
      "execution_count": null,
      "outputs": [
        {
          "output_type": "stream",
          "name": "stdout",
          "text": [
            "AutoML progress: |\n",
            "17:27:02.755: Project: AutoML_1_20220206_172702\n",
            "17:27:02.795: Setting stopping tolerance adaptively based on the training frame: 0.0014907119849998597\n",
            "17:27:02.795: Build control seed: 10\n",
            "17:27:02.803: training frame: Frame key: AutoML_1_20220206_172702_training_train.hex    cols: 20    rows: 450000  chunks: 8    size: 33108968  checksum: 6505914065297589928\n",
            "17:27:02.804: validation frame: NULL\n",
            "17:27:02.810: leaderboard frame: NULL\n",
            "17:27:02.812: blending frame: NULL\n",
            "17:27:02.812: response column: cancelled\n",
            "17:27:02.812: fold column: null\n",
            "17:27:02.813: weights column: null\n",
            "17:27:02.863: Loading execution steps: [{XGBoost : [def_2 (1g, 10w), def_1 (2g, 10w), def_3 (3g, 10w), grid_1 (4g, 90w), lr_search (6g, 30w)]}, {GLM : [def_1 (1g, 10w)]}, {DRF : [def_1 (2g, 10w), XRT (3g, 10w)]}, {GBM : [def_5 (1g, 10w), def_2 (2g, 10w), def_3 (2g, 10w), def_4 (2g, 10w), def_1 (3g, 10w), grid_1 (4g, 60w), lr_annealing (6g, 10w)]}, {DeepLearning : [def_1 (3g, 10w), grid_1 (4g, 30w), grid_2 (5g, 30w), grid_3 (5g, 30w)]}, {completion : [resume_best_grids (10g, 60w)]}, {StackedEnsemble : [best_of_family_1 (1g, 5w), best_of_family_2 (2g, 5w), best_of_family_3 (3g, 5w), best_of_family_4 (4g, 5w), best_of_family_5 (5g, 5w), all_2 (2g, 10w), all_3 (3g, 10w), all_4 (4g, 10w), all_5 (5g, 10w), monotonic (6g, 10w), best_of_family_xgboost (6g, 10w), best_of_family_gbm (6g, 10w), all_xgboost (7g, 10w), all_gbm (7g, 10w), best_of_family_xglm (8g, 10w), all_xglm (8g, 10w), best_of_family (10g, 10w), best_N (10g, 10w)]}]\n",
            "17:27:02.977: AutoML job created: 2022.02.06 17:27:02.697\n",
            "17:27:02.978: AutoML build started: 2022.02.06 17:27:02.977\n",
            "17:27:02.997: AutoML: starting XGBoost_1_AutoML_1_20220206_172702 model training\n",
            "17:27:03.23: _response param, Response is numeric, so the regression model will be trained. However, the cardinality is equaled to two, so if you want to train a classification model, convert the response column to categorical before training.\n",
            "\n",
            "█████████████████████\n",
            "17:28:40.138: New leader: XGBoost_1_AutoML_1_20220206_172702, mean_residual_deviance: 0.01061383351269095\n",
            "17:28:40.149: AutoML: starting GLM_1_AutoML_1_20220206_172702 model training\n",
            "17:28:40.151: _train param, Dropping bad and constant columns: [reassigned_order]\n",
            "17:28:40.151: _response param, Response is numeric, so the regression model will be trained. However, the cardinality is equaled to two, so if you want to train a classification model, convert the response column to categorical before training.\n",
            "\n",
            "██████████\n",
            "17:29:28.178: AutoML: starting GBM_1_AutoML_1_20220206_172702 model training\n",
            "17:29:28.181: _response param, Response is numeric, so the regression model will be trained. However, the cardinality is equaled to two, so if you want to train a classification model, convert the response column to categorical before training.\n",
            "\n",
            "██████████████████\n",
            "17:30:55.254: AutoML: starting StackedEnsemble_BestOfFamily_1_AutoML_1_20220206_172702 model training\n",
            "17:30:55.264: _response param, Response is numeric, so the regression model will be trained. However, the cardinality is equaled to two, so if you want to train a classification model, convert the response column to categorical before training.\n",
            "\n",
            "\n",
            "17:30:58.291: New leader: StackedEnsemble_BestOfFamily_1_AutoML_1_20220206_172702, mean_residual_deviance: 0.01043734910354188\n",
            "17:30:58.292: AutoML: starting XGBoost_2_AutoML_1_20220206_172702 model training\n",
            "17:30:58.297: _response param, Response is numeric, so the regression model will be trained. However, the cardinality is equaled to two, so if you want to train a classification model, convert the response column to categorical before training.\n",
            "\n",
            "███\n",
            "17:31:10.311: AutoML: starting DRF_1_AutoML_1_20220206_172702 model training\n",
            "17:31:10.313: _response param, Response is numeric, so the regression model will be trained. However, the cardinality is equaled to two, so if you want to train a classification model, convert the response column to categorical before training.\n",
            "\n",
            "██\n",
            "17:31:22.336: AutoML: starting GBM_2_AutoML_1_20220206_172702 model training\n",
            "17:31:22.338: _response param, Response is numeric, so the regression model will be trained. However, the cardinality is equaled to two, so if you want to train a classification model, convert the response column to categorical before training.\n",
            "\n",
            "██\n",
            "17:31:32.344: AutoML: starting GBM_3_AutoML_1_20220206_172702 model training\n",
            "17:31:32.345: _response param, Response is numeric, so the regression model will be trained. However, the cardinality is equaled to two, so if you want to train a classification model, convert the response column to categorical before training.\n",
            "\n",
            "██\n",
            "17:31:42.351: AutoML: starting GBM_4_AutoML_1_20220206_172702 model training\n",
            "17:31:42.353: _response param, Response is numeric, so the regression model will be trained. However, the cardinality is equaled to two, so if you want to train a classification model, convert the response column to categorical before training.\n",
            "\n",
            "██\n",
            "17:31:52.360: AutoML: starting StackedEnsemble_BestOfFamily_2_AutoML_1_20220206_172702 model training\n",
            "17:31:52.360: _response param, Response is numeric, so the regression model will be trained. However, the cardinality is equaled to two, so if you want to train a classification model, convert the response column to categorical before training.\n",
            "\n",
            "█\n",
            "17:31:54.365: New leader: StackedEnsemble_BestOfFamily_2_AutoML_1_20220206_172702, mean_residual_deviance: 0.010433144576666773\n",
            "17:31:54.366: AutoML: starting StackedEnsemble_AllModels_1_AutoML_1_20220206_172702 model training\n",
            "17:31:54.371: _response param, Response is numeric, so the regression model will be trained. However, the cardinality is equaled to two, so if you want to train a classification model, convert the response column to categorical before training.\n",
            "\n",
            "\n",
            "17:31:57.391: New leader: StackedEnsemble_AllModels_1_AutoML_1_20220206_172702, mean_residual_deviance: 0.010307734391173318\n",
            "17:31:57.392: AutoML: starting XGBoost_3_AutoML_1_20220206_172702 model training\n",
            "17:31:57.393: _response param, Response is numeric, so the regression model will be trained. However, the cardinality is equaled to two, so if you want to train a classification model, convert the response column to categorical before training.\n",
            "\n",
            "██| (done) 100%\n",
            "\n",
            "17:32:03.397: Actual modeling steps: [{XGBoost : [def_2 (1g, 10w)]}, {GLM : [def_1 (1g, 10w)]}, {GBM : [def_5 (1g, 10w)]}, {StackedEnsemble : [best_of_family_1 (1g, 5w)]}, {XGBoost : [def_1 (2g, 10w)]}, {DRF : [def_1 (2g, 10w)]}, {GBM : [def_2 (2g, 10w), def_3 (2g, 10w), def_4 (2g, 10w)]}, {StackedEnsemble : [best_of_family_2 (2g, 5w), all_2 (2g, 10w)]}, {XGBoost : [def_3 (3g, 10w)]}]\n",
            "17:32:03.397: AutoML build stopped: 2022.02.06 17:32:03.397\n",
            "17:32:03.397: AutoML build done: built 9 models\n",
            "17:32:03.397: AutoML duration:  5 min  0.420 sec\n",
            "\n",
            "Model Details\n",
            "=============\n",
            "H2OStackedEnsembleEstimator :  Stacked Ensemble\n",
            "Model Key:  StackedEnsemble_AllModels_1_AutoML_1_20220206_172702\n",
            "\n",
            "No model summary for this model\n",
            "\n",
            "ModelMetricsRegressionGLM: stackedensemble\n",
            "** Reported on train data. **\n",
            "\n",
            "MSE: 0.00857646982539695\n",
            "RMSE: 0.09260923185836793\n",
            "MAE: 0.018696673903599092\n",
            "RMSLE: 0.06401010179886639\n",
            "R^2: 0.1608458751504872\n",
            "Mean Residual Deviance: 0.00857646982539695\n",
            "Null degrees of freedom: 9876\n",
            "Residual degrees of freedom: 9870\n",
            "Null deviance: 100.96253755332184\n",
            "Residual deviance: 84.70979246544567\n",
            "AIC: -18956.292993401406\n",
            "\n",
            "ModelMetricsRegressionGLM: stackedensemble\n",
            "** Reported on cross-validation data. **\n",
            "\n",
            "MSE: 0.010307734391173318\n",
            "RMSE: 0.10152701311066586\n",
            "MAE: 0.020653556559639213\n",
            "RMSLE: 0.07073236115115013\n",
            "R^2: 0.10063295773576264\n",
            "Mean Residual Deviance: 0.010307734391173318\n",
            "Null degrees of freedom: 449999\n",
            "Residual degrees of freedom: 449992\n",
            "Null deviance: 5157.510953434965\n",
            "Residual deviance: 4638.480476027993\n",
            "AIC: -781624.6593146918\n"
          ]
        },
        {
          "output_type": "execute_result",
          "data": {
            "text/plain": [
              ""
            ]
          },
          "metadata": {},
          "execution_count": 101
        }
      ]
    },
    {
      "cell_type": "code",
      "source": [
        "lb = aml.leaderboard\n",
        "lb"
      ],
      "metadata": {
        "colab": {
          "base_uri": "https://localhost:8080/",
          "height": 249
        },
        "id": "XoRVKOBE0rtn",
        "outputId": "8388ae79-0156-43af-f3bb-1852cb2455f8"
      },
      "execution_count": null,
      "outputs": [
        {
          "output_type": "display_data",
          "data": {
            "text/html": [
              "<table>\n",
              "<thead>\n",
              "<tr><th>model_id                                               </th><th style=\"text-align: right;\">  mean_residual_deviance</th><th style=\"text-align: right;\">    rmse</th><th style=\"text-align: right;\">      mse</th><th style=\"text-align: right;\">      mae</th><th style=\"text-align: right;\">    rmsle</th></tr>\n",
              "</thead>\n",
              "<tbody>\n",
              "<tr><td>StackedEnsemble_AllModels_1_AutoML_1_20220206_172702   </td><td style=\"text-align: right;\">               0.0103077</td><td style=\"text-align: right;\">0.101527</td><td style=\"text-align: right;\">0.0103077</td><td style=\"text-align: right;\">0.0206536</td><td style=\"text-align: right;\">0.0707324</td></tr>\n",
              "<tr><td>StackedEnsemble_BestOfFamily_2_AutoML_1_20220206_172702</td><td style=\"text-align: right;\">               0.0104331</td><td style=\"text-align: right;\">0.102143</td><td style=\"text-align: right;\">0.0104331</td><td style=\"text-align: right;\">0.0210422</td><td style=\"text-align: right;\">0.0712629</td></tr>\n",
              "<tr><td>StackedEnsemble_BestOfFamily_1_AutoML_1_20220206_172702</td><td style=\"text-align: right;\">               0.0104373</td><td style=\"text-align: right;\">0.102163</td><td style=\"text-align: right;\">0.0104373</td><td style=\"text-align: right;\">0.0210644</td><td style=\"text-align: right;\">0.0712787</td></tr>\n",
              "<tr><td>XGBoost_1_AutoML_1_20220206_172702                     </td><td style=\"text-align: right;\">               0.0106138</td><td style=\"text-align: right;\">0.103023</td><td style=\"text-align: right;\">0.0106138</td><td style=\"text-align: right;\">0.0256904</td><td style=\"text-align: right;\">0.0727119</td></tr>\n",
              "<tr><td>GBM_1_AutoML_1_20220206_172702                         </td><td style=\"text-align: right;\">               0.0108109</td><td style=\"text-align: right;\">0.103975</td><td style=\"text-align: right;\">0.0108109</td><td style=\"text-align: right;\">0.0218647</td><td style=\"text-align: right;\">0.072255 </td></tr>\n",
              "<tr><td>GBM_2_AutoML_1_20220206_172702                         </td><td style=\"text-align: right;\">               0.0108742</td><td style=\"text-align: right;\">0.10428 </td><td style=\"text-align: right;\">0.0108742</td><td style=\"text-align: right;\">0.0221775</td><td style=\"text-align: right;\">0.0719719</td></tr>\n",
              "<tr><td>GBM_3_AutoML_1_20220206_172702                         </td><td style=\"text-align: right;\">               0.0109409</td><td style=\"text-align: right;\">0.104599</td><td style=\"text-align: right;\">0.0109409</td><td style=\"text-align: right;\">0.0222711</td><td style=\"text-align: right;\">0.0721876</td></tr>\n",
              "<tr><td>GBM_4_AutoML_1_20220206_172702                         </td><td style=\"text-align: right;\">               0.0109728</td><td style=\"text-align: right;\">0.104751</td><td style=\"text-align: right;\">0.0109728</td><td style=\"text-align: right;\">0.0223514</td><td style=\"text-align: right;\">0.0723649</td></tr>\n",
              "<tr><td>GLM_1_AutoML_1_20220206_172702                         </td><td style=\"text-align: right;\">               0.0110684</td><td style=\"text-align: right;\">0.105206</td><td style=\"text-align: right;\">0.0110684</td><td style=\"text-align: right;\">0.0225015</td><td style=\"text-align: right;\">0.0730352</td></tr>\n",
              "<tr><td>DRF_1_AutoML_1_20220206_172702                         </td><td style=\"text-align: right;\">               0.0125846</td><td style=\"text-align: right;\">0.112181</td><td style=\"text-align: right;\">0.0125846</td><td style=\"text-align: right;\">0.0218904</td><td style=\"text-align: right;\">0.0801497</td></tr>\n",
              "</tbody>\n",
              "</table>"
            ]
          },
          "metadata": {}
        },
        {
          "output_type": "execute_result",
          "data": {
            "text/plain": [
              ""
            ]
          },
          "metadata": {},
          "execution_count": 102
        }
      ]
    },
    {
      "cell_type": "code",
      "source": [
        "model_ids = list(aml.leaderboard['model_id'].as_data_frame().iloc[:,0])\n",
        "model_ids\n"
      ],
      "metadata": {
        "colab": {
          "base_uri": "https://localhost:8080/"
        },
        "id": "wRNrNCyh1GGi",
        "outputId": "45023776-20b5-4699-b989-d4fa95bd149f"
      },
      "execution_count": null,
      "outputs": [
        {
          "output_type": "execute_result",
          "data": {
            "text/plain": [
              "['StackedEnsemble_AllModels_1_AutoML_1_20220206_172702',\n",
              " 'StackedEnsemble_BestOfFamily_2_AutoML_1_20220206_172702',\n",
              " 'StackedEnsemble_BestOfFamily_1_AutoML_1_20220206_172702',\n",
              " 'XGBoost_1_AutoML_1_20220206_172702',\n",
              " 'GBM_1_AutoML_1_20220206_172702',\n",
              " 'GBM_2_AutoML_1_20220206_172702',\n",
              " 'GBM_3_AutoML_1_20220206_172702',\n",
              " 'GBM_4_AutoML_1_20220206_172702',\n",
              " 'GLM_1_AutoML_1_20220206_172702',\n",
              " 'DRF_1_AutoML_1_20220206_172702',\n",
              " 'XGBoost_2_AutoML_1_20220206_172702',\n",
              " 'XGBoost_3_AutoML_1_20220206_172702']"
            ]
          },
          "metadata": {},
          "execution_count": 103
        }
      ]
    },
    {
      "cell_type": "code",
      "source": [
        "aml.leader.model_performance(df_test)\n"
      ],
      "metadata": {
        "colab": {
          "base_uri": "https://localhost:8080/"
        },
        "id": "SI7OBk6G1Kb9",
        "outputId": "ca782ada-98e0-4004-bbe0-a6c5ecd06360"
      },
      "execution_count": null,
      "outputs": [
        {
          "output_type": "stream",
          "name": "stdout",
          "text": [
            "\n",
            "ModelMetricsRegressionGLM: stackedensemble\n",
            "** Reported on test data. **\n",
            "\n",
            "MSE: 0.00956730226696588\n",
            "RMSE: 0.09781258746687913\n",
            "MAE: 0.019764943505416997\n",
            "RMSLE: 0.06758332563953877\n",
            "R^2: 0.1629559111461164\n",
            "Mean Residual Deviance: 0.00956730226696588\n",
            "Null degrees of freedom: 90023\n",
            "Residual degrees of freedom: 90017\n",
            "Null deviance: 1028.9624020768747\n",
            "Residual deviance: 861.2868192813364\n",
            "AIC: -163064.9013929962\n"
          ]
        },
        {
          "output_type": "execute_result",
          "data": {
            "text/plain": [
              ""
            ]
          },
          "metadata": {},
          "execution_count": 104
        }
      ]
    },
    {
      "cell_type": "code",
      "source": [
        "output= h2o.get_model([mid for mid in model_ids if \"StackedEnsemble\" in mid][0])\n",
        "output.params\n"
      ],
      "metadata": {
        "colab": {
          "base_uri": "https://localhost:8080/"
        },
        "id": "MV3vtLNi0wyc",
        "outputId": "a929eae1-dcc8-4e20-b373-00c45220b7bf"
      },
      "execution_count": null,
      "outputs": [
        {
          "output_type": "execute_result",
          "data": {
            "text/plain": [
              "{'auc_type': {'actual': 'AUTO', 'default': 'AUTO', 'input': 'AUTO'},\n",
              " 'base_models': {'actual': [{'URL': None,\n",
              "    '__meta': {'schema_name': 'KeyV3',\n",
              "     'schema_type': 'Key<Keyed>',\n",
              "     'schema_version': 3},\n",
              "    'name': 'XGBoost_1_AutoML_1_20220206_172702',\n",
              "    'type': 'Key<Keyed>'},\n",
              "   {'URL': None,\n",
              "    '__meta': {'schema_name': 'KeyV3',\n",
              "     'schema_type': 'Key<Keyed>',\n",
              "     'schema_version': 3},\n",
              "    'name': 'GBM_1_AutoML_1_20220206_172702',\n",
              "    'type': 'Key<Keyed>'},\n",
              "   {'URL': None,\n",
              "    '__meta': {'schema_name': 'KeyV3',\n",
              "     'schema_type': 'Key<Keyed>',\n",
              "     'schema_version': 3},\n",
              "    'name': 'GBM_2_AutoML_1_20220206_172702',\n",
              "    'type': 'Key<Keyed>'},\n",
              "   {'URL': None,\n",
              "    '__meta': {'schema_name': 'KeyV3',\n",
              "     'schema_type': 'Key<Keyed>',\n",
              "     'schema_version': 3},\n",
              "    'name': 'GBM_3_AutoML_1_20220206_172702',\n",
              "    'type': 'Key<Keyed>'},\n",
              "   {'URL': None,\n",
              "    '__meta': {'schema_name': 'KeyV3',\n",
              "     'schema_type': 'Key<Keyed>',\n",
              "     'schema_version': 3},\n",
              "    'name': 'GBM_4_AutoML_1_20220206_172702',\n",
              "    'type': 'Key<Keyed>'},\n",
              "   {'URL': None,\n",
              "    '__meta': {'schema_name': 'KeyV3',\n",
              "     'schema_type': 'Key<Keyed>',\n",
              "     'schema_version': 3},\n",
              "    'name': 'GLM_1_AutoML_1_20220206_172702',\n",
              "    'type': 'Key<Keyed>'},\n",
              "   {'URL': None,\n",
              "    '__meta': {'schema_name': 'KeyV3',\n",
              "     'schema_type': 'Key<Keyed>',\n",
              "     'schema_version': 3},\n",
              "    'name': 'DRF_1_AutoML_1_20220206_172702',\n",
              "    'type': 'Key<Keyed>'},\n",
              "   {'URL': None,\n",
              "    '__meta': {'schema_name': 'KeyV3',\n",
              "     'schema_type': 'Key<Keyed>',\n",
              "     'schema_version': 3},\n",
              "    'name': 'XGBoost_2_AutoML_1_20220206_172702',\n",
              "    'type': 'Key<Keyed>'}],\n",
              "  'default': [],\n",
              "  'input': [{'URL': None,\n",
              "    '__meta': {'schema_name': 'KeyV3',\n",
              "     'schema_type': 'Key<Keyed>',\n",
              "     'schema_version': 3},\n",
              "    'name': 'XGBoost_1_AutoML_1_20220206_172702',\n",
              "    'type': 'Key<Keyed>'},\n",
              "   {'URL': None,\n",
              "    '__meta': {'schema_name': 'KeyV3',\n",
              "     'schema_type': 'Key<Keyed>',\n",
              "     'schema_version': 3},\n",
              "    'name': 'GBM_1_AutoML_1_20220206_172702',\n",
              "    'type': 'Key<Keyed>'},\n",
              "   {'URL': None,\n",
              "    '__meta': {'schema_name': 'KeyV3',\n",
              "     'schema_type': 'Key<Keyed>',\n",
              "     'schema_version': 3},\n",
              "    'name': 'GBM_2_AutoML_1_20220206_172702',\n",
              "    'type': 'Key<Keyed>'},\n",
              "   {'URL': None,\n",
              "    '__meta': {'schema_name': 'KeyV3',\n",
              "     'schema_type': 'Key<Keyed>',\n",
              "     'schema_version': 3},\n",
              "    'name': 'GBM_3_AutoML_1_20220206_172702',\n",
              "    'type': 'Key<Keyed>'},\n",
              "   {'URL': None,\n",
              "    '__meta': {'schema_name': 'KeyV3',\n",
              "     'schema_type': 'Key<Keyed>',\n",
              "     'schema_version': 3},\n",
              "    'name': 'GBM_4_AutoML_1_20220206_172702',\n",
              "    'type': 'Key<Keyed>'},\n",
              "   {'URL': None,\n",
              "    '__meta': {'schema_name': 'KeyV3',\n",
              "     'schema_type': 'Key<Keyed>',\n",
              "     'schema_version': 3},\n",
              "    'name': 'GLM_1_AutoML_1_20220206_172702',\n",
              "    'type': 'Key<Keyed>'},\n",
              "   {'URL': None,\n",
              "    '__meta': {'schema_name': 'KeyV3',\n",
              "     'schema_type': 'Key<Keyed>',\n",
              "     'schema_version': 3},\n",
              "    'name': 'DRF_1_AutoML_1_20220206_172702',\n",
              "    'type': 'Key<Keyed>'},\n",
              "   {'URL': None,\n",
              "    '__meta': {'schema_name': 'KeyV3',\n",
              "     'schema_type': 'Key<Keyed>',\n",
              "     'schema_version': 3},\n",
              "    'name': 'XGBoost_2_AutoML_1_20220206_172702',\n",
              "    'type': 'Key<Keyed>'}]},\n",
              " 'blending_frame': {'actual': None, 'default': None, 'input': None},\n",
              " 'export_checkpoints_dir': {'actual': None, 'default': None, 'input': None},\n",
              " 'keep_levelone_frame': {'actual': True, 'default': False, 'input': True},\n",
              " 'max_runtime_secs': {'actual': 8.611, 'default': 0.0, 'input': 8.611},\n",
              " 'metalearner_algorithm': {'actual': 'glm',\n",
              "  'default': 'AUTO',\n",
              "  'input': 'AUTO'},\n",
              " 'metalearner_fold_assignment': {'actual': None,\n",
              "  'default': None,\n",
              "  'input': None},\n",
              " 'metalearner_fold_column': {'actual': None, 'default': None, 'input': None},\n",
              " 'metalearner_nfolds': {'actual': 2, 'default': 0, 'input': 2},\n",
              " 'metalearner_params': {'actual': '', 'default': '', 'input': ''},\n",
              " 'metalearner_transform': {'actual': 'NONE',\n",
              "  'default': 'NONE',\n",
              "  'input': 'NONE'},\n",
              " 'model_id': {'actual': {'URL': '/3/Models/StackedEnsemble_AllModels_1_AutoML_1_20220206_172702',\n",
              "   '__meta': {'schema_name': 'ModelKeyV3',\n",
              "    'schema_type': 'Key<Model>',\n",
              "    'schema_version': 3},\n",
              "   'name': 'StackedEnsemble_AllModels_1_AutoML_1_20220206_172702',\n",
              "   'type': 'Key<Model>'},\n",
              "  'default': None,\n",
              "  'input': None},\n",
              " 'offset_column': {'actual': None, 'default': None, 'input': None},\n",
              " 'response_column': {'actual': {'__meta': {'schema_name': 'ColSpecifierV3',\n",
              "    'schema_type': 'VecSpecifier',\n",
              "    'schema_version': 3},\n",
              "   'column_name': 'cancelled',\n",
              "   'is_member_of_frames': None},\n",
              "  'default': None,\n",
              "  'input': {'__meta': {'schema_name': 'ColSpecifierV3',\n",
              "    'schema_type': 'VecSpecifier',\n",
              "    'schema_version': 3},\n",
              "   'column_name': 'cancelled',\n",
              "   'is_member_of_frames': None}},\n",
              " 'score_training_samples': {'actual': 10000, 'default': 10000, 'input': 10000},\n",
              " 'seed': {'actual': 20, 'default': -1, 'input': 20},\n",
              " 'training_frame': {'actual': {'URL': '/3/Frames/AutoML_1_20220206_172702_training_train.hex',\n",
              "   '__meta': {'schema_name': 'FrameKeyV3',\n",
              "    'schema_type': 'Key<Frame>',\n",
              "    'schema_version': 3},\n",
              "   'name': 'AutoML_1_20220206_172702_training_train.hex',\n",
              "   'type': 'Key<Frame>'},\n",
              "  'default': None,\n",
              "  'input': {'URL': '/3/Frames/AutoML_1_20220206_172702_training_train.hex',\n",
              "   '__meta': {'schema_name': 'FrameKeyV3',\n",
              "    'schema_type': 'Key<Frame>',\n",
              "    'schema_version': 3},\n",
              "   'name': 'AutoML_1_20220206_172702_training_train.hex',\n",
              "   'type': 'Key<Frame>'}},\n",
              " 'validation_frame': {'actual': None, 'default': None, 'input': None},\n",
              " 'weights_column': {'actual': None, 'default': None, 'input': None}}"
            ]
          },
          "metadata": {},
          "execution_count": 105
        }
      ]
    },
    {
      "cell_type": "code",
      "source": [
        "aml.leader\n"
      ],
      "metadata": {
        "id": "uo5MeR-K1-NY"
      },
      "execution_count": null,
      "outputs": []
    },
    {
      "cell_type": "code",
      "source": [
        "y_pred=aml.leader.predict(test)\n"
      ],
      "metadata": {
        "colab": {
          "base_uri": "https://localhost:8080/"
        },
        "id": "rnUrbMIl2AvM",
        "outputId": "96056b67-5b7f-4c6a-ac8d-5b0db77b9c20"
      },
      "execution_count": null,
      "outputs": [
        {
          "output_type": "stream",
          "name": "stdout",
          "text": [
            "stackedensemble prediction progress: |███████████████████████████████████████████| (done) 100%\n"
          ]
        }
      ]
    },
    {
      "cell_type": "code",
      "source": [
        "y_pred\n"
      ],
      "metadata": {
        "colab": {
          "base_uri": "https://localhost:8080/",
          "height": 249
        },
        "id": "vgdfaAxy2CsN",
        "outputId": "17af0927-e5ee-4b31-8487-a707f20377f3"
      },
      "execution_count": null,
      "outputs": [
        {
          "output_type": "display_data",
          "data": {
            "text/html": [
              "<table>\n",
              "<thead>\n",
              "<tr><th style=\"text-align: right;\">    predict</th></tr>\n",
              "</thead>\n",
              "<tbody>\n",
              "<tr><td style=\"text-align: right;\"> 0.0119563 </td></tr>\n",
              "<tr><td style=\"text-align: right;\"> 0.0439678 </td></tr>\n",
              "<tr><td style=\"text-align: right;\">-0.00318844</td></tr>\n",
              "<tr><td style=\"text-align: right;\"> 0.0102255 </td></tr>\n",
              "<tr><td style=\"text-align: right;\">-0.00264265</td></tr>\n",
              "<tr><td style=\"text-align: right;\"> 0.0302399 </td></tr>\n",
              "<tr><td style=\"text-align: right;\">-0.00236501</td></tr>\n",
              "<tr><td style=\"text-align: right;\"> 0.0405382 </td></tr>\n",
              "<tr><td style=\"text-align: right;\"> 0.00293561</td></tr>\n",
              "<tr><td style=\"text-align: right;\"> 0.0092175 </td></tr>\n",
              "</tbody>\n",
              "</table>"
            ]
          },
          "metadata": {}
        },
        {
          "output_type": "execute_result",
          "data": {
            "text/plain": [
              ""
            ]
          },
          "metadata": {},
          "execution_count": 121
        }
      ]
    },
    {
      "cell_type": "code",
      "source": [
        "type(y_pred)"
      ],
      "metadata": {
        "colab": {
          "base_uri": "https://localhost:8080/"
        },
        "id": "5pIS4XOB2Eqf",
        "outputId": "30b7d1b4-8aee-4c62-9105-74d367394288"
      },
      "execution_count": null,
      "outputs": [
        {
          "output_type": "execute_result",
          "data": {
            "text/plain": [
              "h2o.frame.H2OFrame"
            ]
          },
          "metadata": {},
          "execution_count": 122
        }
      ]
    },
    {
      "cell_type": "code",
      "source": [
        "prediction = y_pred.as_data_frame()\n"
      ],
      "metadata": {
        "id": "rvd72E5V5k2f"
      },
      "execution_count": null,
      "outputs": []
    },
    {
      "cell_type": "code",
      "source": [
        "prediction"
      ],
      "metadata": {
        "colab": {
          "base_uri": "https://localhost:8080/",
          "height": 423
        },
        "id": "6QeNAYem58X2",
        "outputId": "749c191a-c85d-42c8-f193-cde5b9bb05c2"
      },
      "execution_count": null,
      "outputs": [
        {
          "output_type": "execute_result",
          "data": {
            "text/html": [
              "\n",
              "  <div id=\"df-b0ad451a-b2c4-430a-887d-268f4c6755b2\">\n",
              "    <div class=\"colab-df-container\">\n",
              "      <div>\n",
              "<style scoped>\n",
              "    .dataframe tbody tr th:only-of-type {\n",
              "        vertical-align: middle;\n",
              "    }\n",
              "\n",
              "    .dataframe tbody tr th {\n",
              "        vertical-align: top;\n",
              "    }\n",
              "\n",
              "    .dataframe thead th {\n",
              "        text-align: right;\n",
              "    }\n",
              "</style>\n",
              "<table border=\"1\" class=\"dataframe\">\n",
              "  <thead>\n",
              "    <tr style=\"text-align: right;\">\n",
              "      <th></th>\n",
              "      <th>predict</th>\n",
              "    </tr>\n",
              "  </thead>\n",
              "  <tbody>\n",
              "    <tr>\n",
              "      <th>0</th>\n",
              "      <td>0.011956</td>\n",
              "    </tr>\n",
              "    <tr>\n",
              "      <th>1</th>\n",
              "      <td>0.043968</td>\n",
              "    </tr>\n",
              "    <tr>\n",
              "      <th>2</th>\n",
              "      <td>-0.003188</td>\n",
              "    </tr>\n",
              "    <tr>\n",
              "      <th>3</th>\n",
              "      <td>0.010226</td>\n",
              "    </tr>\n",
              "    <tr>\n",
              "      <th>4</th>\n",
              "      <td>-0.002643</td>\n",
              "    </tr>\n",
              "    <tr>\n",
              "      <th>...</th>\n",
              "      <td>...</td>\n",
              "    </tr>\n",
              "    <tr>\n",
              "      <th>144839</th>\n",
              "      <td>0.945420</td>\n",
              "    </tr>\n",
              "    <tr>\n",
              "      <th>144840</th>\n",
              "      <td>0.948373</td>\n",
              "    </tr>\n",
              "    <tr>\n",
              "      <th>144841</th>\n",
              "      <td>0.943726</td>\n",
              "    </tr>\n",
              "    <tr>\n",
              "      <th>144842</th>\n",
              "      <td>0.929519</td>\n",
              "    </tr>\n",
              "    <tr>\n",
              "      <th>144843</th>\n",
              "      <td>0.942859</td>\n",
              "    </tr>\n",
              "  </tbody>\n",
              "</table>\n",
              "<p>144844 rows × 1 columns</p>\n",
              "</div>\n",
              "      <button class=\"colab-df-convert\" onclick=\"convertToInteractive('df-b0ad451a-b2c4-430a-887d-268f4c6755b2')\"\n",
              "              title=\"Convert this dataframe to an interactive table.\"\n",
              "              style=\"display:none;\">\n",
              "        \n",
              "  <svg xmlns=\"http://www.w3.org/2000/svg\" height=\"24px\"viewBox=\"0 0 24 24\"\n",
              "       width=\"24px\">\n",
              "    <path d=\"M0 0h24v24H0V0z\" fill=\"none\"/>\n",
              "    <path d=\"M18.56 5.44l.94 2.06.94-2.06 2.06-.94-2.06-.94-.94-2.06-.94 2.06-2.06.94zm-11 1L8.5 8.5l.94-2.06 2.06-.94-2.06-.94L8.5 2.5l-.94 2.06-2.06.94zm10 10l.94 2.06.94-2.06 2.06-.94-2.06-.94-.94-2.06-.94 2.06-2.06.94z\"/><path d=\"M17.41 7.96l-1.37-1.37c-.4-.4-.92-.59-1.43-.59-.52 0-1.04.2-1.43.59L10.3 9.45l-7.72 7.72c-.78.78-.78 2.05 0 2.83L4 21.41c.39.39.9.59 1.41.59.51 0 1.02-.2 1.41-.59l7.78-7.78 2.81-2.81c.8-.78.8-2.07 0-2.86zM5.41 20L4 18.59l7.72-7.72 1.47 1.35L5.41 20z\"/>\n",
              "  </svg>\n",
              "      </button>\n",
              "      \n",
              "  <style>\n",
              "    .colab-df-container {\n",
              "      display:flex;\n",
              "      flex-wrap:wrap;\n",
              "      gap: 12px;\n",
              "    }\n",
              "\n",
              "    .colab-df-convert {\n",
              "      background-color: #E8F0FE;\n",
              "      border: none;\n",
              "      border-radius: 50%;\n",
              "      cursor: pointer;\n",
              "      display: none;\n",
              "      fill: #1967D2;\n",
              "      height: 32px;\n",
              "      padding: 0 0 0 0;\n",
              "      width: 32px;\n",
              "    }\n",
              "\n",
              "    .colab-df-convert:hover {\n",
              "      background-color: #E2EBFA;\n",
              "      box-shadow: 0px 1px 2px rgba(60, 64, 67, 0.3), 0px 1px 3px 1px rgba(60, 64, 67, 0.15);\n",
              "      fill: #174EA6;\n",
              "    }\n",
              "\n",
              "    [theme=dark] .colab-df-convert {\n",
              "      background-color: #3B4455;\n",
              "      fill: #D2E3FC;\n",
              "    }\n",
              "\n",
              "    [theme=dark] .colab-df-convert:hover {\n",
              "      background-color: #434B5C;\n",
              "      box-shadow: 0px 1px 3px 1px rgba(0, 0, 0, 0.15);\n",
              "      filter: drop-shadow(0px 1px 2px rgba(0, 0, 0, 0.3));\n",
              "      fill: #FFFFFF;\n",
              "    }\n",
              "  </style>\n",
              "\n",
              "      <script>\n",
              "        const buttonEl =\n",
              "          document.querySelector('#df-b0ad451a-b2c4-430a-887d-268f4c6755b2 button.colab-df-convert');\n",
              "        buttonEl.style.display =\n",
              "          google.colab.kernel.accessAllowed ? 'block' : 'none';\n",
              "\n",
              "        async function convertToInteractive(key) {\n",
              "          const element = document.querySelector('#df-b0ad451a-b2c4-430a-887d-268f4c6755b2');\n",
              "          const dataTable =\n",
              "            await google.colab.kernel.invokeFunction('convertToInteractive',\n",
              "                                                     [key], {});\n",
              "          if (!dataTable) return;\n",
              "\n",
              "          const docLinkHtml = 'Like what you see? Visit the ' +\n",
              "            '<a target=\"_blank\" href=https://colab.research.google.com/notebooks/data_table.ipynb>data table notebook</a>'\n",
              "            + ' to learn more about interactive tables.';\n",
              "          element.innerHTML = '';\n",
              "          dataTable['output_type'] = 'display_data';\n",
              "          await google.colab.output.renderOutput(dataTable, element);\n",
              "          const docLink = document.createElement('div');\n",
              "          docLink.innerHTML = docLinkHtml;\n",
              "          element.appendChild(docLink);\n",
              "        }\n",
              "      </script>\n",
              "    </div>\n",
              "  </div>\n",
              "  "
            ],
            "text/plain": [
              "         predict\n",
              "0       0.011956\n",
              "1       0.043968\n",
              "2      -0.003188\n",
              "3       0.010226\n",
              "4      -0.002643\n",
              "...          ...\n",
              "144839  0.945420\n",
              "144840  0.948373\n",
              "144841  0.943726\n",
              "144842  0.929519\n",
              "144843  0.942859\n",
              "\n",
              "[144844 rows x 1 columns]"
            ]
          },
          "metadata": {},
          "execution_count": 124
        }
      ]
    },
    {
      "cell_type": "code",
      "source": [
        "prediction['cancelled']=np.where(prediction['predict'] > 0.5 , 1,0)"
      ],
      "metadata": {
        "id": "n1LLEOY75-SM"
      },
      "execution_count": null,
      "outputs": []
    },
    {
      "cell_type": "code",
      "source": [
        "prediction['cancelled'].value_counts()"
      ],
      "metadata": {
        "colab": {
          "base_uri": "https://localhost:8080/"
        },
        "id": "iCW1rQtb6KZE",
        "outputId": "cc50ddcf-1b2f-49be-84b7-29e028137c52"
      },
      "execution_count": null,
      "outputs": [
        {
          "output_type": "execute_result",
          "data": {
            "text/plain": [
              "1    144347\n",
              "0       497\n",
              "Name: cancelled, dtype: int64"
            ]
          },
          "metadata": {},
          "execution_count": 126
        }
      ]
    },
    {
      "cell_type": "code",
      "source": [
        "#accuracy_score(y_val, prediction['cancelled'])"
      ],
      "metadata": {
        "colab": {
          "base_uri": "https://localhost:8080/",
          "height": 165
        },
        "id": "vhoExH6m6bhD",
        "outputId": "00132d24-eadf-4a9e-d266-5a3446888f1a"
      },
      "execution_count": null,
      "outputs": [
        {
          "output_type": "error",
          "ename": "NameError",
          "evalue": "ignored",
          "traceback": [
            "\u001b[0;31m---------------------------------------------------------------------------\u001b[0m",
            "\u001b[0;31mNameError\u001b[0m                                 Traceback (most recent call last)",
            "\u001b[0;32m<ipython-input-114-bdee51272c74>\u001b[0m in \u001b[0;36m<module>\u001b[0;34m()\u001b[0m\n\u001b[0;32m----> 1\u001b[0;31m \u001b[0maccuracy_score\u001b[0m\u001b[0;34m(\u001b[0m\u001b[0my_val\u001b[0m\u001b[0;34m,\u001b[0m \u001b[0mprediction\u001b[0m\u001b[0;34m[\u001b[0m\u001b[0;34m'cancelled'\u001b[0m\u001b[0;34m]\u001b[0m\u001b[0;34m)\u001b[0m\u001b[0;34m\u001b[0m\u001b[0;34m\u001b[0m\u001b[0m\n\u001b[0m",
            "\u001b[0;31mNameError\u001b[0m: name 'y_val' is not defined"
          ]
        }
      ]
    },
    {
      "cell_type": "code",
      "source": [
        "final_df = pd.DataFrame()"
      ],
      "metadata": {
        "id": "0VIGQMTJ63vH"
      },
      "execution_count": null,
      "outputs": []
    },
    {
      "cell_type": "code",
      "source": [
        "final_df['order_id'] = X_test['order_id']"
      ],
      "metadata": {
        "id": "ARHbJUeWLLR3"
      },
      "execution_count": null,
      "outputs": []
    },
    {
      "cell_type": "code",
      "source": [
        "final_df['cancelled'] = prediction['cancelled']"
      ],
      "metadata": {
        "id": "bD1a0JnBLLR4"
      },
      "execution_count": null,
      "outputs": []
    },
    {
      "cell_type": "code",
      "source": [
        "final_df.shape"
      ],
      "metadata": {
        "colab": {
          "base_uri": "https://localhost:8080/"
        },
        "outputId": "2236af07-cfe0-4421-e60f-ed9bc0a1641d",
        "id": "7T1V7RBjLLR5"
      },
      "execution_count": null,
      "outputs": [
        {
          "output_type": "execute_result",
          "data": {
            "text/plain": [
              "(144844, 2)"
            ]
          },
          "metadata": {},
          "execution_count": 131
        }
      ]
    },
    {
      "cell_type": "code",
      "source": [
        "final_df.to_csv('./submission_h2o.csv',index = False)"
      ],
      "metadata": {
        "id": "TaZathSLLLR5"
      },
      "execution_count": null,
      "outputs": []
    }
  ]
}